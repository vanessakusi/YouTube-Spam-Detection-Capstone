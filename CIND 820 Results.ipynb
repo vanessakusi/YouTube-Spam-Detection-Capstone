{
 "cells": [
  {
   "cell_type": "code",
   "execution_count": 1,
   "metadata": {},
   "outputs": [],
   "source": [
    "import pandas as pd\n",
    "import seaborn as sns\n",
    "import matplotlib.pyplot as plt\n",
    "\n",
    "import string\n",
    "from string import punctuation\n",
    "import re\n",
    "from textblob import TextBlob\n",
    "from wordcloud import WordCloud, STOPWORDS\n",
    "\n",
    "from scipy.stats import shapiro\n",
    "from scipy.stats import ranksums\n",
    "\n",
    "from sklearn.model_selection import train_test_split\n",
    "from sklearn.feature_extraction.text import CountVectorizer\n",
    "from sklearn.model_selection import cross_val_score\n",
    "from sklearn.model_selection import cross_validate\n",
    "from sklearn.naive_bayes import MultinomialNB, BernoulliNB, GaussianNB\n",
    "from sklearn import svm\n",
    "from sklearn.pipeline import Pipeline\n",
    "\n",
    "from sklearn.metrics import confusion_matrix\n",
    "from sklearn.metrics import f1_score\n",
    "from sklearn.metrics import matthews_corrcoef\n",
    "\n",
    "from sklearn.feature_extraction.text import TfidfTransformer\n",
    "from mlxtend.preprocessing import DenseTransformer\n"
   ]
  },
  {
   "cell_type": "markdown",
   "metadata": {},
   "source": [
    "# Data Preparation"
   ]
  },
  {
   "cell_type": "code",
   "execution_count": 106,
   "metadata": {},
   "outputs": [
    {
     "data": {
      "text/html": [
       "<div>\n",
       "<style scoped>\n",
       "    .dataframe tbody tr th:only-of-type {\n",
       "        vertical-align: middle;\n",
       "    }\n",
       "\n",
       "    .dataframe tbody tr th {\n",
       "        vertical-align: top;\n",
       "    }\n",
       "\n",
       "    .dataframe thead th {\n",
       "        text-align: right;\n",
       "    }\n",
       "</style>\n",
       "<table border=\"1\" class=\"dataframe\">\n",
       "  <thead>\n",
       "    <tr style=\"text-align: right;\">\n",
       "      <th></th>\n",
       "      <th>COMMENT_ID</th>\n",
       "      <th>AUTHOR</th>\n",
       "      <th>DATE</th>\n",
       "      <th>CONTENT</th>\n",
       "      <th>CLASS</th>\n",
       "    </tr>\n",
       "  </thead>\n",
       "  <tbody>\n",
       "    <tr>\n",
       "      <th>0</th>\n",
       "      <td>z13lgffb5w3ddx1ul22qy1wxspy5cpkz504</td>\n",
       "      <td>dharma pal</td>\n",
       "      <td>2015-05-29T02:30:18.971000</td>\n",
       "      <td>Nice song﻿</td>\n",
       "      <td>0</td>\n",
       "    </tr>\n",
       "    <tr>\n",
       "      <th>1</th>\n",
       "      <td>z123dbgb0mqjfxbtz22ucjc5jvzcv3ykj</td>\n",
       "      <td>Tiza Arellano</td>\n",
       "      <td>2015-05-29T00:14:48.748000</td>\n",
       "      <td>I love song ﻿</td>\n",
       "      <td>0</td>\n",
       "    </tr>\n",
       "    <tr>\n",
       "      <th>2</th>\n",
       "      <td>z12quxxp2vutflkxv04cihggzt2azl34pms0k</td>\n",
       "      <td>Prìñçeśś Âliś Łøvê Dømíñø Mâđiś™ ﻿</td>\n",
       "      <td>2015-05-28T21:00:08.607000</td>\n",
       "      <td>I love song ﻿</td>\n",
       "      <td>0</td>\n",
       "    </tr>\n",
       "    <tr>\n",
       "      <th>3</th>\n",
       "      <td>z12icv3ysqvlwth2c23eddlykyqut5z1h</td>\n",
       "      <td>Eric Gonzalez</td>\n",
       "      <td>2015-05-28T20:47:12.193000</td>\n",
       "      <td>860,000,000 lets make it first female to reach...</td>\n",
       "      <td>0</td>\n",
       "    </tr>\n",
       "    <tr>\n",
       "      <th>4</th>\n",
       "      <td>z133stly3kete3tly22petvwdpmghrlli</td>\n",
       "      <td>Analena López</td>\n",
       "      <td>2015-05-28T17:08:29.827000</td>\n",
       "      <td>shakira is best for worldcup﻿</td>\n",
       "      <td>0</td>\n",
       "    </tr>\n",
       "  </tbody>\n",
       "</table>\n",
       "</div>"
      ],
      "text/plain": [
       "                              COMMENT_ID                              AUTHOR  \\\n",
       "0    z13lgffb5w3ddx1ul22qy1wxspy5cpkz504                          dharma pal   \n",
       "1      z123dbgb0mqjfxbtz22ucjc5jvzcv3ykj                       Tiza Arellano   \n",
       "2  z12quxxp2vutflkxv04cihggzt2azl34pms0k  Prìñçeśś Âliś Łøvê Dømíñø Mâđiś™ ﻿   \n",
       "3      z12icv3ysqvlwth2c23eddlykyqut5z1h                       Eric Gonzalez   \n",
       "4      z133stly3kete3tly22petvwdpmghrlli                       Analena López   \n",
       "\n",
       "                         DATE  \\\n",
       "0  2015-05-29T02:30:18.971000   \n",
       "1  2015-05-29T00:14:48.748000   \n",
       "2  2015-05-28T21:00:08.607000   \n",
       "3  2015-05-28T20:47:12.193000   \n",
       "4  2015-05-28T17:08:29.827000   \n",
       "\n",
       "                                             CONTENT  CLASS  \n",
       "0                                         Nice song﻿      0  \n",
       "1                                      I love song ﻿      0  \n",
       "2                                      I love song ﻿      0  \n",
       "3  860,000,000 lets make it first female to reach...      0  \n",
       "4                      shakira is best for worldcup﻿      0  "
      ]
     },
     "execution_count": 106,
     "metadata": {},
     "output_type": "execute_result"
    }
   ],
   "source": [
    "#Importing Data\n",
    "shakira = pd.read_csv('Youtube05-Shakira.csv',encoding='utf-8-sig')\n",
    "shakira.head()"
   ]
  },
  {
   "cell_type": "markdown",
   "metadata": {},
   "source": [
    "## Attributes"
   ]
  },
  {
   "cell_type": "code",
   "execution_count": 5,
   "metadata": {},
   "outputs": [
    {
     "data": {
      "text/plain": [
       "(370, 5)"
      ]
     },
     "execution_count": 5,
     "metadata": {},
     "output_type": "execute_result"
    }
   ],
   "source": [
    "shakira.shape"
   ]
  },
  {
   "cell_type": "markdown",
   "metadata": {},
   "source": [
    "There are 370 observations and 5 attributes"
   ]
  },
  {
   "cell_type": "code",
   "execution_count": 6,
   "metadata": {},
   "outputs": [
    {
     "data": {
      "text/plain": [
       "COMMENT_ID    object\n",
       "AUTHOR        object\n",
       "DATE          object\n",
       "CONTENT       object\n",
       "CLASS          int64\n",
       "dtype: object"
      ]
     },
     "execution_count": 6,
     "metadata": {},
     "output_type": "execute_result"
    }
   ],
   "source": [
    "shakira.dtypes"
   ]
  },
  {
   "cell_type": "code",
   "execution_count": 3,
   "metadata": {},
   "outputs": [
    {
     "data": {
      "text/html": [
       "<div>\n",
       "<style scoped>\n",
       "    .dataframe tbody tr th:only-of-type {\n",
       "        vertical-align: middle;\n",
       "    }\n",
       "\n",
       "    .dataframe tbody tr th {\n",
       "        vertical-align: top;\n",
       "    }\n",
       "\n",
       "    .dataframe thead th {\n",
       "        text-align: right;\n",
       "    }\n",
       "</style>\n",
       "<table border=\"1\" class=\"dataframe\">\n",
       "  <thead>\n",
       "    <tr style=\"text-align: right;\">\n",
       "      <th></th>\n",
       "      <th>COMMENT_ID</th>\n",
       "      <th>AUTHOR</th>\n",
       "      <th>DATE</th>\n",
       "      <th>CONTENT</th>\n",
       "      <th>CLASS</th>\n",
       "    </tr>\n",
       "  </thead>\n",
       "  <tbody>\n",
       "    <tr>\n",
       "      <th>0</th>\n",
       "      <td>z13lgffb5w3ddx1ul22qy1wxspy5cpkz504</td>\n",
       "      <td>dharma pal</td>\n",
       "      <td>2015-05-29 02:30:18.971</td>\n",
       "      <td>Nice song﻿</td>\n",
       "      <td>0</td>\n",
       "    </tr>\n",
       "    <tr>\n",
       "      <th>1</th>\n",
       "      <td>z123dbgb0mqjfxbtz22ucjc5jvzcv3ykj</td>\n",
       "      <td>Tiza Arellano</td>\n",
       "      <td>2015-05-29 00:14:48.748</td>\n",
       "      <td>I love song ﻿</td>\n",
       "      <td>0</td>\n",
       "    </tr>\n",
       "    <tr>\n",
       "      <th>2</th>\n",
       "      <td>z12quxxp2vutflkxv04cihggzt2azl34pms0k</td>\n",
       "      <td>Prìñçeśś Âliś Łøvê Dømíñø Mâđiś™ ﻿</td>\n",
       "      <td>2015-05-28 21:00:08.607</td>\n",
       "      <td>I love song ﻿</td>\n",
       "      <td>0</td>\n",
       "    </tr>\n",
       "  </tbody>\n",
       "</table>\n",
       "</div>"
      ],
      "text/plain": [
       "                              COMMENT_ID                              AUTHOR  \\\n",
       "0    z13lgffb5w3ddx1ul22qy1wxspy5cpkz504                          dharma pal   \n",
       "1      z123dbgb0mqjfxbtz22ucjc5jvzcv3ykj                       Tiza Arellano   \n",
       "2  z12quxxp2vutflkxv04cihggzt2azl34pms0k  Prìñçeśś Âliś Łøvê Dømíñø Mâđiś™ ﻿   \n",
       "\n",
       "                     DATE        CONTENT  CLASS  \n",
       "0 2015-05-29 02:30:18.971     Nice song﻿      0  \n",
       "1 2015-05-29 00:14:48.748  I love song ﻿      0  \n",
       "2 2015-05-28 21:00:08.607  I love song ﻿      0  "
      ]
     },
     "execution_count": 3,
     "metadata": {},
     "output_type": "execute_result"
    }
   ],
   "source": [
    "#Changing Datatype of Date Attribute\n",
    "shakira['DATE']=shakira['DATE'].astype('datetime64[ns]')\n",
    "shakira.head(3)"
   ]
  },
  {
   "cell_type": "markdown",
   "metadata": {},
   "source": [
    "All the attributes except for Class are measured as an object. Class is a categorical variable because it represents spam vs non-spam, however it doesn't need to be converted from integer to object because the classifers that will be used later on in the project needs the variable to be measured as an integer. Date is also read as an object, however I converted it to datetime to be more accurate."
   ]
  },
  {
   "cell_type": "code",
   "execution_count": 8,
   "metadata": {},
   "outputs": [
    {
     "name": "stderr",
     "output_type": "stream",
     "text": [
      "C:\\Users\\Vanessa\\Anaconda3\\lib\\site-packages\\ipykernel_launcher.py:1: FutureWarning: Treating datetime data as categorical rather than numeric in `.describe` is deprecated and will be removed in a future version of pandas. Specify `datetime_is_numeric=True` to silence this warning and adopt the future behavior now.\n",
      "  \"\"\"Entry point for launching an IPython kernel.\n"
     ]
    },
    {
     "data": {
      "text/html": [
       "<div>\n",
       "<style scoped>\n",
       "    .dataframe tbody tr th:only-of-type {\n",
       "        vertical-align: middle;\n",
       "    }\n",
       "\n",
       "    .dataframe tbody tr th {\n",
       "        vertical-align: top;\n",
       "    }\n",
       "\n",
       "    .dataframe thead th {\n",
       "        text-align: right;\n",
       "    }\n",
       "</style>\n",
       "<table border=\"1\" class=\"dataframe\">\n",
       "  <thead>\n",
       "    <tr style=\"text-align: right;\">\n",
       "      <th></th>\n",
       "      <th>COMMENT_ID</th>\n",
       "      <th>AUTHOR</th>\n",
       "      <th>DATE</th>\n",
       "      <th>CONTENT</th>\n",
       "      <th>CLASS</th>\n",
       "    </tr>\n",
       "  </thead>\n",
       "  <tbody>\n",
       "    <tr>\n",
       "      <th>count</th>\n",
       "      <td>370</td>\n",
       "      <td>370</td>\n",
       "      <td>370</td>\n",
       "      <td>370</td>\n",
       "      <td>370.000000</td>\n",
       "    </tr>\n",
       "    <tr>\n",
       "      <th>unique</th>\n",
       "      <td>369</td>\n",
       "      <td>319</td>\n",
       "      <td>369</td>\n",
       "      <td>331</td>\n",
       "      <td>NaN</td>\n",
       "    </tr>\n",
       "    <tr>\n",
       "      <th>top</th>\n",
       "      <td>_2viQ_Qnc68fX3dYsfYuM-m4ELMJvxOQBmBOFHqGOk0</td>\n",
       "      <td>5000palo</td>\n",
       "      <td>2013-10-05 00:57:25.078000</td>\n",
       "      <td>Hi. Check out and share our songs.</td>\n",
       "      <td>NaN</td>\n",
       "    </tr>\n",
       "    <tr>\n",
       "      <th>freq</th>\n",
       "      <td>2</td>\n",
       "      <td>7</td>\n",
       "      <td>2</td>\n",
       "      <td>4</td>\n",
       "      <td>NaN</td>\n",
       "    </tr>\n",
       "    <tr>\n",
       "      <th>first</th>\n",
       "      <td>NaN</td>\n",
       "      <td>NaN</td>\n",
       "      <td>2013-07-12 22:33:27.916000</td>\n",
       "      <td>NaN</td>\n",
       "      <td>NaN</td>\n",
       "    </tr>\n",
       "    <tr>\n",
       "      <th>last</th>\n",
       "      <td>NaN</td>\n",
       "      <td>NaN</td>\n",
       "      <td>2015-05-29 02:30:18.971000</td>\n",
       "      <td>NaN</td>\n",
       "      <td>NaN</td>\n",
       "    </tr>\n",
       "    <tr>\n",
       "      <th>mean</th>\n",
       "      <td>NaN</td>\n",
       "      <td>NaN</td>\n",
       "      <td>NaN</td>\n",
       "      <td>NaN</td>\n",
       "      <td>0.470270</td>\n",
       "    </tr>\n",
       "    <tr>\n",
       "      <th>std</th>\n",
       "      <td>NaN</td>\n",
       "      <td>NaN</td>\n",
       "      <td>NaN</td>\n",
       "      <td>NaN</td>\n",
       "      <td>0.499791</td>\n",
       "    </tr>\n",
       "    <tr>\n",
       "      <th>min</th>\n",
       "      <td>NaN</td>\n",
       "      <td>NaN</td>\n",
       "      <td>NaN</td>\n",
       "      <td>NaN</td>\n",
       "      <td>0.000000</td>\n",
       "    </tr>\n",
       "    <tr>\n",
       "      <th>25%</th>\n",
       "      <td>NaN</td>\n",
       "      <td>NaN</td>\n",
       "      <td>NaN</td>\n",
       "      <td>NaN</td>\n",
       "      <td>0.000000</td>\n",
       "    </tr>\n",
       "    <tr>\n",
       "      <th>50%</th>\n",
       "      <td>NaN</td>\n",
       "      <td>NaN</td>\n",
       "      <td>NaN</td>\n",
       "      <td>NaN</td>\n",
       "      <td>0.000000</td>\n",
       "    </tr>\n",
       "    <tr>\n",
       "      <th>75%</th>\n",
       "      <td>NaN</td>\n",
       "      <td>NaN</td>\n",
       "      <td>NaN</td>\n",
       "      <td>NaN</td>\n",
       "      <td>1.000000</td>\n",
       "    </tr>\n",
       "    <tr>\n",
       "      <th>max</th>\n",
       "      <td>NaN</td>\n",
       "      <td>NaN</td>\n",
       "      <td>NaN</td>\n",
       "      <td>NaN</td>\n",
       "      <td>1.000000</td>\n",
       "    </tr>\n",
       "  </tbody>\n",
       "</table>\n",
       "</div>"
      ],
      "text/plain": [
       "                                         COMMENT_ID    AUTHOR  \\\n",
       "count                                           370       370   \n",
       "unique                                          369       319   \n",
       "top     _2viQ_Qnc68fX3dYsfYuM-m4ELMJvxOQBmBOFHqGOk0  5000palo   \n",
       "freq                                              2         7   \n",
       "first                                           NaN       NaN   \n",
       "last                                            NaN       NaN   \n",
       "mean                                            NaN       NaN   \n",
       "std                                             NaN       NaN   \n",
       "min                                             NaN       NaN   \n",
       "25%                                             NaN       NaN   \n",
       "50%                                             NaN       NaN   \n",
       "75%                                             NaN       NaN   \n",
       "max                                             NaN       NaN   \n",
       "\n",
       "                              DATE                             CONTENT  \\\n",
       "count                          370                                 370   \n",
       "unique                         369                                 331   \n",
       "top     2013-10-05 00:57:25.078000  Hi. Check out and share our songs.   \n",
       "freq                             2                                   4   \n",
       "first   2013-07-12 22:33:27.916000                                 NaN   \n",
       "last    2015-05-29 02:30:18.971000                                 NaN   \n",
       "mean                           NaN                                 NaN   \n",
       "std                            NaN                                 NaN   \n",
       "min                            NaN                                 NaN   \n",
       "25%                            NaN                                 NaN   \n",
       "50%                            NaN                                 NaN   \n",
       "75%                            NaN                                 NaN   \n",
       "max                            NaN                                 NaN   \n",
       "\n",
       "             CLASS  \n",
       "count   370.000000  \n",
       "unique         NaN  \n",
       "top            NaN  \n",
       "freq           NaN  \n",
       "first          NaN  \n",
       "last           NaN  \n",
       "mean      0.470270  \n",
       "std       0.499791  \n",
       "min       0.000000  \n",
       "25%       0.000000  \n",
       "50%       0.000000  \n",
       "75%       1.000000  \n",
       "max       1.000000  "
      ]
     },
     "execution_count": 8,
     "metadata": {},
     "output_type": "execute_result"
    }
   ],
   "source": [
    "shakira.describe(include='all')"
   ]
  },
  {
   "cell_type": "markdown",
   "metadata": {},
   "source": [
    "From the summary of all the attributes you can already see in that in Content there are comments that appear multiple times which could be an indicator of spam. There is also at leat 1 Authour that posts multiple comments which is also an indicator of spam. The dataset also has a Comment_ID which appears twice which could be a duplicate."
   ]
  },
  {
   "cell_type": "markdown",
   "metadata": {},
   "source": [
    "## Looking for Duplicates"
   ]
  },
  {
   "cell_type": "code",
   "execution_count": 4,
   "metadata": {},
   "outputs": [
    {
     "name": "stdout",
     "output_type": "stream",
     "text": [
      "Total Number of Comment_IDs: 370\n",
      "Total Number of Unique Comment_IDs: 369\n"
     ]
    }
   ],
   "source": [
    "print(\"Total Number of Comment_IDs:\",shakira.AUTHOR.shape[0])\n",
    "print(\"Total Number of Unique Comment_IDs:\" , shakira['COMMENT_ID'].nunique())"
   ]
  },
  {
   "cell_type": "code",
   "execution_count": 5,
   "metadata": {},
   "outputs": [
    {
     "name": "stdout",
     "output_type": "stream",
     "text": [
      "                                      COMMENT_ID          AUTHOR  \\\n",
      "212  _2viQ_Qnc68fX3dYsfYuM-m4ELMJvxOQBmBOFHqGOk0  tyler sleetway   \n",
      "\n",
      "                       DATE      CONTENT  CLASS  \n",
      "212 2013-10-05 00:57:25.078  so beutiful      0  \n"
     ]
    }
   ],
   "source": [
    "#Checking for Duplicates\n",
    "duplicated_row = shakira[shakira.duplicated()]\n",
    "print(duplicated_row)\n",
    "#passes over the first occurance of the duplicate and prints the second occurance"
   ]
  },
  {
   "cell_type": "code",
   "execution_count": 6,
   "metadata": {},
   "outputs": [
    {
     "data": {
      "text/html": [
       "<div>\n",
       "<style scoped>\n",
       "    .dataframe tbody tr th:only-of-type {\n",
       "        vertical-align: middle;\n",
       "    }\n",
       "\n",
       "    .dataframe tbody tr th {\n",
       "        vertical-align: top;\n",
       "    }\n",
       "\n",
       "    .dataframe thead th {\n",
       "        text-align: right;\n",
       "    }\n",
       "</style>\n",
       "<table border=\"1\" class=\"dataframe\">\n",
       "  <thead>\n",
       "    <tr style=\"text-align: right;\">\n",
       "      <th></th>\n",
       "      <th>COMMENT_ID</th>\n",
       "      <th>AUTHOR</th>\n",
       "      <th>DATE</th>\n",
       "      <th>CONTENT</th>\n",
       "      <th>CLASS</th>\n",
       "    </tr>\n",
       "  </thead>\n",
       "  <tbody>\n",
       "    <tr>\n",
       "      <th>211</th>\n",
       "      <td>_2viQ_Qnc68fX3dYsfYuM-m4ELMJvxOQBmBOFHqGOk0</td>\n",
       "      <td>tyler sleetway</td>\n",
       "      <td>2013-10-05 00:57:25.078</td>\n",
       "      <td>so beutiful</td>\n",
       "      <td>0</td>\n",
       "    </tr>\n",
       "    <tr>\n",
       "      <th>212</th>\n",
       "      <td>_2viQ_Qnc68fX3dYsfYuM-m4ELMJvxOQBmBOFHqGOk0</td>\n",
       "      <td>tyler sleetway</td>\n",
       "      <td>2013-10-05 00:57:25.078</td>\n",
       "      <td>so beutiful</td>\n",
       "      <td>0</td>\n",
       "    </tr>\n",
       "  </tbody>\n",
       "</table>\n",
       "</div>"
      ],
      "text/plain": [
       "                                      COMMENT_ID          AUTHOR  \\\n",
       "211  _2viQ_Qnc68fX3dYsfYuM-m4ELMJvxOQBmBOFHqGOk0  tyler sleetway   \n",
       "212  _2viQ_Qnc68fX3dYsfYuM-m4ELMJvxOQBmBOFHqGOk0  tyler sleetway   \n",
       "\n",
       "                       DATE      CONTENT  CLASS  \n",
       "211 2013-10-05 00:57:25.078  so beutiful      0  \n",
       "212 2013-10-05 00:57:25.078  so beutiful      0  "
      ]
     },
     "execution_count": 6,
     "metadata": {},
     "output_type": "execute_result"
    }
   ],
   "source": [
    "shakira.loc[(shakira['COMMENT_ID']=='_2viQ_Qnc68fX3dYsfYuM-m4ELMJvxOQBmBOFHqGOk0')]"
   ]
  },
  {
   "cell_type": "code",
   "execution_count": 107,
   "metadata": {},
   "outputs": [
    {
     "data": {
      "text/plain": [
       "(369, 5)"
      ]
     },
     "execution_count": 107,
     "metadata": {},
     "output_type": "execute_result"
    }
   ],
   "source": [
    "#Removing the duplicate\n",
    "shakira = shakira.drop([212])\n",
    "shakira.shape"
   ]
  },
  {
   "cell_type": "markdown",
   "metadata": {},
   "source": [
    "I choose to remove the duplicate because seems to be a dulicate due to error and not an act of spam because the Class is ham, the comment is related to the video, it was posted at the same exact time and the Comment_ID such is suppose to be unique is not."
   ]
  },
  {
   "cell_type": "markdown",
   "metadata": {},
   "source": [
    "## Missing Values"
   ]
  },
  {
   "cell_type": "code",
   "execution_count": 12,
   "metadata": {},
   "outputs": [
    {
     "data": {
      "text/plain": [
       "COMMENT_ID    0\n",
       "AUTHOR        0\n",
       "DATE          0\n",
       "CONTENT       0\n",
       "CLASS         0\n",
       "dtype: int64"
      ]
     },
     "execution_count": 12,
     "metadata": {},
     "output_type": "execute_result"
    }
   ],
   "source": [
    "shakira.isnull().sum(axis=0)"
   ]
  },
  {
   "cell_type": "markdown",
   "metadata": {},
   "source": [
    "There are no missing values"
   ]
  },
  {
   "cell_type": "markdown",
   "metadata": {},
   "source": [
    "## Imbalance in Data"
   ]
  },
  {
   "cell_type": "code",
   "execution_count": 13,
   "metadata": {},
   "outputs": [
    {
     "data": {
      "text/plain": [
       "([<matplotlib.axis.XTick at 0x1da25114208>,\n",
       "  <matplotlib.axis.XTick at 0x1da25109da0>],\n",
       " [Text(0, 0, 'Ham'), Text(1, 0, 'Spam')])"
      ]
     },
     "execution_count": 13,
     "metadata": {},
     "output_type": "execute_result"
    },
    {
     "data": {
      "image/png": "[encoded data removed]",
      "text/plain": [
       "<Figure size 432x288 with 1 Axes>"
      ]
     },
     "metadata": {
      "needs_background": "light"
     },
     "output_type": "display_data"
    }
   ],
   "source": [
    "sns.countplot(x='CLASS', data= shakira)\n",
    "plt.title(\"Imbalance in Class Attribute\")\n",
    "plt.xticks([0, 1], ['Ham', 'Spam'])"
   ]
  },
  {
   "cell_type": "code",
   "execution_count": 14,
   "metadata": {},
   "outputs": [
    {
     "data": {
      "text/plain": [
       "0    196\n",
       "1    174\n",
       "Name: CLASS, dtype: int64"
      ]
     },
     "execution_count": 14,
     "metadata": {},
     "output_type": "execute_result"
    }
   ],
   "source": [
    "shakira['CLASS'].value_counts()"
   ]
  },
  {
   "cell_type": "code",
   "execution_count": 15,
   "metadata": {},
   "outputs": [
    {
     "name": "stdout",
     "output_type": "stream",
     "text": [
      "Percentage of Ham: 52.7\n",
      "Percentage of Spam: 47.03\n"
     ]
    }
   ],
   "source": [
    "print(\"Percentage of Ham:\",round(((195/shakira.shape[0])*100),2))\n",
    "print(\"Percentage of Spam:\",round(((174/shakira.shape[0])*100),2))"
   ]
  },
  {
   "cell_type": "markdown",
   "metadata": {},
   "source": [
    "The data is balanced"
   ]
  },
  {
   "cell_type": "markdown",
   "metadata": {},
   "source": [
    "# Exploratory Analysis "
   ]
  },
  {
   "cell_type": "markdown",
   "metadata": {},
   "source": [
    "## Univariate Analysis"
   ]
  },
  {
   "cell_type": "markdown",
   "metadata": {},
   "source": [
    "### Comment Length"
   ]
  },
  {
   "cell_type": "code",
   "execution_count": 7,
   "metadata": {},
   "outputs": [
    {
     "data": {
      "text/html": [
       "<div>\n",
       "<style scoped>\n",
       "    .dataframe tbody tr th:only-of-type {\n",
       "        vertical-align: middle;\n",
       "    }\n",
       "\n",
       "    .dataframe tbody tr th {\n",
       "        vertical-align: top;\n",
       "    }\n",
       "\n",
       "    .dataframe thead th {\n",
       "        text-align: right;\n",
       "    }\n",
       "</style>\n",
       "<table border=\"1\" class=\"dataframe\">\n",
       "  <thead>\n",
       "    <tr style=\"text-align: right;\">\n",
       "      <th></th>\n",
       "      <th>COMMENT_ID</th>\n",
       "      <th>AUTHOR</th>\n",
       "      <th>DATE</th>\n",
       "      <th>CONTENT</th>\n",
       "      <th>CLASS</th>\n",
       "      <th>CONTENT_LENGTH</th>\n",
       "    </tr>\n",
       "  </thead>\n",
       "  <tbody>\n",
       "    <tr>\n",
       "      <th>0</th>\n",
       "      <td>z13lgffb5w3ddx1ul22qy1wxspy5cpkz504</td>\n",
       "      <td>dharma pal</td>\n",
       "      <td>2015-05-29 02:30:18.971</td>\n",
       "      <td>Nice song﻿</td>\n",
       "      <td>0</td>\n",
       "      <td>10</td>\n",
       "    </tr>\n",
       "    <tr>\n",
       "      <th>1</th>\n",
       "      <td>z123dbgb0mqjfxbtz22ucjc5jvzcv3ykj</td>\n",
       "      <td>Tiza Arellano</td>\n",
       "      <td>2015-05-29 00:14:48.748</td>\n",
       "      <td>I love song ﻿</td>\n",
       "      <td>0</td>\n",
       "      <td>13</td>\n",
       "    </tr>\n",
       "    <tr>\n",
       "      <th>2</th>\n",
       "      <td>z12quxxp2vutflkxv04cihggzt2azl34pms0k</td>\n",
       "      <td>Prìñçeśś Âliś Łøvê Dømíñø Mâđiś™ ﻿</td>\n",
       "      <td>2015-05-28 21:00:08.607</td>\n",
       "      <td>I love song ﻿</td>\n",
       "      <td>0</td>\n",
       "      <td>13</td>\n",
       "    </tr>\n",
       "    <tr>\n",
       "      <th>3</th>\n",
       "      <td>z12icv3ysqvlwth2c23eddlykyqut5z1h</td>\n",
       "      <td>Eric Gonzalez</td>\n",
       "      <td>2015-05-28 20:47:12.193</td>\n",
       "      <td>860,000,000 lets make it first female to reach...</td>\n",
       "      <td>0</td>\n",
       "      <td>86</td>\n",
       "    </tr>\n",
       "    <tr>\n",
       "      <th>4</th>\n",
       "      <td>z133stly3kete3tly22petvwdpmghrlli</td>\n",
       "      <td>Analena López</td>\n",
       "      <td>2015-05-28 17:08:29.827</td>\n",
       "      <td>shakira is best for worldcup﻿</td>\n",
       "      <td>0</td>\n",
       "      <td>29</td>\n",
       "    </tr>\n",
       "  </tbody>\n",
       "</table>\n",
       "</div>"
      ],
      "text/plain": [
       "                              COMMENT_ID                              AUTHOR  \\\n",
       "0    z13lgffb5w3ddx1ul22qy1wxspy5cpkz504                          dharma pal   \n",
       "1      z123dbgb0mqjfxbtz22ucjc5jvzcv3ykj                       Tiza Arellano   \n",
       "2  z12quxxp2vutflkxv04cihggzt2azl34pms0k  Prìñçeśś Âliś Łøvê Dømíñø Mâđiś™ ﻿   \n",
       "3      z12icv3ysqvlwth2c23eddlykyqut5z1h                       Eric Gonzalez   \n",
       "4      z133stly3kete3tly22petvwdpmghrlli                       Analena López   \n",
       "\n",
       "                     DATE                                            CONTENT  \\\n",
       "0 2015-05-29 02:30:18.971                                         Nice song﻿   \n",
       "1 2015-05-29 00:14:48.748                                      I love song ﻿   \n",
       "2 2015-05-28 21:00:08.607                                      I love song ﻿   \n",
       "3 2015-05-28 20:47:12.193  860,000,000 lets make it first female to reach...   \n",
       "4 2015-05-28 17:08:29.827                      shakira is best for worldcup﻿   \n",
       "\n",
       "   CLASS  CONTENT_LENGTH  \n",
       "0      0              10  \n",
       "1      0              13  \n",
       "2      0              13  \n",
       "3      0              86  \n",
       "4      0              29  "
      ]
     },
     "execution_count": 7,
     "metadata": {},
     "output_type": "execute_result"
    }
   ],
   "source": [
    "shakira['CONTENT_LENGTH'] = shakira.CONTENT.apply(lambda x: x.split())\n",
    "#Create a new column based on CONTENT and tokenize the text\n",
    "shakira['CONTENT_LENGTH'] = shakira.CONTENT.apply(lambda x: x.lower())\n",
    "#convert all the characters to lowercase\n",
    "shakira['CONTENT_LENGTH'] = shakira.CONTENT.apply(lambda x: ''.join([c for c in x if c not in punctuation]))\n",
    "#Remove the puncutation\n",
    "shakira['CONTENT_LENGTH']=shakira.CONTENT.apply(lambda x:len(x))\n",
    "#Find the length of each comment\n",
    "shakira.head()"
   ]
  },
  {
   "cell_type": "code",
   "execution_count": 18,
   "metadata": {},
   "outputs": [
    {
     "name": "stdout",
     "output_type": "stream",
     "text": [
      "Average Comment Length: 108.92432432432433\n",
      "Minimum Comment Length: 2\n",
      "Maximum Comment Length: 1125\n"
     ]
    }
   ],
   "source": [
    "print(\"Average Comment Length:\",shakira['CONTENT_LENGTH'].mean())\n",
    "print(\"Minimum Comment Length:\",shakira['CONTENT_LENGTH'].min())\n",
    "print(\"Maximum Comment Length:\",shakira['CONTENT_LENGTH'].max())"
   ]
  },
  {
   "cell_type": "code",
   "execution_count": 19,
   "metadata": {},
   "outputs": [
    {
     "data": {
      "text/plain": [
       "Text(0.5, 1.0, 'Distribution of comment length')"
      ]
     },
     "execution_count": 19,
     "metadata": {},
     "output_type": "execute_result"
    },
    {
     "data": {
      "image/png": "[encoded data removed]",
      "text/plain": [
       "<Figure size 432x288 with 1 Axes>"
      ]
     },
     "metadata": {
      "needs_background": "light"
     },
     "output_type": "display_data"
    }
   ],
   "source": [
    "shakira['CONTENT_LENGTH'].hist(bins=20)\n",
    "plt.title('Distribution of comment length')"
   ]
  },
  {
   "cell_type": "markdown",
   "metadata": {},
   "source": [
    "Most comments in the dataset are less than 50 words meaning that most users leave shorter comments."
   ]
  },
  {
   "cell_type": "markdown",
   "metadata": {},
   "source": [
    "### Dates"
   ]
  },
  {
   "cell_type": "code",
   "execution_count": 20,
   "metadata": {},
   "outputs": [
    {
     "data": {
      "text/html": [
       "<div>\n",
       "<style scoped>\n",
       "    .dataframe tbody tr th:only-of-type {\n",
       "        vertical-align: middle;\n",
       "    }\n",
       "\n",
       "    .dataframe tbody tr th {\n",
       "        vertical-align: top;\n",
       "    }\n",
       "\n",
       "    .dataframe thead th {\n",
       "        text-align: right;\n",
       "    }\n",
       "</style>\n",
       "<table border=\"1\" class=\"dataframe\">\n",
       "  <thead>\n",
       "    <tr style=\"text-align: right;\">\n",
       "      <th></th>\n",
       "      <th>COMMENT_ID</th>\n",
       "      <th>AUTHOR</th>\n",
       "      <th>DATE</th>\n",
       "      <th>CONTENT</th>\n",
       "      <th>CLASS</th>\n",
       "      <th>CONTENT_LENGTH</th>\n",
       "      <th>YEAR_MONTH</th>\n",
       "    </tr>\n",
       "  </thead>\n",
       "  <tbody>\n",
       "    <tr>\n",
       "      <th>0</th>\n",
       "      <td>z13lgffb5w3ddx1ul22qy1wxspy5cpkz504</td>\n",
       "      <td>dharma pal</td>\n",
       "      <td>2015-05-29 02:30:18.971</td>\n",
       "      <td>Nice song﻿</td>\n",
       "      <td>0</td>\n",
       "      <td>10</td>\n",
       "      <td>2015-05</td>\n",
       "    </tr>\n",
       "    <tr>\n",
       "      <th>1</th>\n",
       "      <td>z123dbgb0mqjfxbtz22ucjc5jvzcv3ykj</td>\n",
       "      <td>Tiza Arellano</td>\n",
       "      <td>2015-05-29 00:14:48.748</td>\n",
       "      <td>I love song ﻿</td>\n",
       "      <td>0</td>\n",
       "      <td>13</td>\n",
       "      <td>2015-05</td>\n",
       "    </tr>\n",
       "    <tr>\n",
       "      <th>2</th>\n",
       "      <td>z12quxxp2vutflkxv04cihggzt2azl34pms0k</td>\n",
       "      <td>Prìñçeśś Âliś Łøvê Dømíñø Mâđiś™ ﻿</td>\n",
       "      <td>2015-05-28 21:00:08.607</td>\n",
       "      <td>I love song ﻿</td>\n",
       "      <td>0</td>\n",
       "      <td>13</td>\n",
       "      <td>2015-05</td>\n",
       "    </tr>\n",
       "    <tr>\n",
       "      <th>3</th>\n",
       "      <td>z12icv3ysqvlwth2c23eddlykyqut5z1h</td>\n",
       "      <td>Eric Gonzalez</td>\n",
       "      <td>2015-05-28 20:47:12.193</td>\n",
       "      <td>860,000,000 lets make it first female to reach...</td>\n",
       "      <td>0</td>\n",
       "      <td>86</td>\n",
       "      <td>2015-05</td>\n",
       "    </tr>\n",
       "    <tr>\n",
       "      <th>4</th>\n",
       "      <td>z133stly3kete3tly22petvwdpmghrlli</td>\n",
       "      <td>Analena López</td>\n",
       "      <td>2015-05-28 17:08:29.827</td>\n",
       "      <td>shakira is best for worldcup﻿</td>\n",
       "      <td>0</td>\n",
       "      <td>29</td>\n",
       "      <td>2015-05</td>\n",
       "    </tr>\n",
       "  </tbody>\n",
       "</table>\n",
       "</div>"
      ],
      "text/plain": [
       "                              COMMENT_ID                              AUTHOR  \\\n",
       "0    z13lgffb5w3ddx1ul22qy1wxspy5cpkz504                          dharma pal   \n",
       "1      z123dbgb0mqjfxbtz22ucjc5jvzcv3ykj                       Tiza Arellano   \n",
       "2  z12quxxp2vutflkxv04cihggzt2azl34pms0k  Prìñçeśś Âliś Łøvê Dømíñø Mâđiś™ ﻿   \n",
       "3      z12icv3ysqvlwth2c23eddlykyqut5z1h                       Eric Gonzalez   \n",
       "4      z133stly3kete3tly22petvwdpmghrlli                       Analena López   \n",
       "\n",
       "                     DATE                                            CONTENT  \\\n",
       "0 2015-05-29 02:30:18.971                                         Nice song﻿   \n",
       "1 2015-05-29 00:14:48.748                                      I love song ﻿   \n",
       "2 2015-05-28 21:00:08.607                                      I love song ﻿   \n",
       "3 2015-05-28 20:47:12.193  860,000,000 lets make it first female to reach...   \n",
       "4 2015-05-28 17:08:29.827                      shakira is best for worldcup﻿   \n",
       "\n",
       "   CLASS  CONTENT_LENGTH YEAR_MONTH  \n",
       "0      0              10    2015-05  \n",
       "1      0              13    2015-05  \n",
       "2      0              13    2015-05  \n",
       "3      0              86    2015-05  \n",
       "4      0              29    2015-05  "
      ]
     },
     "execution_count": 20,
     "metadata": {},
     "output_type": "execute_result"
    }
   ],
   "source": [
    "#extracting the year and month from the DATE attribute\n",
    "shakira['YEAR_MONTH'] = shakira['DATE'].dt.strftime('%Y-%m')\n",
    "shakira.head()"
   ]
  },
  {
   "cell_type": "code",
   "execution_count": 21,
   "metadata": {},
   "outputs": [
    {
     "data": {
      "text/plain": [
       "2015-05    162\n",
       "2013-10     73\n",
       "2013-09     43\n",
       "2013-08     39\n",
       "2013-07     38\n",
       "2015-04      8\n",
       "2013-11      7\n",
       "Name: YEAR_MONTH, dtype: int64"
      ]
     },
     "execution_count": 21,
     "metadata": {},
     "output_type": "execute_result"
    }
   ],
   "source": [
    "shakira['YEAR_MONTH'].value_counts()"
   ]
  },
  {
   "cell_type": "code",
   "execution_count": 22,
   "metadata": {},
   "outputs": [
    {
     "data": {
      "text/plain": [
       "Text(0.5, 1.0, 'Date of Comments')"
      ]
     },
     "execution_count": 22,
     "metadata": {},
     "output_type": "execute_result"
    },
    {
     "data": {
      "image/png": "[encoded data removed]",
      "text/plain": [
       "<Figure size 432x288 with 1 Axes>"
      ]
     },
     "metadata": {
      "needs_background": "light"
     },
     "output_type": "display_data"
    }
   ],
   "source": [
    "sns.countplot(y='YEAR_MONTH', data= shakira)\n",
    "plt.xlabel('Count')\n",
    "plt.ylabel('Date')\n",
    "plt.title('Date of Comments')"
   ]
  },
  {
   "cell_type": "markdown",
   "metadata": {},
   "source": [
    "Most of the observations in the dataset are from May of 2015 and the least observations are from November of 2013."
   ]
  },
  {
   "cell_type": "markdown",
   "metadata": {},
   "source": [
    "### Frequency of Comments"
   ]
  },
  {
   "cell_type": "code",
   "execution_count": 23,
   "metadata": {},
   "outputs": [
    {
     "data": {
      "text/plain": [
       "5000palo                            7\n",
       "Shadrach Grentz                     7\n",
       "Hidden Love                         5\n",
       "James Cook                          4\n",
       "ricky swaggz                        3\n",
       "                                   ..\n",
       "Karol Martinez Restrepo Martinez    1\n",
       "twee gekkos                         1\n",
       "redouane najja                      1\n",
       "liliana ciancio                     1\n",
       "rachel perez                        1\n",
       "Name: AUTHOR, Length: 319, dtype: int64"
      ]
     },
     "execution_count": 23,
     "metadata": {},
     "output_type": "execute_result"
    }
   ],
   "source": [
    "shakira.AUTHOR.value_counts()"
   ]
  },
  {
   "cell_type": "code",
   "execution_count": 25,
   "metadata": {},
   "outputs": [
    {
     "data": {
      "text/plain": [
       "<AxesSubplot:xlabel='count', ylabel='AUTHOR'>"
      ]
     },
     "execution_count": 25,
     "metadata": {},
     "output_type": "execute_result"
    },
    {
     "data": {
      "image/png": "[encoded data removed]",
      "text/plain": [
       "<Figure size 432x288 with 1 Axes>"
      ]
     },
     "metadata": {
      "needs_background": "light"
     },
     "output_type": "display_data"
    }
   ],
   "source": [
    "sns.countplot(y='AUTHOR', data=shakira,\n",
    "              order=shakira.AUTHOR.value_counts().iloc[:11].index)"
   ]
  },
  {
   "cell_type": "code",
   "execution_count": 26,
   "metadata": {},
   "outputs": [
    {
     "data": {
      "text/html": [
       "<div>\n",
       "<style scoped>\n",
       "    .dataframe tbody tr th:only-of-type {\n",
       "        vertical-align: middle;\n",
       "    }\n",
       "\n",
       "    .dataframe tbody tr th {\n",
       "        vertical-align: top;\n",
       "    }\n",
       "\n",
       "    .dataframe thead th {\n",
       "        text-align: right;\n",
       "    }\n",
       "</style>\n",
       "<table border=\"1\" class=\"dataframe\">\n",
       "  <thead>\n",
       "    <tr style=\"text-align: right;\">\n",
       "      <th></th>\n",
       "      <th>COMMENT_ID</th>\n",
       "      <th>AUTHOR</th>\n",
       "      <th>DATE</th>\n",
       "      <th>CONTENT</th>\n",
       "      <th>CLASS</th>\n",
       "      <th>CONTENT_LENGTH</th>\n",
       "      <th>YEAR_MONTH</th>\n",
       "    </tr>\n",
       "  </thead>\n",
       "  <tbody>\n",
       "    <tr>\n",
       "      <th>250</th>\n",
       "      <td>_2viQ_Qnc68dceJbTRNTP2sksMxa_lm35LaCu_jPluY</td>\n",
       "      <td>Shadrach Grentz</td>\n",
       "      <td>2013-09-29 13:59:42.162</td>\n",
       "      <td>Hey Music Fans I really appreciate any of you ...</td>\n",
       "      <td>1</td>\n",
       "      <td>506</td>\n",
       "      <td>2013-09</td>\n",
       "    </tr>\n",
       "    <tr>\n",
       "      <th>328</th>\n",
       "      <td>_2viQ_Qnc69zyetF6GsHRzYGyXl4u5kg0Sm-nP-pupI</td>\n",
       "      <td>Shadrach Grentz</td>\n",
       "      <td>2013-08-02 03:15:46.914</td>\n",
       "      <td>Hey Music Fans I really appreciate any of you ...</td>\n",
       "      <td>1</td>\n",
       "      <td>505</td>\n",
       "      <td>2013-08</td>\n",
       "    </tr>\n",
       "    <tr>\n",
       "      <th>329</th>\n",
       "      <td>_2viQ_Qnc699u36gNm3NRoq1quIaJWRNrftGEEZM3J4</td>\n",
       "      <td>Shadrach Grentz</td>\n",
       "      <td>2013-08-01 21:43:52.122</td>\n",
       "      <td>Hey Music Fans I really appreciate any of you ...</td>\n",
       "      <td>1</td>\n",
       "      <td>506</td>\n",
       "      <td>2013-08</td>\n",
       "    </tr>\n",
       "    <tr>\n",
       "      <th>330</th>\n",
       "      <td>_2viQ_Qnc68LqKGb40V2ImKQYcp1ZqpHrCCMFqMCcA4</td>\n",
       "      <td>Shadrach Grentz</td>\n",
       "      <td>2013-08-01 20:39:15.325</td>\n",
       "      <td>Hey Music Fans I really appreciate any of you ...</td>\n",
       "      <td>1</td>\n",
       "      <td>506</td>\n",
       "      <td>2013-08</td>\n",
       "    </tr>\n",
       "    <tr>\n",
       "      <th>334</th>\n",
       "      <td>_2viQ_Qnc69Nq0Ytk1jCpzWPCrpGEk6T7cdVAxfSlAk</td>\n",
       "      <td>Shadrach Grentz</td>\n",
       "      <td>2013-07-29 17:39:24.876</td>\n",
       "      <td>Hey Music Fans I really appreciate any of you ...</td>\n",
       "      <td>1</td>\n",
       "      <td>506</td>\n",
       "      <td>2013-07</td>\n",
       "    </tr>\n",
       "    <tr>\n",
       "      <th>341</th>\n",
       "      <td>_2viQ_Qnc6_YN7xFNAg14zX99Y614Salf57yOcrBRSw</td>\n",
       "      <td>Shadrach Grentz</td>\n",
       "      <td>2013-07-21 12:21:37.898</td>\n",
       "      <td>Hey Music Fans I really appreciate all of you ...</td>\n",
       "      <td>1</td>\n",
       "      <td>504</td>\n",
       "      <td>2013-07</td>\n",
       "    </tr>\n",
       "    <tr>\n",
       "      <th>358</th>\n",
       "      <td>_2viQ_Qnc6-jk58CPwBnqfbM6oByJH5oPvCtKecLQyo</td>\n",
       "      <td>Shadrach Grentz</td>\n",
       "      <td>2013-07-14 03:11:20.243</td>\n",
       "      <td>Hey Music Fans I really appreciate all of you ...</td>\n",
       "      <td>1</td>\n",
       "      <td>504</td>\n",
       "      <td>2013-07</td>\n",
       "    </tr>\n",
       "  </tbody>\n",
       "</table>\n",
       "</div>"
      ],
      "text/plain": [
       "                                      COMMENT_ID           AUTHOR  \\\n",
       "250  _2viQ_Qnc68dceJbTRNTP2sksMxa_lm35LaCu_jPluY  Shadrach Grentz   \n",
       "328  _2viQ_Qnc69zyetF6GsHRzYGyXl4u5kg0Sm-nP-pupI  Shadrach Grentz   \n",
       "329  _2viQ_Qnc699u36gNm3NRoq1quIaJWRNrftGEEZM3J4  Shadrach Grentz   \n",
       "330  _2viQ_Qnc68LqKGb40V2ImKQYcp1ZqpHrCCMFqMCcA4  Shadrach Grentz   \n",
       "334  _2viQ_Qnc69Nq0Ytk1jCpzWPCrpGEk6T7cdVAxfSlAk  Shadrach Grentz   \n",
       "341  _2viQ_Qnc6_YN7xFNAg14zX99Y614Salf57yOcrBRSw  Shadrach Grentz   \n",
       "358  _2viQ_Qnc6-jk58CPwBnqfbM6oByJH5oPvCtKecLQyo  Shadrach Grentz   \n",
       "\n",
       "                       DATE  \\\n",
       "250 2013-09-29 13:59:42.162   \n",
       "328 2013-08-02 03:15:46.914   \n",
       "329 2013-08-01 21:43:52.122   \n",
       "330 2013-08-01 20:39:15.325   \n",
       "334 2013-07-29 17:39:24.876   \n",
       "341 2013-07-21 12:21:37.898   \n",
       "358 2013-07-14 03:11:20.243   \n",
       "\n",
       "                                               CONTENT  CLASS  CONTENT_LENGTH  \\\n",
       "250  Hey Music Fans I really appreciate any of you ...      1             506   \n",
       "328  Hey Music Fans I really appreciate any of you ...      1             505   \n",
       "329  Hey Music Fans I really appreciate any of you ...      1             506   \n",
       "330  Hey Music Fans I really appreciate any of you ...      1             506   \n",
       "334  Hey Music Fans I really appreciate any of you ...      1             506   \n",
       "341  Hey Music Fans I really appreciate all of you ...      1             504   \n",
       "358  Hey Music Fans I really appreciate all of you ...      1             504   \n",
       "\n",
       "    YEAR_MONTH  \n",
       "250    2013-09  \n",
       "328    2013-08  \n",
       "329    2013-08  \n",
       "330    2013-08  \n",
       "334    2013-07  \n",
       "341    2013-07  \n",
       "358    2013-07  "
      ]
     },
     "execution_count": 26,
     "metadata": {},
     "output_type": "execute_result"
    }
   ],
   "source": [
    "shakira.loc[(shakira['AUTHOR']=='Shadrach Grentz')]\n",
    "#Comments from the top commenter"
   ]
  },
  {
   "cell_type": "markdown",
   "metadata": {},
   "source": [
    "The user, Shadrach Grentz, left the most comments. All of them are also marked as spam."
   ]
  },
  {
   "cell_type": "code",
   "execution_count": 6,
   "metadata": {},
   "outputs": [
    {
     "data": {
      "text/html": [
       "<div>\n",
       "<style scoped>\n",
       "    .dataframe tbody tr th:only-of-type {\n",
       "        vertical-align: middle;\n",
       "    }\n",
       "\n",
       "    .dataframe tbody tr th {\n",
       "        vertical-align: top;\n",
       "    }\n",
       "\n",
       "    .dataframe thead th {\n",
       "        text-align: right;\n",
       "    }\n",
       "</style>\n",
       "<table border=\"1\" class=\"dataframe\">\n",
       "  <thead>\n",
       "    <tr style=\"text-align: right;\">\n",
       "      <th></th>\n",
       "      <th>COMMENT_ID</th>\n",
       "      <th>AUTHOR</th>\n",
       "      <th>DATE</th>\n",
       "      <th>CONTENT</th>\n",
       "      <th>CLASS</th>\n",
       "      <th>CLEANED_CONTENT</th>\n",
       "    </tr>\n",
       "  </thead>\n",
       "  <tbody>\n",
       "    <tr>\n",
       "      <th>0</th>\n",
       "      <td>z13lgffb5w3ddx1ul22qy1wxspy5cpkz504</td>\n",
       "      <td>dharma pal</td>\n",
       "      <td>2015-05-29T02:30:18.971000</td>\n",
       "      <td>Nice song﻿</td>\n",
       "      <td>0</td>\n",
       "      <td>Nice song﻿</td>\n",
       "    </tr>\n",
       "    <tr>\n",
       "      <th>1</th>\n",
       "      <td>z123dbgb0mqjfxbtz22ucjc5jvzcv3ykj</td>\n",
       "      <td>Tiza Arellano</td>\n",
       "      <td>2015-05-29T00:14:48.748000</td>\n",
       "      <td>I love song ﻿</td>\n",
       "      <td>0</td>\n",
       "      <td>I love song ﻿</td>\n",
       "    </tr>\n",
       "    <tr>\n",
       "      <th>2</th>\n",
       "      <td>z12quxxp2vutflkxv04cihggzt2azl34pms0k</td>\n",
       "      <td>Prìñçeśś Âliś Łøvê Dømíñø Mâđiś™ ﻿</td>\n",
       "      <td>2015-05-28T21:00:08.607000</td>\n",
       "      <td>I love song ﻿</td>\n",
       "      <td>0</td>\n",
       "      <td>I love song ﻿</td>\n",
       "    </tr>\n",
       "  </tbody>\n",
       "</table>\n",
       "</div>"
      ],
      "text/plain": [
       "                              COMMENT_ID                              AUTHOR  \\\n",
       "0    z13lgffb5w3ddx1ul22qy1wxspy5cpkz504                          dharma pal   \n",
       "1      z123dbgb0mqjfxbtz22ucjc5jvzcv3ykj                       Tiza Arellano   \n",
       "2  z12quxxp2vutflkxv04cihggzt2azl34pms0k  Prìñçeśś Âliś Łøvê Dømíñø Mâđiś™ ﻿   \n",
       "\n",
       "                         DATE        CONTENT  CLASS CLEANED_CONTENT  \n",
       "0  2015-05-29T02:30:18.971000     Nice song﻿      0      Nice song﻿  \n",
       "1  2015-05-29T00:14:48.748000  I love song ﻿      0   I love song ﻿  \n",
       "2  2015-05-28T21:00:08.607000  I love song ﻿      0   I love song ﻿  "
      ]
     },
     "execution_count": 6,
     "metadata": {},
     "output_type": "execute_result"
    }
   ],
   "source": [
    "shakira['CLEANED_CONTENT'] = shakira['CONTENT'].str.replace(r'(http[s]?\\S+)|(\\w+\\.[A-Za-z]{2,4}\\S*)','httpaddr')\n",
    "shakira.head(3)"
   ]
  },
  {
   "cell_type": "code",
   "execution_count": 14,
   "metadata": {},
   "outputs": [
    {
     "name": "stdout",
     "output_type": "stream",
     "text": [
      "40\n",
      "369\n"
     ]
    }
   ],
   "source": [
    "url = shakira[shakira['CLEANED_CONTENT'].str.contains('httpaddr')]\n",
    "print(url.shape[0]) #number of comments that contain urls\n",
    "print(shakira.shape[0]) #total number of comments"
   ]
  },
  {
   "cell_type": "markdown",
   "metadata": {},
   "source": [
    "## Bivariate Analysis"
   ]
  },
  {
   "cell_type": "markdown",
   "metadata": {},
   "source": [
    "Separated spam from non-spam comments in the Class attribute for further analysis"
   ]
  },
  {
   "cell_type": "code",
   "execution_count": 9,
   "metadata": {},
   "outputs": [
    {
     "data": {
      "text/html": [
       "<div>\n",
       "<style scoped>\n",
       "    .dataframe tbody tr th:only-of-type {\n",
       "        vertical-align: middle;\n",
       "    }\n",
       "\n",
       "    .dataframe tbody tr th {\n",
       "        vertical-align: top;\n",
       "    }\n",
       "\n",
       "    .dataframe thead th {\n",
       "        text-align: right;\n",
       "    }\n",
       "</style>\n",
       "<table border=\"1\" class=\"dataframe\">\n",
       "  <thead>\n",
       "    <tr style=\"text-align: right;\">\n",
       "      <th></th>\n",
       "      <th>COMMENT_ID</th>\n",
       "      <th>AUTHOR</th>\n",
       "      <th>DATE</th>\n",
       "      <th>CONTENT</th>\n",
       "      <th>CLASS</th>\n",
       "      <th>CONTENT_LENGTH</th>\n",
       "    </tr>\n",
       "  </thead>\n",
       "  <tbody>\n",
       "    <tr>\n",
       "      <th>0</th>\n",
       "      <td>z13lgffb5w3ddx1ul22qy1wxspy5cpkz504</td>\n",
       "      <td>dharma pal</td>\n",
       "      <td>2015-05-29 02:30:18.971</td>\n",
       "      <td>Nice song﻿</td>\n",
       "      <td>0</td>\n",
       "      <td>10</td>\n",
       "    </tr>\n",
       "    <tr>\n",
       "      <th>1</th>\n",
       "      <td>z123dbgb0mqjfxbtz22ucjc5jvzcv3ykj</td>\n",
       "      <td>Tiza Arellano</td>\n",
       "      <td>2015-05-29 00:14:48.748</td>\n",
       "      <td>I love song ﻿</td>\n",
       "      <td>0</td>\n",
       "      <td>13</td>\n",
       "    </tr>\n",
       "    <tr>\n",
       "      <th>2</th>\n",
       "      <td>z12quxxp2vutflkxv04cihggzt2azl34pms0k</td>\n",
       "      <td>Prìñçeśś Âliś Łøvê Dømíñø Mâđiś™ ﻿</td>\n",
       "      <td>2015-05-28 21:00:08.607</td>\n",
       "      <td>I love song ﻿</td>\n",
       "      <td>0</td>\n",
       "      <td>13</td>\n",
       "    </tr>\n",
       "  </tbody>\n",
       "</table>\n",
       "</div>"
      ],
      "text/plain": [
       "                              COMMENT_ID                              AUTHOR  \\\n",
       "0    z13lgffb5w3ddx1ul22qy1wxspy5cpkz504                          dharma pal   \n",
       "1      z123dbgb0mqjfxbtz22ucjc5jvzcv3ykj                       Tiza Arellano   \n",
       "2  z12quxxp2vutflkxv04cihggzt2azl34pms0k  Prìñçeśś Âliś Łøvê Dømíñø Mâđiś™ ﻿   \n",
       "\n",
       "                     DATE        CONTENT  CLASS  CONTENT_LENGTH  \n",
       "0 2015-05-29 02:30:18.971     Nice song﻿      0              10  \n",
       "1 2015-05-29 00:14:48.748  I love song ﻿      0              13  \n",
       "2 2015-05-28 21:00:08.607  I love song ﻿      0              13  "
      ]
     },
     "execution_count": 9,
     "metadata": {},
     "output_type": "execute_result"
    }
   ],
   "source": [
    "nonspam_comments = shakira.loc[(shakira['CLASS'] == 0)]\n",
    "nonspam_comments.head(3)"
   ]
  },
  {
   "cell_type": "code",
   "execution_count": 10,
   "metadata": {},
   "outputs": [
    {
     "data": {
      "text/html": [
       "<div>\n",
       "<style scoped>\n",
       "    .dataframe tbody tr th:only-of-type {\n",
       "        vertical-align: middle;\n",
       "    }\n",
       "\n",
       "    .dataframe tbody tr th {\n",
       "        vertical-align: top;\n",
       "    }\n",
       "\n",
       "    .dataframe thead th {\n",
       "        text-align: right;\n",
       "    }\n",
       "</style>\n",
       "<table border=\"1\" class=\"dataframe\">\n",
       "  <thead>\n",
       "    <tr style=\"text-align: right;\">\n",
       "      <th></th>\n",
       "      <th>COMMENT_ID</th>\n",
       "      <th>AUTHOR</th>\n",
       "      <th>DATE</th>\n",
       "      <th>CONTENT</th>\n",
       "      <th>CLASS</th>\n",
       "      <th>CONTENT_LENGTH</th>\n",
       "    </tr>\n",
       "  </thead>\n",
       "  <tbody>\n",
       "    <tr>\n",
       "      <th>7</th>\n",
       "      <td>z12uujnj2sifvzvav04chpypvofvexpoggg</td>\n",
       "      <td>Sudheer Yadav</td>\n",
       "      <td>2015-05-28 10:28:25.133</td>\n",
       "      <td>SEE SOME MORE SONG OPEN GOOGLE AND TYPE Shakir...</td>\n",
       "      <td>1</td>\n",
       "      <td>60</td>\n",
       "    </tr>\n",
       "    <tr>\n",
       "      <th>22</th>\n",
       "      <td>z13zjlpo2nbehxwf322gelhzwmqwgn1mt</td>\n",
       "      <td>Raafat saeed</td>\n",
       "      <td>2015-05-27 04:19:29.178</td>\n",
       "      <td>Check out this playlist on YouTube:﻿</td>\n",
       "      <td>1</td>\n",
       "      <td>36</td>\n",
       "    </tr>\n",
       "    <tr>\n",
       "      <th>31</th>\n",
       "      <td>z13uhhxp5nvig15yc04citszvtagwtmpqcc</td>\n",
       "      <td>Terry Short</td>\n",
       "      <td>2015-05-26 14:33:52.496</td>\n",
       "      <td>Support the fight for your 4th amendment right...</td>\n",
       "      <td>1</td>\n",
       "      <td>1125</td>\n",
       "    </tr>\n",
       "  </tbody>\n",
       "</table>\n",
       "</div>"
      ],
      "text/plain": [
       "                             COMMENT_ID         AUTHOR  \\\n",
       "7   z12uujnj2sifvzvav04chpypvofvexpoggg  Sudheer Yadav   \n",
       "22    z13zjlpo2nbehxwf322gelhzwmqwgn1mt   Raafat saeed   \n",
       "31  z13uhhxp5nvig15yc04citszvtagwtmpqcc    Terry Short   \n",
       "\n",
       "                      DATE                                            CONTENT  \\\n",
       "7  2015-05-28 10:28:25.133  SEE SOME MORE SONG OPEN GOOGLE AND TYPE Shakir...   \n",
       "22 2015-05-27 04:19:29.178               Check out this playlist on YouTube:﻿   \n",
       "31 2015-05-26 14:33:52.496  Support the fight for your 4th amendment right...   \n",
       "\n",
       "    CLASS  CONTENT_LENGTH  \n",
       "7       1              60  \n",
       "22      1              36  \n",
       "31      1            1125  "
      ]
     },
     "execution_count": 10,
     "metadata": {},
     "output_type": "execute_result"
    }
   ],
   "source": [
    "spam_comments = shakira.loc[(shakira['CLASS']==1)]\n",
    "spam_comments.head(3)"
   ]
  },
  {
   "cell_type": "markdown",
   "metadata": {},
   "source": [
    "### Content vs Class"
   ]
  },
  {
   "cell_type": "markdown",
   "metadata": {},
   "source": [
    "#### Spam Comments"
   ]
  },
  {
   "cell_type": "code",
   "execution_count": 100,
   "metadata": {},
   "outputs": [],
   "source": [
    "def deEmojify(text):\n",
    "    regrex_pattern = re.compile(pattern = \"[\"\n",
    "        u\"\\U0001F600-\\U0001F64F\"  # emoticons\n",
    "        u\"\\U0001F300-\\U0001F5FF\"  # symbols & pictographs\n",
    "        u\"\\U0001F680-\\U0001F6FF\"  # transport & map symbols\n",
    "        u\"\\U0001F1E0-\\U0001F1FF\"  # flags (iOS)\n",
    "                           \"]+\", flags = re.UNICODE)\n",
    "    return regrex_pattern.sub(r'',text)"
   ]
  },
  {
   "cell_type": "code",
   "execution_count": 101,
   "metadata": {},
   "outputs": [
    {
     "name": "stdout",
     "output_type": "stream",
     "text": [
      "see,some,more,song,open,google,and,type,shakira,guruofmovie﻿,check,out,this,playlist,on,youtube﻿,support,the,fight,for,your,4th,amendment,right,to,privacy,in,your,home,stop,the,nsa,spying,on,americans,with,the,un,patriot,act,renewal,rand,paul,has,spent,105,hours,on,the,senate,floor,in,a,protest,and,filibuster,fighting,for,our,constitution,that,this,nation,is,founded,on,join,the,fight,at,rand,paul,dot,com,spread,the,word,we,have,someone,that,cares,about,our,nation,email,your,senators,congress,men,and,women,tell,them,to,support,rand,tell,the,news,to,support,rand,too,senator,rand,paul,was,up,until,a,hrefhttpwwwyoutubecomwatchvprpeedmmmq0ampt1m00s100a,am,this,passed,saturday,morning,fighting,for,our,constitution,buy,postponing,the,vote,until,this,week,our,constitution,matters,join,rand,in,the,fight,to,protect,a,hrefhttpithtithta,to,privacy,in,your,home,and,business,senator,rand,paul,was,up,until,a,hrefhttpwwwyoutubecomwatchvprpeedmmmq0ampt1m00s100a,am,this,passed,saturday,morning,fighting,for,our,constitution,buy,postponing,the,vote,until,this,week,our,constitution,matters,to,all,of,us,help,rand,protect,it,by,joining,the,fright,for,it﻿,check,out,this,video,on,youtube﻿,coby,this,usl,and,past,br,a,hrefhttpadflyhttpadflya,1hmvtxbr,delete,space,after,y﻿,see,thisbr,a,hrefhttpadflyhttpadflya,1hmvtx﻿,thumbs,up,if,your,watching,in,2015﻿,subscribe,me,please,i39ll,promise,i39ll,sub,back﻿,check,out,this,video,on,youtube﻿,my,uncle,said,he,will,stop,smoking,if,this,comment,gets,500,likes,please,like,this,comment,thanks﻿,definitley,the,song,for,2010,when,im,not,listening,to,gypsy,shakira,rocksbr,span,classproflinkwrapperspan,classproflinkprefixspana,classproflink,hrefhttpsplusgooglecom101721377578919894134,oid101721377578919894134shakiravevoaspan﻿,thank,you,please,give,your,email,﻿,fuck,it,was,the,best,ever,0687119038,nummber,of,patrik,kluivert,his,son,share,﻿,yea,stil,the,best,wk,song,everbr,thumbs,up,of,you,think,the,samebr,﻿,subscribe,my,channel,i,recording,fifa,15,goals,watch,now,d﻿,subscribe,to,me,and,i,wil,subscribe,to,you,back﻿,gusttavo,lima,você,não,me,conhece,br,check,out﻿,help,shakira39s,waka,waka,be,the,first,song,by,a,female,artist,to,reach,1,billion,viewsbr,dark,horse,is,ahead,by,roughly,100,million,more,views,and,roar,has,only,50,million,more,viewsbr,a,hrefhttpswwwyoutubecomwatchvprpeedmmmq0httpswwwyoutubecomwatchvprpeedmmmq0a﻿,i,subscribed,itbr,﻿,check,out,this,playlist,on,youtubebr,﻿,top,three,shakira,songs,my,choice,br,br,1,waka,waka,it39s,time,for,africabr,br,2,can39t,remember,to,forget,you,br,br,3,empirebr,br,like,this,comment,if,u,like,shakira,﻿,check,out,this,video,on,youtube﻿,check,out,this,playlist,on,youtubecentral,﻿,if,you,could,take,time,amp,spare,a,min,to,read,this,then,thank,you,br,br,im,a,rapper,if,we39re,gonna,be,honest,theres,thousands,maybe,even,millionsbr,br,of,those,in,the,world,but,not,too,many,with,ambition,dedication,amp,passionbr,br,i,don39t,have,money,for,huge,youtube,advertisements,or,incredible,music,videosbr,br,so,all,im,left,with,is,comments,to,expose,my,musicbr,br,if,you,could,take,a,moment,and,give,me,a,chance,ill,make,you,a,believerbr,br,i,would,love,nothing,more,than,a,loyal,following,on,youtube,for,anyone,who,br,br,reads,this,could,you,press,the,quotthumbs,upquot,others,will,see,itbr,br,doing,so,will,help,me,push,closer,to,my,dream,,thank,you﻿,please,visit,my,channel﻿,pleas,subscribe,my,channel,gamezzmta﻿,pleas,subscribe,my,channel﻿,pleas,subscribe,gamezz,mta,my,channelbr,﻿,cool,song,check,out,my,animal,trafficking,petitionbr,a,hrefhttpwwwthepetitionsitecom387433550stopanimaltraffickingcidheaderclickhttpwwwthepetitionsitecom387433550stopanimaltraffickingcidheaderclicka﻿,check,out,this,video,on,youtube,﻿,subscribe,and,win,a,capbr,,☆☆☆☆☆﻿,check,out,this,playlist,on,youtube﻿,hey,guys,love,this,but,check,out,this,girl,name,cause,she,knows,how,to,dance,so,search,up,ej,ba,dancing﻿,if,you,want,to,win,money,at,hopme,click,here,a,hrefhttpswwwpaidvertscomrefsihaam01httpswwwpaidvertscomrefsihaam01a,it39s,work,100100﻿,i,am,from,brazil,please,subscribe,my,channel,love,you,all﻿,could,spanish,people,understand,thisbr,br,any,way39s,i,how,you,doing,subscribe,to,me,i,brake,thingsbr,br,﻿,pleassssssssssssssss,subscribeeeeeeeeee,my,channnnnnelll,plzz﻿,check,out,this,video,on,youtube﻿,new,way,to,make,money,easily,and,spending,20,minutes,daily,gt,a,hrefhttpswwwpaidvertscomrefmarius1533httpswwwpaidvertscomrefmarius1533a﻿,there,are,beautiful,songs,please,subscribe﻿,can,this,channel,get,500,subscribers,you,can,make,that,happen,d﻿,i,really,love,watching,football,and,also,i’ve,started,off,making,income,with,out,financial,risk,from,acquiring,bonus,deals,it’s,this,weird,technique,where,you,wager,on,something,with,one,bookmakers,and,bet,against,it,on,betfair,you,secure,the,bonus,as,income,,a,chap,named,jim,vanstone,is,finding,the,wagers,free,on,his,own,website,vanstone,secrets,google,it,i’ve,made,about,500,quid,thus,far,and,it,is,costfree,i,guess,the,bookies,pay,him,to,obtain,new,consumers,yet,this,actually,works,and,how,many,subscribers,compared,to,her,over,a,million,i,absolutely,adore,watching,football,plus,i’ve,started,earning,income,with,out,risk,from,claiming,bonus,deals,it’s,a,weird,technique,where,you,put,money,on,something,with,one,bookmakers,and,put,money,against,it,on,betfair,you,acquire,the,bonus,as,income,,a,lad,named,jim,vanstone,is,selecting,the,wagers,free,on,his,website,vanstone,secrets,google,it,i,have,generated,about,600,quid,so,far,and,it’s,free,i,assume,the,bookmakers,pay,him,to,get,new,men,and,women,but,it,succeeds,hahahahah,♥♥♥♥,d,like,vines,,subscribe,to,me,for,daily,vines,hi,there,have,you,heard,about,dribbleproshot,just,do,a,search,on,google,on,their,web,site,you,can,watch,a,smart,free,video,featuring,the,best,way,to,significantly,boost,your,football,aka,soccer,skills,in,no,time,it,turned,nick,into,a,much,better,football,or,soccer,playerhis,team,mates,were,definitily,amazed,i,hope,it,will,help,you,also,hey,have,you,tried,quotdribbleproshotquot,yet,just,do,a,search,on,google,on,their,website,you,will,find,a,useful,free,video,demonstrating,the,right,way,to,enormously,improve,your,soccer,or,football,skills,in,no,time,it,transformed,fausto,into,a,substantially,better,footballsoccer,playerto,the,amazement,of,his,team,mates,hopefully,it,works,for,you,too,still,amazing,this,song,i,did,a,french,kpop,parody,please,come,on,my,channel,to,watch,it,share,suscribe,comment,thanks,subscribe,to,my,feed,d,subscribe,to,me,for,daily,vines,hey,guys,whats,up,i,found,this,app,that,lets,you,get,free,gift,card,vouchers,like,psn,cardsxbox,live,cards,and,even,amazon,gift,cards,for,free,all,you,have,to,do,is,simply,just,download,the,app,from,the,app,store,it,is,called,juno,wallet,all,you,have,to,do,is,just,sign,up,for,the,app,and,then,complete,a,few,surveys,or,just,download,some,other,free,apps,and,you,get,money,like,10,cents,also,if,you,type,in,the,code,im2458444,you,will,also,start,off,with,025,free,you,guys,should,check,out,this,extraordinary,website,called,firepacom,,you,can,make,money,online,and,start,working,from,home,today,as,i,am,i,am,making,over,3000,per,month,at,firepacom,,visit,firepacom,and,check,it,out,lake,,duzafizz,,singlewave,,spourmo,,burder,,colorful,,claster,,incandescent,,ambitious,,winooze,,absorbing,,macabre,,crestboot,,boxium,,womanly,,tan,,ybuwyn,,forgetful,,pepelexa,,zealous,waka,wakad,check,out,my,new,halloween,video,we,are,14,year,old,boys,we,are,trying,to,enter,in,the,music,industry,maybe,we,are,just,a,dreamers,but,we,are,not,the,only,one,please,give,us,one,chance,to,prove,ourself,to,you,we,know,these,things,are,annoying,as,hell,we,are,sorry,about,that,but,we,do,anything,to,get,music,heard,please,visit,our,channel,subscribe,if,you,like,and,thumb,this,comment,up,so,everyone,can,see,we,have,made,a,song,called,i,wanna,play,a,game,please,take,a,look,on,our,channel,thankss,plz,i,wilsubscribe,me,frndzzl,subscribe,u,back,you,guys,should,check,out,this,extraordinary,website,called,moneygqcom,,you,can,make,money,online,and,start,working,from,home,today,as,i,am,i,am,making,over,3000,per,month,at,moneygqcom,,visit,moneygqcom,and,check,it,out,why,does,the,fragile,swim,enlist,the,person,how,does,the,ice,audit,the,frequent,son,the,fantastic,chance,describes,the,rate,subscribe,me,and,i,requite,stop,wasting,up,your,time,and,get,paid,to,mess,around,on,facebook,and,twitter,get,paid,upto,25,to,35,an,hour,only,at,4netjobscom,work,from,the,comfort,of,your,home,we,are,currently,hiring,people,from,all,over,the,world,for,a,wide,range,of,social,media,jobs,on,sites,such,as,facebooktwitter,and,youtube,you,don39t,need,any,prior,skills,or,experience,and,you,can,begin,work,immediately,you,can,easily,make,4000,to,5000,monthly,income…only,at,4netjobscom,i,love,this,this,is,one,of,my,fave,songs,now,and,i,just,subscribed,,,,you,guys,should,check,out,this,extraordinary,website,called,zonepacom,,you,can,make,money,online,and,start,working,from,home,today,as,i,am,i,am,making,over,3000,per,month,at,zonepacom,,visit,zonepacom,and,check,it,out,why,does,the,statement,conciliate,the,acidic,stretch,the,earth,recognizes,the,money,when,does,the,numberless,number,transport,the,trade,how,to,make,a,lot,of,money,fast,visit,quot,ww,estiloproduction,com,quot,best,website,to,make,money,message,,gta,v,20,fifa,14,15,ps4,200,galaxy,s4,mini,250,ipad,4,200,visit,the,site,hhnl,stop,wasting,up,your,time,and,get,paid,to,mess,around,on,facebook,and,twitter,get,paid,upto,25,to,35,an,hour,only,at,4netjobscom,work,from,the,comfort,of,your,home,we,are,currently,hiring,people,from,all,over,the,world,for,a,wide,range,of,social,media,jobs,on,sites,such,as,facebooktwitter,and,youtube,you,don39t,need,any,prior,skills,or,experience,and,you,can,begin,work,immediately,you,can,easily,make,4000,to,5000,monthly,income…only,at,4netjobscom,being,paid,to,respond,to,fast,paid,surveys,from,home,has,enabled,me,to,give,up,working,and,make,more,than,4500,bucks,monthly,to,read,more,go,to,this,web,site,bitly1bsefqe,hello,guysi,found,a,way,to,make,money,online,you,can,get,paid,to,mess,around,on,facebook,and,twitter,get,paid,upto,25,to,35,an,houronly,at,4netjobscom,work,from,the,comfort,of,your,home,they,are,currently,hiring,people,from,all,over,the,world,for,a,wide,range,of,social,media,jobs,on,sites,such,as,facebooktwitter,and,youtube,you,don39t,need,any,prior,skills,or,experience,and,you,can,begin,work,immediately,you,can,easily,make,4000,to,5000,monthly,income…only,at,4netjobscom,you,guys,should,check,out,this,extraordinary,website,called,zonepacom,,you,can,make,money,online,and,start,working,from,home,today,as,i,am,i,am,making,over,3000,per,month,at,zonepacom,,visit,zonepacom,and,check,it,out,the,meat,discusss,the,successful,memory,how,does,the,peaceful,unit,arbitrate,the,guide,the,addition,designs,the,worried,loss,you,guys,should,check,out,this,extraordinary,website,called,zonepacom,,you,can,make,money,online,and,start,working,from,home,today,as,i,am,i,am,making,over,3000,per,month,at,zonepacom,,visit,zonepacom,and,check,it,out,how,does,the,mother,approve,the,axiomatic,insurance,the,fear,appoints,the,roll,when,does,the,space,prepare,the,historical,shame,you,guys,should,check,out,this,extraordinary,website,called,zonepacom,,you,can,make,money,online,and,start,working,from,home,today,as,i,am,i,am,making,over,3000,per,month,at,zonepacom,,visit,zonepacom,and,check,it,out,the,plausible,summer,submits,the,behavior,when,does,the,grass,check,the,peaceful,seat,the,country,strategizes,the,edge,check,out,my,channel,,subscribe,my,hello,guysi,found,a,way,to,make,money,online,you,can,get,paid,to,mess,around,on,facebook,and,twitter,get,paid,upto,25,to,35,an,houronly,at,4netjobscom,work,from,the,comfort,of,your,home,they,are,currently,hiring,people,from,all,over,the,world,for,a,wide,range,of,social,media,jobs,on,sites,such,as,facebooktwitter,and,youtube,you,don39t,need,any,prior,skills,or,experience,and,you,can,begin,work,immediately,you,can,easily,make,4000,to,5000,monthly,income…only,at,4netjobscom,please,visit,this,website,oldchattk,please,visit,this,website,oldchattk,hello,everyone,my,name39s,anderson,and,i39m,a,singer,not,expecting,to,buy,subscribers,with,words,but,to,gain,them,with,my,voice,i,might,not,be,the,best,but,my,voice,is,different,in,a,good,way,and,i39ll,work,harder,than,anyone,out,there,to,get,better,39cuz,quotyeahquot,i,have,a,dream,a,huge,one,who,doesn39t,so,please,take,3,minutes,of,your,time,to,check,out,my,covers,give,me,a,chance,you,won39t,regret,it,if,you,feel,like,subscribing,that39d,be,awesome,and,it39d,mean,the,world,to,me,thank,you,so,much,check,out,daneja,good,girl,hello,guysi,found,a,way,to,make,money,online,you,can,get,paid,to,mess,around,on,facebook,and,twitter,get,paid,upto,25,to,35,an,houronly,at,4netjobscom,work,from,the,comfort,of,your,home,they,are,currently,hiring,people,from,all,over,the,world,for,a,wide,range,of,social,media,jobs,on,sites,such,as,facebooktwitter,and,youtube,you,don39t,need,any,prior,skills,or,experience,and,you,can,begin,work,immediately,you,can,easily,make,4000,to,5000,monthly,income…only,at,4netjobscom,subscribe,to,my,youtube,channel,,suscribite,a,mi,canal,de,youtube,whatuknow,check,out,my,bass,cover,of,hips,don39t,lie,by,shakira,subscribe,to,my,channel,,lt3,the,britishs,called,that,soccer,but,you,know,the,true,word,is,football,and,the,us,foot,is,called,rugby,that,works,like,that,in,euw,,germany,netherland,france,portugal,belgium,spain,,,just,because,the,britishs,don39t,agree,to,be,like,us,because,they,are,unique,that39s,the,reason,why,they,also,refused,to,have,euro,€,as,money,subscribe,now,love,the,song,love,football,1,753,682,421,gangnam,style,,believe,that,jesus,christ,is,your,savior,for,all,your,sins,if,you,truly,believe,in,jesus,christ,to,be,your,savior,for,all,your,sins,then,you,will,go,to,heaven,if,you,believe,in,jesus,christ,then,you,are,saved,and,you,are,in,salvation,and,you,have,gained,god’s,righteousness,it,matters,not,how,much,you,have,sinned,in,the,past,in,the,present,and,especially,in,the,future,believe,that,jesus,christ,is,your,savior,and,you,will,go,to,heaven,forever,and,that,is,the,whole,truth,spread,the,truth,perhaps,you,have,seen,the,newest,miley,cyrus,secret,video,,she39s,sucking,an,old,man39s,cock,,if,you,wish,to,see,her,,check,out,the,celebrity,website,beneath,,mileysecretvideocouk,haha,,miley,cyrus,has,done,it,once,again,today,someone,leeched,a,porno,video,with,her,on,a,celeb,site,i,believe,the,website,link,is,,mileycelebnewscouk,in,case,you,want,to,view,it,i,really,can39t,comprehend,miley,cyrus,,she,actually,is,a,high,profile,and,she,tapes,herself,banging,today,a,video,was,leeched,with,her,sucking,and,fucking,the,video,has,been,posted,at,the,celebrity,website,under,,mileycelebnewscouk,check,out,daneja,good,girl,check,out,my,covers,please,hey,music,fans,i,really,appreciate,any,of,you,who,will,take,the,time,to,read,this,and,check,my,music,out,i39m,just,a,15,year,old,boy,dreaming,of,being,a,successful,musician,in,the,music,world,i,do,lots,of,covers,and,piano,covers,but,i,don39t,have,money,to,advertise,a,simple,thumbs,up,to,my,comment,a,comment,on,my,videos,or,a,subscription,would,be,a,step,forward,it,will,only,be,a,few,seconds,of,your,life,that,you,won39t,regret,thank,u,to,all,the,people,who,just,give,me,a,chance,,echa,un,vistazo,a,la,remezcla,,check,out,the,remix,miley,cyrus,,wrecking,ball,the,house,of,edm,remix,miley,cyrus,,wrecking,ball,vincent,t,remix,click,enlace,suscríbase,,click,link,subscribe,hey,check,out,our,new,musicvideo,3939life39s,a,celebration3939,peace,,hi,check,out,and,share,our,songs,subscribe,amp,like,watchv5tu9gn1l310,watchvdtqcftr1fac,justien,bieber,car,2013,likeampsubscribe,check,out,our,bands,page,on,youtube,killtheclockhd,,check,out,some,of,our,original,songs,including,quotyour,disguisequot,hi,check,out,our,awesome,covers,and,say,what,you,think,i,hope,everyone,is,in,good,spirits,i39m,a,hard,working,student,who39s,also,a,passionate,singer,i,look,foward,to,the,day,when,i,can,make,my,own,music,to,share,but,for,now,i39ve,just,been,doing,covers,check,out,my,channel,i39ve,done,covers,of,miley,cyrus,imagine,dragons,lana,del,rey,drake,macklemore,pink,and,countless,others,subscribe,only,if,you,want,to,my,goal,isn39t,to,become,famous,but,to,inspire,fyi,this,isn39t,spamming,everyone,has,a,right,to,freedom,of,speech,thanks,please,visit,our,web,wellcomemdblogfacom,please,check,out,my,video,called,quotwe,love,mind,master,itquot,thanks,ｈｔｔｐｗｗｗｅｂａｙｃｏｍｕｓｒｓｈｏｅｃｏｌｌｅｃｔｏｒ314,recommend,apple,ipad,4th,gen,32gb,unlocked,wifi4g,97in,white,price390,apple,iphone,5,latest,model,,32gb,,black,price385,samsung,galaxy,s4,s,iv,4,with,16gb,new,white,price360,sony,60inch,3d,led,hdtv,price510,allinone,pcs,apple,macbook,pro,apple,macbook,air,price320,camera,nikon,d90,slr,camera,1855mm,55200mm,32gb,price390,ultrabooks,sony,vaio,pro,13,intel,core,i5,4gb,128gb,price515,,purchase,online,website,is,taaeecom,quothelp,the,humanity,with,your,sign,in,to,this,link,with,your,wholehearted,support,if,you,say,quotnoquot,to,discrimination,“united,we,stand,“,we,will,bring,the,change,together,impossible,itself,says,i,m,possiblequot,you,are,the,winners,of,my,successcheers,to,all,my,loving,brothers,and,sisters,,please,share,this,link,on,facebook,to,support,against,discrimination,tinyurldotcomslashmxh2y77,fear,none,but,god,,part,5,comforter,of,the,afflicted,pray,for,us,help,of,christians,pray,for,us,queen,of,angels,pray,for,us,queen,of,patriarchs,pray,for,us,queen,of,prophets,pray,for,us,queen,of,apostles,pray,for,us,queen,of,martyrs,pray,for,us,queen,of,confessors,pray,for,us,queen,of,virgins,pray,for,us,queen,of,all,saints,pray,for,us,queen,conceived,without,original,sin,pray,for,us,queen,of,the,most,holy,rosary,pray,for,us,queen,of,the,family,pray,for,us,queen,of,peace,pray,for,us,part,2,holy,mary,pray,for,us,holy,mother,of,god,pray,for,us,holy,virgin,of,virgins,pray,for,us,mother,of,christ,pray,for,us,mother,of,divine,grace,pray,for,us,mother,most,pure,pray,for,us,mother,most,chaste,pray,for,us,mother,inviolate,pray,for,us,mother,undefiled,pray,for,us,mother,most,amiable,pray,for,us,mother,most,admirable,pray,for,us,mother,of,good,counsel,pray,for,us,mother,of,our,creator,pray,for,us,mother,of,our,redeemer,pray,for,us,hi,everyone,if,anyone,after,real,online,work,i,can,help,u,earn,lots,of,money,it39s,fun,it39s,real,and,affiliated,company,u,not,think,u,r,working,it39s,easy,and,enjoyable,for,more,info,contact,me,,neeru105,gmailcom,hey,youtubers,and,all,music,lover39s,guess,most,of,you,all,skip,these,comments,but,for,you,who,is,still,reading,this,thanks,,i,dont,have,any,money,for,advertisiments,no,chance,of,getting,heard,nothing,all,that39s,left,is,spam,sorry,im,17,rappersinger,from,estonia,please,listen,my,new,cover,on,my,account,you,wont,regret,it,give,me,just,a,chance,please,take,half,a,second,of,your,life,and,thumb,this,comment,up,it,will,maybe,change,my,life,for,real,thank,you,wafence,do,you,want,to,make,some,easy,money,check,out,my,page,tvcmcadavidweebly,,com,dont,miss,out,on,this,opportunity,give,thumbs,up,i,would,apprecitate,it,please,check,out,this,video,called,quotwe,love,mind,master,itquot,thank,u,,ways,to,make,money,50k,per,month,search,google,now,gtgt,9nlmemakemoneywithoutinvestment1,meet,the,richest,online,marketer,now,click,,bitlymakemoneywithoutadroid,how,did,you,know,that,people,makes,another,account,just,for,subscribing,itself,and,liking,,,i39ll,subscribe,to,you,you,look,nice,,hey,dickwad,,we39re,all,africans,the,colour,of,your,skin,just,tells,us,something,about,how,long,ago,your,ancestors,left,africa,check,out,baba,brinkman,,he,has,a,song,called,quoti39m,a,africanquot,go,learn,something,wow,muslims,are,really,egoistic,23,of,the,world,population,and,not,in,this,video,or,donating,1,dollar,to,the,poor,ones,in,africa,,shame,on,those,terrorist,muslims,wats,good,go,check,out,my,music,on,da,channel,ik,yall,got,me,i,know,y39all,can,check,out,amy,music,because,yall,got,me,go,to,da,channel,northland,paranormal,society,is,now,on,youtube,check,out,our,channel,of,real,paranormal,evidence,facebook,northland,paranormal,society,hello,everyone,,i,know,most,of,you,probably,pass,up,these,kind,of,comments,but,for,those,who,are,still,reading,this,thanks,i,don’t,have,any,money,for,advertisements,no,chance,of,getting,heard,nothing,i,live,in,such,a,small,town,if,this,comes,off,as,spam,sorry,i’m,an,instrumental,songwriter,from,columbus,mississippi,please,go,to,my,channel,and,check,out,my,original,music,it,would,be,highly,appreciated,if,you,thumbs,up,this,comment,so,my,music,can,be,heard,thank,you,adam,whitney,so,then,how,are,you,going,to,call,yourself,a,instrumental,songwriter,if,theres,no,singing,theres,no,song,to,write,lol,you,got,alot,to,learn,kid,but,hey,don39t,forget,to,subscribe,hello,everyone,,i,know,most,of,you,probably,pass,up,these,kind,of,comments,but,for,those,who,are,still,reading,this,thanks,i,don’t,have,any,money,for,advertisements,no,chance,of,getting,heard,nothing,i,live,in,such,a,small,town,if,this,comes,off,as,spam,sorry,i’m,an,instrumental,songwriter,from,columbus,mississippi,please,go,to,my,channel,and,check,out,my,original,music,it,would,be,highly,appreciated,if,you,thumbs,up,this,comment,so,my,music,can,be,heard,thank,you,adam,whitney,please,go,in,and,see,our,channel,and,subscribe,,it,would,be,nice,mate,wanna,earn,money,online,without,investmentjust,visit,this,link,thergloveblogspotin201308blogpost10html,hello,everyone,,i,know,most,of,you,probably,pass,up,these,kind,of,comments,but,for,those,who,are,still,reading,this,thanks,i,don’t,have,any,money,for,advertisements,no,chance,of,getting,heard,nothing,i,live,in,such,a,small,town,if,this,comes,off,as,spam,sorry,i’m,an,instrumental,songwriter,from,columbus,mississippi,please,go,to,my,channel,and,check,out,my,original,music,it,would,be,highly,appreciated,if,you,thumbs,up,this,comment,so,my,music,can,be,heard,thank,you,adam,whitney,check,out,the,dubstep,version,i,can,to,make,money,wanna,laugh,please,subscribe,to,our,channel,earn,money,for,being,online,with,0,efforts,bitly14gkvdo,could,you,please,check,out,my,covers,on,my,channel,i,do,covers,like,adele,kodaline,imagine,dragonsand,more,please,if,you,could,spare,a,few,minutes,could,you,have,a,listen,to,one,or,two,of,my,covers,,feel,free,to,comment,and,subscribe,,thank,you,adfly,kld3y,check,out,these,irish,guys,cover,of,avicii39s,wake,me,up,just,search,quotwake,me,up,fiddle,me,sillyquot,worth,a,listen,for,the,gorgeous,fiddle,player,hello,everyone,,i,know,most,of,you,probably,pass,up,these,kind,of,comments,but,for,those,who,are,still,reading,this,thanks,i,don’t,have,any,money,for,advertisements,no,chance,of,getting,heard,nothing,if,this,comes,off,as,spam,sorry,i,am,a,video,animator,just,trying,to,make,it,up,into,the,video,animation,industry,please,give,me,the,chance,to,prove,myself,to,you,please,visit,my,channel,subscribe,if,you,like,and,thumb,this,comment,up,so,everyone,can,see,thank,you,hello,everyone,,i,know,most,of,you,probably,pass,up,these,kind,of,comments,but,for,those,who,are,still,reading,this,thanks,i,don’t,have,any,money,for,advertisements,no,chance,of,getting,heard,nothing,if,this,comes,off,as,spam,sorry,i,am,a,video,animator,just,trying,to,make,it,up,into,the,video,animation,industry,please,give,me,the,chance,to,prove,myself,to,you,please,visit,my,channel,subscribe,if,you,like,and,thumb,this,comment,up,so,everyone,can,see,thank,you,hey,youtubers,i,really,appreciate,all,of,you,who,took,the,time,to,read,this,i,am,just,a,19,year,old,boy,who,wants,to,be,a,successful,musician,in,the,music,world,i,dont,have,any,money,to,advertise,my,channel,if,you,could,just,visit,my,channel,comment,on,my,video,or,subscribe,that,would,be,great,it,will,only,be,few,seconds,of,your,life,thank,u,to,all,the,people,who,just,gave,me,a,chance,l,really,appreciate,it,subscribe,to,my,pagee,please,please,subscribe,to,my,page,thanks,hey,hit,this,shit,up,while,yall,can,they,killed,the,versace,remix,just,type,in,cge,quotversace,freestyle,get,moneyquot,shot,by,jawan,gardner,and,help,them,reach,1,million,views,hey,guys,and,girls,check,out,comedy,recipe,for,hilarious,you,tube,videos,pranks,and,crank,calls,subscribe,me,i,will,subscribe,you,back,subscribe,me,i,will,subscribe,you,back,please,check,my,channel,out,i,subscribe,back,i,really,ask,nicely,to,view,my,vids,i,subscribe,back,,facebook,is,lame,and,so,2004,check,out,,swagfriends,com,make,thousands,of,cool,new,friends,everyday,join,this,new,movement,hi,check,out,and,share,our,songs,check,out,partyman318,fr,good,tunez,d,hey,youtubers,i,really,appreciate,all,of,you,who,took,the,time,to,read,this,i,am,just,a,19,year,old,boy,who,wants,to,be,a,successful,musician,in,the,music,world,i,dont,have,any,money,to,advertise,my,channel,if,you,could,just,visit,my,channel,comment,on,my,video,or,subscribe,that,would,be,great,it,will,only,be,few,seconds,of,your,life,thank,u,to,all,the,people,who,just,gave,me,a,chance,l,really,appreciate,it,hey,music,fans,i,really,appreciate,any,of,you,who,will,take,the,time,to,read,this,and,check,my,music,out,i39m,just,a,15,year,old,boy,dreaming,of,being,a,successful,musician,in,the,music,world,i,do,lots,of,covers,and,piano,covers,but,i,don39t,have,money,to,advertise,a,simple,thumbs,up,to,my,comment,a,comment,on,my,videos,or,a,subscription,would,be,a,step,forward,it,will,only,be,a,few,seconds,of,your,life,that,you,won39t,regret,thank,u,to,all,the,people,who,just,give,me,a,chance,,hey,music,fans,i,really,appreciate,any,of,you,who,will,take,the,time,to,read,this,and,check,my,music,out,i39m,just,a,15,year,old,boy,dreaming,of,being,a,successful,musician,in,the,music,world,i,do,lots,of,covers,and,piano,covers,but,i,don39t,have,money,to,advertise,a,simple,thumbs,up,to,my,comment,a,comment,on,my,videos,or,a,subscription,would,be,a,step,forward,it,will,only,be,a,few,seconds,of,your,life,that,you,won39t,regret,thank,u,to,all,the,people,who,just,give,me,a,chance,,hey,music,fans,i,really,appreciate,any,of,you,who,will,take,the,time,to,read,this,and,check,my,music,out,i39m,just,a,15,year,old,boy,dreaming,of,being,a,successful,musician,in,the,music,world,i,do,lots,of,covers,and,piano,covers,but,i,don39t,have,money,to,advertise,a,simple,thumbs,up,to,my,comment,a,comment,on,my,videos,or,a,subscription,would,be,a,step,forward,it,will,only,be,a,few,seconds,of,your,life,that,you,won39t,regret,thank,u,to,all,the,people,who,just,give,me,a,chance,,hi,check,out,and,share,our,songs,hi,check,out,and,share,our,songs,hicheck,out,and,share,our,songs,hey,music,fans,i,really,appreciate,any,of,you,who,will,take,the,time,to,read,this,and,check,my,music,out,i39m,just,a,15,year,old,boy,dreaming,of,being,a,successful,musician,in,the,music,world,i,do,lots,of,covers,and,piano,covers,but,i,don39t,have,money,to,advertise,a,simple,thumbs,up,to,my,comment,a,comment,on,my,videos,or,a,subscription,would,be,a,step,forward,it,will,only,be,a,few,seconds,of,your,life,that,you,won39t,regret,thank,u,to,all,the,people,who,just,give,me,a,chance,,hey,i,am,doing,the,forty,hour,famine,so,i39ll,be,giving,up,on,food,and,social,working,for,40,hours,i39m,doing,this,to,raise,money,for,african,people,who,can39t,experience,the,luxuries,that,we,can,so,can,you,donate,to,give,them,a,chance,any,amount,would,do,,click,on,the,link,and,donate,h,t,t,p,,,,4,0,h,f,,c,o,m,,a,u,,a,n,t,h,o,n,y,l,a,m,thanks,,love,itt,and,ppl,check,out,my,channel,subscribe,my,channel,adfly,,kld3y,adfly,,kld3y,check,out,my,new,video,hey,music,fans,i,really,appreciate,all,of,you,who,take,time,to,read,this,and,check,my,music,out,i39m,just,a,15,year,old,boy,dreaming,of,being,a,successful,musician,in,the,music,world,i,do,lots,of,covers,and,piano,covers,but,i,dont,have,money,to,advertise,a,simple,thumbs,up,to,my,comment,a,comment,on,my,videos,or,a,subscription,would,be,a,step,forward,it,will,only,be,a,few,seconds,of,your,life,that,u,won39t,regret,thank,u,to,all,the,people,who,just,give,me,a,chance,it,means,a,lot,,hello,everyone,it,is,not,my,intention,to,spam,and,am,truly,sorry,if,anyone,is,annoyed,by,this,but,just,please,hear,me,out,i,am,a,rapper,singer,music,producer,and,a,song,writer,and,have,been,making,music,for,a,while,now,eight,years,to,be,exact,i,enjoy,making,all,types,of,music,that,anyone,can,listen,to,doesn39t,have,me,talking,about,killing,anyone,and,most,importantly,focuses,on,the,quality,of,the,music,please,check,out,my,page,it39s,only,a,click,away,thank,you,and,have,a,nice,day,,,facebook,is,lame,and,so,2004,check,out,,swagfriends,com,make,thousands,of,cool,new,friends,everyday,join,this,new,movement,please,check,out,and,send,to,others,freedom,and,justice,are,on,the,line,please,google,steven,l,reed,case,lands,in,supreme,courtthanks,nice,to,meet,you,,this,is,johnny,1,if,you,already,know,my,music,,thumb,this,up,because,you,found,it,this,way,too,2,if,you,want,to,hear,original,songs,completely,made,by,1,person,continue,reading,i,sing,write,original,musiclyrics,amp,play,guitar,bass,drums,amp,keyboards,i39m,a,1manband,my,music,is,completely,independent,amp,100,listenersupported,if,you,want,to,hear,it,amp,if,you39re,willing,to,help,record,new,album,,click,on,my,namepicture,enjoy,the,music,,wish,you,awesome,day,hey,you,,check,out,the,channel,of,alvar,lake,,hi,this,is,johnny,1,if,you,already,know,my,music,,thumb,this,up,because,you,found,it,this,way,too,2,if,you,want,to,hear,original,songs,completely,made,by,1,person,continue,reading,i,sing,write,original,musiclyrics,amp,play,guitar,bass,drums,amp,keyboards,i39m,a,1manband,my,music,is,completely,independent,amp,100,listenersupported,if,you,want,to,hear,it,amp,if,you39re,willing,to,help,record,new,album,,click,on,my,namepicture,thank,you,amp,enjoy,the,music,,wish,you,awesome,day,check,out,this,video,on,youtubebr,quotthis,time,for,africaquot,one,for,trayvon,and,our,motherlandbr,thankyou,shakira﻿,o,peoples,of,the,earth,i,have,seen,how,you,perform,every,form,of,evil,at,your,leisure,you,cease,not,from,reveling,in,that,which,i,hate,behold,you,murder,the,innocent,day,and,night,and,plot,evil,against,your,neighbor,you,stand,up,for,the,rights,of,those,who,commit,abomination,and,clap,your,hands,as,wickedness,is,celebrated,openly,in,the,streets,o,most,perverse,and,abominable,generation,shall,i,not,repay,hear,the,word,of,the,lord,,trumpetcallofgodonline,co,m,i,will,never,forget,this,song,in,my,life,like,this,comment,of,your,hearing,this,song,for,like,a,year,omg,facebook,is,old,check,out,gt,swagfriends,com,make,thousands,of,cool,new,friends,everyday,join,the,movement,hey,music,fans,i,really,appreciate,all,of,you,who,take,time,to,read,this,and,check,my,music,out,i39m,just,a,15,year,old,boy,dreaming,of,being,a,successful,musician,in,the,music,world,i,do,lots,of,covers,and,piano,covers,but,i,dont,have,money,to,advertise,a,simple,thumbs,up,to,my,comment,a,comment,on,my,videos,or,a,subscription,would,be,a,step,forward,it,will,only,be,a,few,seconds,of,your,life,that,u,won39t,regret,thank,u,to,all,the,people,who,just,give,me,a,chance,it,means,a,lot,,check,out,my,new,mixtape,check,out,my,new,mixtape,check,out,my,new,mixtape,check,out,my,new,mixtapecheck,out,my,new,mixtape,check,out,my,new,mixtape,check,out,my,new,mixtape,check,out,my,new,mixtapecheck,out,my,new,mixtape,check,out,my,new,mixtape,check,out,my,new,mixtape,check,out,my,new,mixtapecheck,out,my,new,mixtape,check,out,my,new,mixtape,check,out,my,new,mixtape,check,out,my,new,mixtape,check,out,my,new,mixtape,check,out,my,new,mixtape,check,out,my,new,mixtape,check,out,my,new,mixtapecheck,out,my,new,mixtape,check,out,my,new,mixtape,check,out,my,new,mixtape,check,out,my,new,mixtapecheck,out,my,new,mixtape,check,out,my,new,mixtape,check,out,my,new,mixtape,check,out,my,new,mixtapecheck,out,my,new,mixtape,check,out,my,new,mixtape,check,out,my,new,mixtape,check,out,my,new,mixtape,check,out,my,new,mixtape,check,out,my,new,mixtape,check,out,my,new,mixtape,check,out,my,new,mixtapecheck,out,my,new,mixtape,check,out,my,new,mixtape,check,out,my,new,mixtape,check,out,my,new,mixtapecheck,out,my,new,mixtape,check,out,my,new,mixtape,check,out,my,new,mixtape,check,out,my,new,mixtapecheck,out,my,new,mixtape,check,out,my,new,mixtape,check,out,my,new,mixtape,check,out,my,new,mixtape\n"
     ]
    }
   ],
   "source": [
    "#text cleaning on spam comments for word cloud\n",
    "spam_content = spam_comments['CONTENT'] #pulling comments from the dataframe\n",
    "spam_content = \" \".join(comment for comment in spam_content) #convert to a string object\n",
    "spam_content = spam_content.split() #word tokenization\n",
    "table = str.maketrans('', '', string.punctuation)\n",
    "spam_content = [sc.translate(table) for sc in spam_content] #removing punctuation\n",
    "spam_content = [sc.lower() for sc in spam_content] #converting all text to lowercase\n",
    "spam_content = ','.join(spam_content) #returns to string object\n",
    "print(deEmojify(spam_content)) #removing emojis"
   ]
  },
  {
   "cell_type": "code",
   "execution_count": 102,
   "metadata": {},
   "outputs": [
    {
     "data": {
      "image/png": "[encoded data removed]",
      "text/plain": [
       "<Figure size 432x288 with 1 Axes>"
      ]
     },
     "metadata": {
      "needs_background": "light"
     },
     "output_type": "display_data"
    }
   ],
   "source": [
    "#Building word cloud\n",
    "stopwords = set(STOPWORDS) #remove stop-words\n",
    "wordcloud_spam = WordCloud(max_words=20, \n",
    "                background_color ='white', \n",
    "                stopwords = stopwords).generate(spam_content) \n",
    "plt.imshow(wordcloud_spam) \n",
    "plt.axis(\"off\")\n",
    "plt.show()"
   ]
  },
  {
   "cell_type": "markdown",
   "metadata": {},
   "source": [
    "The top 20 most common words in the spam comments are shown in the word cloud and include: mixtape, check out, subcribe and my music"
   ]
  },
  {
   "cell_type": "markdown",
   "metadata": {},
   "source": [
    "#### Non-Spam Comments"
   ]
  },
  {
   "cell_type": "code",
   "execution_count": 105,
   "metadata": {},
   "outputs": [
    {
     "name": "stdout",
     "output_type": "stream",
     "text": [
      "nice,song﻿,i,love,song,﻿,i,love,song,﻿,860000000,lets,make,it,first,female,to,reach,one,billion,share,it,and,replay,it,﻿,shakira,is,best,for,worldcup﻿,the,best,world,cup,song,ever﻿,i,love﻿,awesome,﻿,i,like,shakira﻿,shakira,,waka,waka,br,love,this,song﻿,why,so,many,disliked﻿,i,don39t,think,this,song,will,ever,get,old,﻿,love,song﻿,wery,good﻿,every,time,i,hear,this,song,i,think,about,iniesta39s,goal,against,the,netherlands﻿,whose,watching,this,in,2015,if,so,hi5﻿,i,love,this,song,so,much,lt3br,keep,em39,coming﻿,i,love,this,song,thumsb,up,to,you﻿,waka,best,one﻿,5,years,later,i,still,love,this,song,br,axy665﻿,like﻿,her,voice,sounds,weird,and,plus,she39s,cute,for,a,blonde﻿,why,there,are,so,many,dislikes,this,song,is,so,awesome,it,sounds,like,we,must,stop,be,racists,if,i,could,i,would,like,it,1000000000,times﻿,nice,love,itttttttt,wurkkkkkkkkkkkkkkkkkkkkkkkkkkkkkkkkkkkkkkkkkkkkkkkkkkkkkkkkkkkkkkkkkkkkkkkkkkkkkkkkkkkkkkkkkkkkkkkkkkkkk﻿,still,watching,in,2015﻿,shakira,is,my,favourite,singer,wooooo﻿,i,remember,this,song,like﻿,whose,who,are,watching,this,in,2015,like﻿,best,song,in,world﻿,beautiful,good,song﻿,she39s,such,an,awesome,entertainer,and,pretty,too,lt3,shakira﻿,love,this,song﻿,love,this,song,my,soccer,team,made,a,cd,for,our,couch,with,this,song,on,it﻿,fave,song﻿,watching,in,2015﻿,i,felt,old,when,i,realized,that,this,song,was,5,years,old﻿,love,shakira﻿,one,of,the,best,song,of,all,the,time﻿,i,really,am,madly,in,love,with,this,woman﻿,i,totally,love,this,song,absolutely,fantastic,i,love,ya,shakira﻿,im,still,watching,in,2015﻿,the,song,is,sad﻿,goood﻿,the,best,fifa,world,cup,song,for,sure﻿,nice,vídeo,shakira,good﻿,waka,waka﻿,she,is,beautiful,but,it,is,not,american﻿,ilovethissong﻿,lamest,world,cup,song,ever,this,time,for,africa,you,mean,in,africa,it,wasn39t,a,live,aid,event,or,something,she,made,it,seem,like,a,charity,case,for,them,instead,of,a,proud,moment,where,was,ricky,martin,when,you,needed,him,smh﻿,my,friend,sam,loves,this,song﻿,i,love,you﻿,to,help,shakira,become,the,first,female,to,hit,1billiom,views,i39ve,decided,to,watch,this,video,at,least,one,a,day,everyday,shakifans,we,r,so,close,just,hit,the,replay,button,﻿,ilove,shakira,﻿,it,was,cool,the,best,song,ever,﻿,omg,listen,to,this,its,soo,good,d﻿,nice,song﻿,waka,waka﻿,super,music﻿,how,could,108k,people,dislike,this,song,or,video﻿,love,it﻿,i,swear,shakira,keeps,getting,more,and,more,gorgeous,she,definitely,looks,more,gorgeous,with,her,hair,this,way,than,super,curly﻿,youtube,comments,be,likebr,this,is,so,5,years,ago,﻿,it,pisses,me,off,a,bit,that,blank,space,has,more,views,868,mio,than,this,meh,﻿,your,the,best♣♥﻿,i,love,you,p﻿,i,love,shakira,,❤﻿,this,song,is,special,because,is,a,song,for,africa,and,i,am,an,african,﻿,lt3,this,song,so,muchshakira,your,a,really,good,artist﻿,i,love,shakirabr,❤❤❤❤﻿,i,remember,that,torunament,like,it,was,today﻿,beautiful﻿,like﻿,shakira,you,are,so,beautiful,you,are,lovely,lively,we,love,you﻿,great﻿,best,world,cup,song﻿,this,song,is,so,beauty,i,heard,this,when,i,was,only,6,years,old,and,i,still,love,it﻿,nice,song﻿,waka,waka﻿,oh,my,god,go,to,1,billion,of,replay,i,love,shakira﻿,i,love,her﻿,i,love,this,song,ampi,love,shakiralt333♡♡♡♡♡♡♡♡♡♡♡《33☆☆☆﻿,i,likedbr,﻿,i,like,this,song,﻿,i,like,it,﻿,waka,waka,﻿,amazing,song﻿,cool,song,﻿,i,love,u,shakira﻿,waka,waka,﻿,this,song,sucks﻿,lol,i,love,this,song﻿,shakira﻿,wow5,yearsbr,﻿,you,best,singer﻿,5,years,soon﻿,like﻿,wanderfol,is,love,or,miusic﻿,waka,waka﻿,best,song,ever,x3333333333﻿,very,pleasant,to,hear,haha,good﻿,love﻿,wow,waka,waka,eh,eh﻿,cutie,girl,and,beautiful,song,love,you,shkira﻿,i,believe,that,soccer,promotes,terrorism,bad,choice,shakira﻿,i,loved,this,song,when,i,was,in,my,teenage,years﻿,lip,synch,is,terrible﻿,shakira,is,different,,she,is,so,happy,all,the,time,and,she,is,spending,for,africa,br,she,can,dance,,sing,and,she,speaks,4,languages﻿,best,world,cup,offical,song﻿,5,years,ago,damn,﻿,very,nice,like,me﻿,shakira,song,waka,waka﻿,so,underrated,betterbr,than,katy,perry,,but,in,not,saying,katy,is,bad,but,she,has,no,meaning,to,her,songs,shakira,hasbr,meaningful,songs,these,are,the,songs,which,bring,memories,and,vibe39s,i,will,miss,it,br,,﻿,i,love,this,song,and,expect,the,world,cup,﻿,good,times,﻿,it,makes,me,happy,instantly,and,makes,me,forgot,everything,bad,happening﻿,love,this,song,so,much,one,of,my,faves,xxx﻿,hi,nice,song,shakira,sorry,for,bad,brazilian﻿,best,song,go,shaki,d﻿,this,is,shit,and,sooooo,autotuned﻿,i,stil,lisening,this,﻿,sexy,shakira﻿,i,love,you,shakiria﻿,me,and,my,aunt,love,this,song﻿,so,beutiful,she39s,so,pretty,i,like,she,is,perfect,your,a,fucking,bitch,this,song,is,racist,where,are,shakifans,like,i,want,new,song,shakira,is,perfect,shakira,,i,remember,this,d,waka,waka,this,makes,me,miss,the,world,cup,best,song,eva,i,love,it,her,voice,is,so,wow,shakira,,,wow,i,love,you,i,like,and,love,so,much,people,all,friends,i,love,shakira,,,shakira,i,love,you,beautiful,shakira,is,very,beautiful,she,is,good,god,she,is,so,hot,she,is,perfect,lt3,wow,shakira,voice,sound,spanish,but,that,is,what,make,the,music,sound,amazing,♥i,love,it,she,is,perfect,beautiful,song,beautiful,girl,it,works,shakira,,omg,love,this,ouf,ouf,ouffffffffffffffffff,,awesome,cool,this,song,will,never,get,old,i,always,have,goose,bumps,at,that,part,love,it,i,love,this,song,i,want,to,see,shakira,not,football,,good,nice,song,,god,she,is,so,sexy,drives,me,crazy,wow,shakira,is,the,best,nice,shakira,shakira,,the,best,wow,love,this,song,love,this,song,,i,watched,this,because,of,the,large,amount,of,views,and,now,i,am,convinced,it,is,because,that,girl,is,so,hot,this,song,always,gives,me,chills,,i,love,dis,song,3,waka,waka,she,rules,she,is,sooooo,beautiful,well,done,shakira,i,love,this,song,because,we,sing,it,at,camp,all,the,time,i,love,this,song,for,two,reasons,1it,is,about,africa,2i,was,born,in,beautiful,south,africa,wow,shakira,u,are,so,wiredo,shakira,is,the,best,dancer\n"
     ]
    },
    {
     "data": {
      "text/plain": [
       "'nice,song\\ufeff,i,love,song,\\ufeff,i,love,song,\\ufeff,860000000,lets,make,it,first,female,to,reach,one,billion,shar'"
      ]
     },
     "execution_count": 105,
     "metadata": {},
     "output_type": "execute_result"
    }
   ],
   "source": [
    "#text cleaning on non-spam comments for word cloud\n",
    "nonspam_content = nonspam_comments['CONTENT'] #pulling non-spam comments from dataframe\n",
    "nonspam_content = \" \".join(comment for comment in nonspam_content) #convert to a string object\n",
    "nonspam_content = nonspam_content.split() #word tokenization\n",
    "nonspam_content = [nsc.translate(table) for nsc in nonspam_content] #removing punctuation\n",
    "nonspam_content = [nsc.lower() for nsc in nonspam_content] #converting all text to lowercase\n",
    "nonspam_content = ','.join(nonspam_content) #returns to string object\n",
    "print(deEmojify(nonspam_content)) #removing emojis\n",
    "nonspam_content[:100]"
   ]
  },
  {
   "cell_type": "code",
   "execution_count": 106,
   "metadata": {},
   "outputs": [
    {
     "data": {
      "image/png": "[encoded data removed]",
      "text/plain": [
       "<Figure size 432x288 with 1 Axes>"
      ]
     },
     "metadata": {
      "needs_background": "light"
     },
     "output_type": "display_data"
    }
   ],
   "source": [
    "stopwords = set(STOPWORDS)\n",
    "wordcloud_nonspam = WordCloud(max_words=20, \n",
    "                background_color ='white', \n",
    "                stopwords = stopwords).generate(nonspam_content) \n",
    "plt.imshow(wordcloud_nonspam) \n",
    "plt.axis(\"off\")\n",
    "plt.show()"
   ]
  },
  {
   "cell_type": "markdown",
   "metadata": {},
   "source": [
    "For non-spam comments, the words/phrases used are related to the video like the name of the artist, the name of the song or the users personal thoughts on the song/video. The most frequently used words include: Shakira, love, song and beautiful."
   ]
  },
  {
   "cell_type": "markdown",
   "metadata": {},
   "source": [
    "### Author vs Class"
   ]
  },
  {
   "cell_type": "markdown",
   "metadata": {},
   "source": [
    "#### Spam Comments"
   ]
  },
  {
   "cell_type": "code",
   "execution_count": 29,
   "metadata": {},
   "outputs": [
    {
     "data": {
      "text/plain": [
       "Shadrach Grentz     7\n",
       "Hidden Love         5\n",
       "James Cook          4\n",
       "ThirdDegr3e         3\n",
       "Louis Bryant        3\n",
       "                   ..\n",
       "Lisa Matthews       1\n",
       "gamila Khalil       1\n",
       "Sudheer Yadav       1\n",
       "Mazacar Cfc         1\n",
       "Pauline Martinez    1\n",
       "Name: AUTHOR, Length: 135, dtype: int64"
      ]
     },
     "execution_count": 29,
     "metadata": {},
     "output_type": "execute_result"
    }
   ],
   "source": [
    "spam_comments['AUTHOR'].value_counts()"
   ]
  },
  {
   "cell_type": "code",
   "execution_count": 30,
   "metadata": {},
   "outputs": [
    {
     "data": {
      "text/plain": [
       "<AxesSubplot:xlabel='count', ylabel='AUTHOR'>"
      ]
     },
     "execution_count": 30,
     "metadata": {},
     "output_type": "execute_result"
    },
    {
     "data": {
      "image/png": "[encoded data removed]",
      "text/plain": [
       "<Figure size 432x288 with 1 Axes>"
      ]
     },
     "metadata": {
      "needs_background": "light"
     },
     "output_type": "display_data"
    }
   ],
   "source": [
    "sns.countplot(y='AUTHOR', data=spam_comments,\n",
    "              order=spam_comments.AUTHOR.value_counts().iloc[:11].index)"
   ]
  },
  {
   "cell_type": "code",
   "execution_count": 43,
   "metadata": {},
   "outputs": [
    {
     "data": {
      "text/html": [
       "<div>\n",
       "<style scoped>\n",
       "    .dataframe tbody tr th:only-of-type {\n",
       "        vertical-align: middle;\n",
       "    }\n",
       "\n",
       "    .dataframe tbody tr th {\n",
       "        vertical-align: top;\n",
       "    }\n",
       "\n",
       "    .dataframe thead th {\n",
       "        text-align: right;\n",
       "    }\n",
       "</style>\n",
       "<table border=\"1\" class=\"dataframe\">\n",
       "  <thead>\n",
       "    <tr style=\"text-align: right;\">\n",
       "      <th></th>\n",
       "      <th>COMMENT_ID</th>\n",
       "      <th>AUTHOR</th>\n",
       "      <th>DATE</th>\n",
       "      <th>CONTENT</th>\n",
       "      <th>CLASS</th>\n",
       "      <th>CONTENT_LENGTH</th>\n",
       "      <th>YEAR_MONTH</th>\n",
       "    </tr>\n",
       "  </thead>\n",
       "  <tbody>\n",
       "    <tr>\n",
       "      <th>250</th>\n",
       "      <td>_2viQ_Qnc68dceJbTRNTP2sksMxa_lm35LaCu_jPluY</td>\n",
       "      <td>Shadrach Grentz</td>\n",
       "      <td>2013-09-29 13:59:42.162</td>\n",
       "      <td>Hey Music Fans I really appreciate any of you ...</td>\n",
       "      <td>1</td>\n",
       "      <td>506</td>\n",
       "      <td>2013-09</td>\n",
       "    </tr>\n",
       "    <tr>\n",
       "      <th>328</th>\n",
       "      <td>_2viQ_Qnc69zyetF6GsHRzYGyXl4u5kg0Sm-nP-pupI</td>\n",
       "      <td>Shadrach Grentz</td>\n",
       "      <td>2013-08-02 03:15:46.914</td>\n",
       "      <td>Hey Music Fans I really appreciate any of you ...</td>\n",
       "      <td>1</td>\n",
       "      <td>505</td>\n",
       "      <td>2013-08</td>\n",
       "    </tr>\n",
       "    <tr>\n",
       "      <th>329</th>\n",
       "      <td>_2viQ_Qnc699u36gNm3NRoq1quIaJWRNrftGEEZM3J4</td>\n",
       "      <td>Shadrach Grentz</td>\n",
       "      <td>2013-08-01 21:43:52.122</td>\n",
       "      <td>Hey Music Fans I really appreciate any of you ...</td>\n",
       "      <td>1</td>\n",
       "      <td>506</td>\n",
       "      <td>2013-08</td>\n",
       "    </tr>\n",
       "    <tr>\n",
       "      <th>330</th>\n",
       "      <td>_2viQ_Qnc68LqKGb40V2ImKQYcp1ZqpHrCCMFqMCcA4</td>\n",
       "      <td>Shadrach Grentz</td>\n",
       "      <td>2013-08-01 20:39:15.325</td>\n",
       "      <td>Hey Music Fans I really appreciate any of you ...</td>\n",
       "      <td>1</td>\n",
       "      <td>506</td>\n",
       "      <td>2013-08</td>\n",
       "    </tr>\n",
       "    <tr>\n",
       "      <th>334</th>\n",
       "      <td>_2viQ_Qnc69Nq0Ytk1jCpzWPCrpGEk6T7cdVAxfSlAk</td>\n",
       "      <td>Shadrach Grentz</td>\n",
       "      <td>2013-07-29 17:39:24.876</td>\n",
       "      <td>Hey Music Fans I really appreciate any of you ...</td>\n",
       "      <td>1</td>\n",
       "      <td>506</td>\n",
       "      <td>2013-07</td>\n",
       "    </tr>\n",
       "    <tr>\n",
       "      <th>341</th>\n",
       "      <td>_2viQ_Qnc6_YN7xFNAg14zX99Y614Salf57yOcrBRSw</td>\n",
       "      <td>Shadrach Grentz</td>\n",
       "      <td>2013-07-21 12:21:37.898</td>\n",
       "      <td>Hey Music Fans I really appreciate all of you ...</td>\n",
       "      <td>1</td>\n",
       "      <td>504</td>\n",
       "      <td>2013-07</td>\n",
       "    </tr>\n",
       "    <tr>\n",
       "      <th>358</th>\n",
       "      <td>_2viQ_Qnc6-jk58CPwBnqfbM6oByJH5oPvCtKecLQyo</td>\n",
       "      <td>Shadrach Grentz</td>\n",
       "      <td>2013-07-14 03:11:20.243</td>\n",
       "      <td>Hey Music Fans I really appreciate all of you ...</td>\n",
       "      <td>1</td>\n",
       "      <td>504</td>\n",
       "      <td>2013-07</td>\n",
       "    </tr>\n",
       "  </tbody>\n",
       "</table>\n",
       "</div>"
      ],
      "text/plain": [
       "                                      COMMENT_ID           AUTHOR  \\\n",
       "250  _2viQ_Qnc68dceJbTRNTP2sksMxa_lm35LaCu_jPluY  Shadrach Grentz   \n",
       "328  _2viQ_Qnc69zyetF6GsHRzYGyXl4u5kg0Sm-nP-pupI  Shadrach Grentz   \n",
       "329  _2viQ_Qnc699u36gNm3NRoq1quIaJWRNrftGEEZM3J4  Shadrach Grentz   \n",
       "330  _2viQ_Qnc68LqKGb40V2ImKQYcp1ZqpHrCCMFqMCcA4  Shadrach Grentz   \n",
       "334  _2viQ_Qnc69Nq0Ytk1jCpzWPCrpGEk6T7cdVAxfSlAk  Shadrach Grentz   \n",
       "341  _2viQ_Qnc6_YN7xFNAg14zX99Y614Salf57yOcrBRSw  Shadrach Grentz   \n",
       "358  _2viQ_Qnc6-jk58CPwBnqfbM6oByJH5oPvCtKecLQyo  Shadrach Grentz   \n",
       "\n",
       "                       DATE  \\\n",
       "250 2013-09-29 13:59:42.162   \n",
       "328 2013-08-02 03:15:46.914   \n",
       "329 2013-08-01 21:43:52.122   \n",
       "330 2013-08-01 20:39:15.325   \n",
       "334 2013-07-29 17:39:24.876   \n",
       "341 2013-07-21 12:21:37.898   \n",
       "358 2013-07-14 03:11:20.243   \n",
       "\n",
       "                                               CONTENT  CLASS  CONTENT_LENGTH  \\\n",
       "250  Hey Music Fans I really appreciate any of you ...      1             506   \n",
       "328  Hey Music Fans I really appreciate any of you ...      1             505   \n",
       "329  Hey Music Fans I really appreciate any of you ...      1             506   \n",
       "330  Hey Music Fans I really appreciate any of you ...      1             506   \n",
       "334  Hey Music Fans I really appreciate any of you ...      1             506   \n",
       "341  Hey Music Fans I really appreciate all of you ...      1             504   \n",
       "358  Hey Music Fans I really appreciate all of you ...      1             504   \n",
       "\n",
       "    YEAR_MONTH  \n",
       "250    2013-09  \n",
       "328    2013-08  \n",
       "329    2013-08  \n",
       "330    2013-08  \n",
       "334    2013-07  \n",
       "341    2013-07  \n",
       "358    2013-07  "
      ]
     },
     "execution_count": 43,
     "metadata": {},
     "output_type": "execute_result"
    }
   ],
   "source": [
    "spam_comments.loc[(spam_comments['AUTHOR']=='Shadrach Grentz')]"
   ]
  },
  {
   "cell_type": "code",
   "execution_count": 42,
   "metadata": {},
   "outputs": [
    {
     "data": {
      "text/html": [
       "<div>\n",
       "<style scoped>\n",
       "    .dataframe tbody tr th:only-of-type {\n",
       "        vertical-align: middle;\n",
       "    }\n",
       "\n",
       "    .dataframe tbody tr th {\n",
       "        vertical-align: top;\n",
       "    }\n",
       "\n",
       "    .dataframe thead th {\n",
       "        text-align: right;\n",
       "    }\n",
       "</style>\n",
       "<table border=\"1\" class=\"dataframe\">\n",
       "  <thead>\n",
       "    <tr style=\"text-align: right;\">\n",
       "      <th></th>\n",
       "      <th>COMMENT_ID</th>\n",
       "      <th>AUTHOR</th>\n",
       "      <th>DATE</th>\n",
       "      <th>CONTENT</th>\n",
       "      <th>CLASS</th>\n",
       "      <th>CONTENT_LENGTH</th>\n",
       "      <th>YEAR_MONTH</th>\n",
       "    </tr>\n",
       "  </thead>\n",
       "  <tbody>\n",
       "    <tr>\n",
       "      <th>253</th>\n",
       "      <td>_2viQ_Qnc6_onwOgxju-DV6WkqHZEOztCXD04EgEFBU</td>\n",
       "      <td>Hidden Love</td>\n",
       "      <td>2013-09-24 14:29:54.072</td>\n",
       "      <td>Hi. Check out and share our songs.</td>\n",
       "      <td>1</td>\n",
       "      <td>34</td>\n",
       "      <td>2013-09</td>\n",
       "    </tr>\n",
       "    <tr>\n",
       "      <th>325</th>\n",
       "      <td>_2viQ_Qnc69r15LuL8TDbisnTJ_hf5RfcyJAyoMC5eo</td>\n",
       "      <td>Hidden Love</td>\n",
       "      <td>2013-08-06 11:40:05.581</td>\n",
       "      <td>Hi. Check out and share our songs.</td>\n",
       "      <td>1</td>\n",
       "      <td>34</td>\n",
       "      <td>2013-08</td>\n",
       "    </tr>\n",
       "    <tr>\n",
       "      <th>331</th>\n",
       "      <td>_2viQ_Qnc68Qq98m0mmx4rlprYiD6aYgMb2x3bdupEM</td>\n",
       "      <td>Hidden Love</td>\n",
       "      <td>2013-08-01 09:19:56.654</td>\n",
       "      <td>Hi. Check out and share our songs.</td>\n",
       "      <td>1</td>\n",
       "      <td>34</td>\n",
       "      <td>2013-08</td>\n",
       "    </tr>\n",
       "    <tr>\n",
       "      <th>332</th>\n",
       "      <td>_2viQ_Qnc698fLCQzZmRt1CqPhf0L6mchwWG5gsUlzk</td>\n",
       "      <td>Hidden Love</td>\n",
       "      <td>2013-07-31 10:22:02.628</td>\n",
       "      <td>Hi. Check out and share our songs.</td>\n",
       "      <td>1</td>\n",
       "      <td>34</td>\n",
       "      <td>2013-07</td>\n",
       "    </tr>\n",
       "    <tr>\n",
       "      <th>333</th>\n",
       "      <td>_2viQ_Qnc68sxLpsBQ1cPk_LLH91SMsRav51KmhIoQw</td>\n",
       "      <td>Hidden Love</td>\n",
       "      <td>2013-07-30 11:22:57.091</td>\n",
       "      <td>Hi.Check out and share our songs.</td>\n",
       "      <td>1</td>\n",
       "      <td>33</td>\n",
       "      <td>2013-07</td>\n",
       "    </tr>\n",
       "  </tbody>\n",
       "</table>\n",
       "</div>"
      ],
      "text/plain": [
       "                                      COMMENT_ID       AUTHOR  \\\n",
       "253  _2viQ_Qnc6_onwOgxju-DV6WkqHZEOztCXD04EgEFBU  Hidden Love   \n",
       "325  _2viQ_Qnc69r15LuL8TDbisnTJ_hf5RfcyJAyoMC5eo  Hidden Love   \n",
       "331  _2viQ_Qnc68Qq98m0mmx4rlprYiD6aYgMb2x3bdupEM  Hidden Love   \n",
       "332  _2viQ_Qnc698fLCQzZmRt1CqPhf0L6mchwWG5gsUlzk  Hidden Love   \n",
       "333  _2viQ_Qnc68sxLpsBQ1cPk_LLH91SMsRav51KmhIoQw  Hidden Love   \n",
       "\n",
       "                       DATE                             CONTENT  CLASS  \\\n",
       "253 2013-09-24 14:29:54.072  Hi. Check out and share our songs.      1   \n",
       "325 2013-08-06 11:40:05.581  Hi. Check out and share our songs.      1   \n",
       "331 2013-08-01 09:19:56.654  Hi. Check out and share our songs.      1   \n",
       "332 2013-07-31 10:22:02.628  Hi. Check out and share our songs.      1   \n",
       "333 2013-07-30 11:22:57.091   Hi.Check out and share our songs.      1   \n",
       "\n",
       "     CONTENT_LENGTH YEAR_MONTH  \n",
       "253              34    2013-09  \n",
       "325              34    2013-08  \n",
       "331              34    2013-08  \n",
       "332              34    2013-07  \n",
       "333              33    2013-07  "
      ]
     },
     "execution_count": 42,
     "metadata": {},
     "output_type": "execute_result"
    }
   ],
   "source": [
    "spam_comments.loc[(spam_comments['AUTHOR']=='Hidden Love')]"
   ]
  },
  {
   "cell_type": "code",
   "execution_count": 41,
   "metadata": {},
   "outputs": [
    {
     "data": {
      "text/html": [
       "<div>\n",
       "<style scoped>\n",
       "    .dataframe tbody tr th:only-of-type {\n",
       "        vertical-align: middle;\n",
       "    }\n",
       "\n",
       "    .dataframe tbody tr th {\n",
       "        vertical-align: top;\n",
       "    }\n",
       "\n",
       "    .dataframe thead th {\n",
       "        text-align: right;\n",
       "    }\n",
       "</style>\n",
       "<table border=\"1\" class=\"dataframe\">\n",
       "  <thead>\n",
       "    <tr style=\"text-align: right;\">\n",
       "      <th></th>\n",
       "      <th>COMMENT_ID</th>\n",
       "      <th>AUTHOR</th>\n",
       "      <th>DATE</th>\n",
       "      <th>CONTENT</th>\n",
       "      <th>CLASS</th>\n",
       "      <th>CONTENT_LENGTH</th>\n",
       "      <th>YEAR_MONTH</th>\n",
       "    </tr>\n",
       "  </thead>\n",
       "  <tbody>\n",
       "    <tr>\n",
       "      <th>186</th>\n",
       "      <td>_2viQ_Qnc69ShtSmsaBOGFHrTAVCkLAtpOr40oiL5Yg</td>\n",
       "      <td>James Cook</td>\n",
       "      <td>2013-10-20 13:31:10.083</td>\n",
       "      <td>Stop Wasting Up Your Time and  Get Paid To Mes...</td>\n",
       "      <td>1</td>\n",
       "      <td>478</td>\n",
       "      <td>2013-10</td>\n",
       "    </tr>\n",
       "    <tr>\n",
       "      <th>192</th>\n",
       "      <td>_2viQ_Qnc68eqIzELH00rh9umGlUKSRuQvWZAXhr_qM</td>\n",
       "      <td>James Cook</td>\n",
       "      <td>2013-10-15 17:00:04.573</td>\n",
       "      <td>Stop Wasting Up Your Time and  Get Paid To Mes...</td>\n",
       "      <td>1</td>\n",
       "      <td>478</td>\n",
       "      <td>2013-10</td>\n",
       "    </tr>\n",
       "    <tr>\n",
       "      <th>194</th>\n",
       "      <td>_2viQ_Qnc6-grcnVFTtwnhvC9tpgVG33p5a0AZHKlLI</td>\n",
       "      <td>James Cook</td>\n",
       "      <td>2013-10-14 10:35:03.861</td>\n",
       "      <td>Hello Guys...I Found a Way to Make Money Onlin...</td>\n",
       "      <td>1</td>\n",
       "      <td>498</td>\n",
       "      <td>2013-10</td>\n",
       "    </tr>\n",
       "    <tr>\n",
       "      <th>200</th>\n",
       "      <td>_2viQ_Qnc69BVRuBYCJ6ik7gdMwTiBRS9DDnTjNs-Gg</td>\n",
       "      <td>James Cook</td>\n",
       "      <td>2013-10-10 18:08:07.815</td>\n",
       "      <td>Hello Guys...I Found a Way to Make Money Onlin...</td>\n",
       "      <td>1</td>\n",
       "      <td>498</td>\n",
       "      <td>2013-10</td>\n",
       "    </tr>\n",
       "  </tbody>\n",
       "</table>\n",
       "</div>"
      ],
      "text/plain": [
       "                                      COMMENT_ID      AUTHOR  \\\n",
       "186  _2viQ_Qnc69ShtSmsaBOGFHrTAVCkLAtpOr40oiL5Yg  James Cook   \n",
       "192  _2viQ_Qnc68eqIzELH00rh9umGlUKSRuQvWZAXhr_qM  James Cook   \n",
       "194  _2viQ_Qnc6-grcnVFTtwnhvC9tpgVG33p5a0AZHKlLI  James Cook   \n",
       "200  _2viQ_Qnc69BVRuBYCJ6ik7gdMwTiBRS9DDnTjNs-Gg  James Cook   \n",
       "\n",
       "                       DATE  \\\n",
       "186 2013-10-20 13:31:10.083   \n",
       "192 2013-10-15 17:00:04.573   \n",
       "194 2013-10-14 10:35:03.861   \n",
       "200 2013-10-10 18:08:07.815   \n",
       "\n",
       "                                               CONTENT  CLASS  CONTENT_LENGTH  \\\n",
       "186  Stop Wasting Up Your Time and  Get Paid To Mes...      1             478   \n",
       "192  Stop Wasting Up Your Time and  Get Paid To Mes...      1             478   \n",
       "194  Hello Guys...I Found a Way to Make Money Onlin...      1             498   \n",
       "200  Hello Guys...I Found a Way to Make Money Onlin...      1             498   \n",
       "\n",
       "    YEAR_MONTH  \n",
       "186    2013-10  \n",
       "192    2013-10  \n",
       "194    2013-10  \n",
       "200    2013-10  "
      ]
     },
     "execution_count": 41,
     "metadata": {},
     "output_type": "execute_result"
    }
   ],
   "source": [
    "spam_comments.loc[(spam_comments['AUTHOR']=='James Cook')]"
   ]
  },
  {
   "cell_type": "markdown",
   "metadata": {},
   "source": [
    "The top 3 of the spam comment authors post comments directing users to check out their own music or about making money online. They each also post the exact same comment over and over again at different times and on different days."
   ]
  },
  {
   "cell_type": "markdown",
   "metadata": {},
   "source": [
    "#### Non-Spam Comments"
   ]
  },
  {
   "cell_type": "code",
   "execution_count": 34,
   "metadata": {},
   "outputs": [
    {
     "data": {
      "text/plain": [
       "5000palo          7\n",
       "tyler sleetway    2\n",
       "Alain Bruno       2\n",
       "Athena Gomez      2\n",
       "LiveLikeLien x    2\n",
       "                 ..\n",
       "Laura Gray        1\n",
       "hsn moghrbi       1\n",
       "Aliens Studios    1\n",
       "Trygve Nilsen     1\n",
       "marko kacar       1\n",
       "Name: AUTHOR, Length: 184, dtype: int64"
      ]
     },
     "execution_count": 34,
     "metadata": {},
     "output_type": "execute_result"
    }
   ],
   "source": [
    "nonspam_comments['AUTHOR'].value_counts()"
   ]
  },
  {
   "cell_type": "code",
   "execution_count": 35,
   "metadata": {},
   "outputs": [
    {
     "data": {
      "text/plain": [
       "<AxesSubplot:xlabel='count', ylabel='AUTHOR'>"
      ]
     },
     "execution_count": 35,
     "metadata": {},
     "output_type": "execute_result"
    },
    {
     "data": {
      "image/png": "[encoded data removed]",
      "text/plain": [
       "<Figure size 432x288 with 1 Axes>"
      ]
     },
     "metadata": {
      "needs_background": "light"
     },
     "output_type": "display_data"
    }
   ],
   "source": [
    "sns.countplot(y='AUTHOR', data=nonspam_comments,\n",
    "              order=nonspam_comments.AUTHOR.value_counts().iloc[:11].index)"
   ]
  },
  {
   "cell_type": "code",
   "execution_count": 36,
   "metadata": {},
   "outputs": [
    {
     "data": {
      "text/plain": [
       "215     She is perfect\n",
       "221    I want new song\n",
       "223        Shakira :-*\n",
       "234        Shakira :-*\n",
       "261     She is perfect\n",
       "264        Shakira :-*\n",
       "286        Shakira :-*\n",
       "Name: CONTENT, dtype: object"
      ]
     },
     "execution_count": 36,
     "metadata": {},
     "output_type": "execute_result"
    }
   ],
   "source": [
    "nonspam_comments.loc[(nonspam_comments['AUTHOR']=='5000palo')]['CONTENT'][:50]"
   ]
  },
  {
   "cell_type": "code",
   "execution_count": 37,
   "metadata": {},
   "outputs": [
    {
     "data": {
      "text/plain": [
       "145             I love you Shakiria!!!!!!﻿\n",
       "146    Me and my aunt love this song!!!!!﻿\n",
       "Name: CONTENT, dtype: object"
      ]
     },
     "execution_count": 37,
     "metadata": {},
     "output_type": "execute_result"
    }
   ],
   "source": [
    "nonspam_comments.loc[(nonspam_comments['AUTHOR']=='LaiLa Steudle')]['CONTENT'][:50]"
   ]
  },
  {
   "cell_type": "markdown",
   "metadata": {},
   "source": [
    "One the other hand the non-spam users post comments related to the song or video and about their love for the artist. Also, leaving more than 2 comments is considered an outlier."
   ]
  },
  {
   "cell_type": "markdown",
   "metadata": {},
   "source": [
    "### Comment Length vs Class "
   ]
  },
  {
   "cell_type": "markdown",
   "metadata": {},
   "source": [
    "#### Spam Comments"
   ]
  },
  {
   "cell_type": "code",
   "execution_count": 44,
   "metadata": {},
   "outputs": [
    {
     "data": {
      "text/plain": [
       "Text(0.5, 1.0, 'Distribution of Spam Comment Length')"
      ]
     },
     "execution_count": 44,
     "metadata": {},
     "output_type": "execute_result"
    },
    {
     "data": {
      "image/png": "[encoded data removed]",
      "text/plain": [
       "<Figure size 432x288 with 1 Axes>"
      ]
     },
     "metadata": {
      "needs_background": "light"
     },
     "output_type": "display_data"
    }
   ],
   "source": [
    "spam_comments['CONTENT_LENGTH'].hist(bins=20)\n",
    "plt.title('Distribution of Spam Comment Length')"
   ]
  },
  {
   "cell_type": "code",
   "execution_count": 45,
   "metadata": {},
   "outputs": [
    {
     "name": "stdout",
     "output_type": "stream",
     "text": [
      "Average Comment Length: 196.33908045977012\n",
      "Minimum Comment Length: 13\n",
      "Maximum Comment Length: 1125\n"
     ]
    }
   ],
   "source": [
    "print(\"Average Comment Length:\",spam_comments['CONTENT_LENGTH'].mean())\n",
    "print(\"Minimum Comment Length:\",spam_comments['CONTENT_LENGTH'].min())\n",
    "print(\"Maximum Comment Length:\",spam_comments['CONTENT_LENGTH'].max())"
   ]
  },
  {
   "cell_type": "markdown",
   "metadata": {},
   "source": [
    "#### Non-Spam Comments"
   ]
  },
  {
   "cell_type": "code",
   "execution_count": 46,
   "metadata": {},
   "outputs": [
    {
     "data": {
      "text/plain": [
       "Text(0.5, 1.0, 'Distribution of Non-Spam Comment Length')"
      ]
     },
     "execution_count": 46,
     "metadata": {},
     "output_type": "execute_result"
    },
    {
     "data": {
      "image/png": "[encoded data removed]",
      "text/plain": [
       "<Figure size 432x288 with 1 Axes>"
      ]
     },
     "metadata": {
      "needs_background": "light"
     },
     "output_type": "display_data"
    }
   ],
   "source": [
    "nonspam_comments['CONTENT_LENGTH'].hist(bins=20)\n",
    "plt.title('Distribution of Non-Spam Comment Length')"
   ]
  },
  {
   "cell_type": "code",
   "execution_count": 47,
   "metadata": {},
   "outputs": [
    {
     "name": "stdout",
     "output_type": "stream",
     "text": [
      "Average Comment Length: 31.321428571428573\n",
      "Minimum Comment Length: 2\n",
      "Maximum Comment Length: 236\n"
     ]
    }
   ],
   "source": [
    "print(\"Average Comment Length:\",nonspam_comments['CONTENT_LENGTH'].mean())\n",
    "print(\"Minimum Comment Length:\",nonspam_comments['CONTENT_LENGTH'].min())\n",
    "print(\"Maximum Comment Length:\",nonspam_comments['CONTENT_LENGTH'].max())"
   ]
  },
  {
   "cell_type": "markdown",
   "metadata": {},
   "source": [
    "Most users leave short comments, however based on the average, minimum and maximum comment length along with the second peak that appears around 450-500 words, spam comments do seem to be longer than non-spam."
   ]
  },
  {
   "cell_type": "markdown",
   "metadata": {},
   "source": [
    "To determine if the difference between spam and non-spam comment length is significant. I performed a hypothesis test using Wilcoxon rank sum because the distribution of comment length is not normal (based on the plot in univariate analysis and the Shapiro-Wilk test for normality below) and and the data is not paired. "
   ]
  },
  {
   "cell_type": "code",
   "execution_count": 14,
   "metadata": {},
   "outputs": [
    {
     "name": "stdout",
     "output_type": "stream",
     "text": [
      "sample does not look gaussian (fail to reject H0)\n"
     ]
    }
   ],
   "source": [
    "#Shapiro-Wilk test for normality\n",
    "from scipy.stats import shapiro\n",
    "Stat, p = shapiro(shakira['CONTENT_LENGTH'])\n",
    "alpha = 0.05\n",
    "if p > alpha:\n",
    "    print('sample looks gaussian (fail to reject H0)')\n",
    "else:\n",
    "    print('sample does not look gaussian (fail to reject H0)')"
   ]
  },
  {
   "cell_type": "code",
   "execution_count": 11,
   "metadata": {},
   "outputs": [
    {
     "data": {
      "text/plain": [
       "RanksumsResult(statistic=12.308044696487045, pvalue=8.198539697859426e-35)"
      ]
     },
     "execution_count": 11,
     "metadata": {},
     "output_type": "execute_result"
    }
   ],
   "source": [
    "# Wilcoxon rank sum test\n",
    "from scipy.stats import ranksums\n",
    "ranksums(spam_comments['CONTENT_LENGTH'], nonspam_comments['CONTENT_LENGTH'])"
   ]
  },
  {
   "cell_type": "markdown",
   "metadata": {},
   "source": [
    "The results of the rank sum test show a p-value less than 0.05. Therefore the null hypothesis (the two populations are the same) is rejected at the 5% significance level. There is a difference between the comment length of spam and non-spam comments."
   ]
  },
  {
   "cell_type": "markdown",
   "metadata": {},
   "source": [
    "### Uppercase vs Class"
   ]
  },
  {
   "cell_type": "code",
   "execution_count": 49,
   "metadata": {},
   "outputs": [
    {
     "data": {
      "text/html": [
       "<div>\n",
       "<style scoped>\n",
       "    .dataframe tbody tr th:only-of-type {\n",
       "        vertical-align: middle;\n",
       "    }\n",
       "\n",
       "    .dataframe tbody tr th {\n",
       "        vertical-align: top;\n",
       "    }\n",
       "\n",
       "    .dataframe thead th {\n",
       "        text-align: right;\n",
       "    }\n",
       "</style>\n",
       "<table border=\"1\" class=\"dataframe\">\n",
       "  <thead>\n",
       "    <tr style=\"text-align: right;\">\n",
       "      <th></th>\n",
       "      <th>COMMENT_ID</th>\n",
       "      <th>AUTHOR</th>\n",
       "      <th>DATE</th>\n",
       "      <th>CONTENT</th>\n",
       "      <th>CLASS</th>\n",
       "      <th>CLEANED_CONTENT</th>\n",
       "      <th>URLs</th>\n",
       "      <th>UPPERCASE</th>\n",
       "    </tr>\n",
       "  </thead>\n",
       "  <tbody>\n",
       "    <tr>\n",
       "      <th>0</th>\n",
       "      <td>z13lgffb5w3ddx1ul22qy1wxspy5cpkz504</td>\n",
       "      <td>dharma pal</td>\n",
       "      <td>2015-05-29T02:30:18.971000</td>\n",
       "      <td>Nice song﻿</td>\n",
       "      <td>0</td>\n",
       "      <td>nice song</td>\n",
       "      <td>Nice song﻿</td>\n",
       "      <td>1</td>\n",
       "    </tr>\n",
       "    <tr>\n",
       "      <th>1</th>\n",
       "      <td>z123dbgb0mqjfxbtz22ucjc5jvzcv3ykj</td>\n",
       "      <td>Tiza Arellano</td>\n",
       "      <td>2015-05-29T00:14:48.748000</td>\n",
       "      <td>I love song ﻿</td>\n",
       "      <td>0</td>\n",
       "      <td>i love song</td>\n",
       "      <td>I love song ﻿</td>\n",
       "      <td>1</td>\n",
       "    </tr>\n",
       "    <tr>\n",
       "      <th>2</th>\n",
       "      <td>z12quxxp2vutflkxv04cihggzt2azl34pms0k</td>\n",
       "      <td>Prìñçeśś Âliś Łøvê Dømíñø Mâđiś™ ﻿</td>\n",
       "      <td>2015-05-28T21:00:08.607000</td>\n",
       "      <td>I love song ﻿</td>\n",
       "      <td>0</td>\n",
       "      <td>i love song</td>\n",
       "      <td>I love song ﻿</td>\n",
       "      <td>1</td>\n",
       "    </tr>\n",
       "  </tbody>\n",
       "</table>\n",
       "</div>"
      ],
      "text/plain": [
       "                              COMMENT_ID                              AUTHOR  \\\n",
       "0    z13lgffb5w3ddx1ul22qy1wxspy5cpkz504                          dharma pal   \n",
       "1      z123dbgb0mqjfxbtz22ucjc5jvzcv3ykj                       Tiza Arellano   \n",
       "2  z12quxxp2vutflkxv04cihggzt2azl34pms0k  Prìñçeśś Âliś Łøvê Dømíñø Mâđiś™ ﻿   \n",
       "\n",
       "                         DATE        CONTENT  CLASS CLEANED_CONTENT  \\\n",
       "0  2015-05-29T02:30:18.971000     Nice song﻿      0       nice song   \n",
       "1  2015-05-29T00:14:48.748000  I love song ﻿      0     i love song   \n",
       "2  2015-05-28T21:00:08.607000  I love song ﻿      0     i love song   \n",
       "\n",
       "            URLs  UPPERCASE  \n",
       "0     Nice song﻿          1  \n",
       "1  I love song ﻿          1  \n",
       "2  I love song ﻿          1  "
      ]
     },
     "execution_count": 49,
     "metadata": {},
     "output_type": "execute_result"
    }
   ],
   "source": [
    "shakira['UPPERCASE'] = shakira['CONTENT'].str.findall(r'[A-Z]').str.len()\n",
    "shakira.head(3)"
   ]
  },
  {
   "cell_type": "code",
   "execution_count": 50,
   "metadata": {},
   "outputs": [],
   "source": [
    "nonspam_comments = shakira.loc[(shakira['CLASS'] == 0)]\n",
    "spam_comments = shakira.loc[(shakira['CLASS']==1)]"
   ]
  },
  {
   "cell_type": "markdown",
   "metadata": {},
   "source": [
    "#### Spam Uppercase Characters"
   ]
  },
  {
   "cell_type": "code",
   "execution_count": 54,
   "metadata": {},
   "outputs": [
    {
     "data": {
      "text/plain": [
       "Text(0.5, 1.0, 'Number of Uppercase Letters in Spam Comments')"
      ]
     },
     "execution_count": 54,
     "metadata": {},
     "output_type": "execute_result"
    },
    {
     "data": {
      "image/png": "[encoded data removed]",
      "text/plain": [
       "<Figure size 432x288 with 1 Axes>"
      ]
     },
     "metadata": {
      "needs_background": "light"
     },
     "output_type": "display_data"
    }
   ],
   "source": [
    "spam_comments['UPPERCASE'].hist()\n",
    "plt.title('Number of Uppercase Letters in Spam Comments')"
   ]
  },
  {
   "cell_type": "code",
   "execution_count": 56,
   "metadata": {},
   "outputs": [
    {
     "name": "stdout",
     "output_type": "stream",
     "text": [
      "Average Uppercase Characters Used: 22.85632183908046\n",
      "Minimum Uppercase Characters Used: 0\n",
      "Maximum Uppercase Characters Used: 320\n"
     ]
    }
   ],
   "source": [
    "print(\"Average Uppercase Characters Used:\",spam_comments['UPPERCASE'].mean())\n",
    "print(\"Minimum Uppercase Characters Used:\",spam_comments['UPPERCASE'].min())\n",
    "print(\"Maximum Uppercase Characters Used:\",spam_comments['UPPERCASE'].max())"
   ]
  },
  {
   "cell_type": "markdown",
   "metadata": {},
   "source": [
    "#### Non-Spam Uppercase Characters"
   ]
  },
  {
   "cell_type": "code",
   "execution_count": 52,
   "metadata": {},
   "outputs": [
    {
     "data": {
      "text/plain": [
       "Text(0.5, 1.0, 'Number of Uppercase Letters in Non-Spam Comments')"
      ]
     },
     "execution_count": 52,
     "metadata": {},
     "output_type": "execute_result"
    },
    {
     "data": {
      "image/png": "[encoded data removed]",
      "text/plain": [
       "<Figure size 432x288 with 1 Axes>"
      ]
     },
     "metadata": {
      "needs_background": "light"
     },
     "output_type": "display_data"
    }
   ],
   "source": [
    "nonspam_comments['UPPERCASE'].hist()\n",
    "plt.title('Number of Uppercase Letters in Non-Spam Comments')"
   ]
  },
  {
   "cell_type": "code",
   "execution_count": 57,
   "metadata": {},
   "outputs": [
    {
     "name": "stdout",
     "output_type": "stream",
     "text": [
      "Average Uppercase Characters Used: 2.353846153846154\n",
      "Minimum Uppercase Characters Used: 0\n",
      "Maximum Uppercase Characters Used: 28\n"
     ]
    }
   ],
   "source": [
    "print(\"Average Uppercase Characters Used:\",nonspam_comments['UPPERCASE'].mean())\n",
    "print(\"Minimum Uppercase Characters Used:\",nonspam_comments['UPPERCASE'].min())\n",
    "print(\"Maximum Uppercase Characters Used:\",nonspam_comments['UPPERCASE'].max())"
   ]
  },
  {
   "cell_type": "markdown",
   "metadata": {},
   "source": [
    "Spam comments tend to use more uppercase characters perhaps as a way to capture attention. The average number of uppercase letters used in spam is 22 compared to non-spam which averages at 2 uppercase letters. Although both distributions are similar, spam comments have a larger range. The maximum number of uppercase letters used in spam is 320 compared to 28 with non-spam."
   ]
  },
  {
   "cell_type": "markdown",
   "metadata": {},
   "source": [
    "### Presence of URLs vs Class"
   ]
  },
  {
   "cell_type": "code",
   "execution_count": 10,
   "metadata": {},
   "outputs": [
    {
     "data": {
      "text/html": [
       "<div>\n",
       "<style scoped>\n",
       "    .dataframe tbody tr th:only-of-type {\n",
       "        vertical-align: middle;\n",
       "    }\n",
       "\n",
       "    .dataframe tbody tr th {\n",
       "        vertical-align: top;\n",
       "    }\n",
       "\n",
       "    .dataframe thead th {\n",
       "        text-align: right;\n",
       "    }\n",
       "</style>\n",
       "<table border=\"1\" class=\"dataframe\">\n",
       "  <thead>\n",
       "    <tr style=\"text-align: right;\">\n",
       "      <th></th>\n",
       "      <th>COMMENT_ID</th>\n",
       "      <th>AUTHOR</th>\n",
       "      <th>DATE</th>\n",
       "      <th>CONTENT</th>\n",
       "      <th>CLASS</th>\n",
       "      <th>CLEANED_CONTENT</th>\n",
       "      <th>URLs</th>\n",
       "    </tr>\n",
       "  </thead>\n",
       "  <tbody>\n",
       "    <tr>\n",
       "      <th>0</th>\n",
       "      <td>z13lgffb5w3ddx1ul22qy1wxspy5cpkz504</td>\n",
       "      <td>dharma pal</td>\n",
       "      <td>2015-05-29T02:30:18.971000</td>\n",
       "      <td>Nice song﻿</td>\n",
       "      <td>0</td>\n",
       "      <td>Nice song</td>\n",
       "      <td>Nice song﻿</td>\n",
       "    </tr>\n",
       "    <tr>\n",
       "      <th>1</th>\n",
       "      <td>z123dbgb0mqjfxbtz22ucjc5jvzcv3ykj</td>\n",
       "      <td>Tiza Arellano</td>\n",
       "      <td>2015-05-29T00:14:48.748000</td>\n",
       "      <td>I love song ﻿</td>\n",
       "      <td>0</td>\n",
       "      <td>I love song</td>\n",
       "      <td>I love song ﻿</td>\n",
       "    </tr>\n",
       "    <tr>\n",
       "      <th>2</th>\n",
       "      <td>z12quxxp2vutflkxv04cihggzt2azl34pms0k</td>\n",
       "      <td>Prìñçeśś Âliś Łøvê Dømíñø Mâđiś™ ﻿</td>\n",
       "      <td>2015-05-28T21:00:08.607000</td>\n",
       "      <td>I love song ﻿</td>\n",
       "      <td>0</td>\n",
       "      <td>I love song</td>\n",
       "      <td>I love song ﻿</td>\n",
       "    </tr>\n",
       "  </tbody>\n",
       "</table>\n",
       "</div>"
      ],
      "text/plain": [
       "                              COMMENT_ID                              AUTHOR  \\\n",
       "0    z13lgffb5w3ddx1ul22qy1wxspy5cpkz504                          dharma pal   \n",
       "1      z123dbgb0mqjfxbtz22ucjc5jvzcv3ykj                       Tiza Arellano   \n",
       "2  z12quxxp2vutflkxv04cihggzt2azl34pms0k  Prìñçeśś Âliś Łøvê Dømíñø Mâđiś™ ﻿   \n",
       "\n",
       "                         DATE        CONTENT  CLASS CLEANED_CONTENT  \\\n",
       "0  2015-05-29T02:30:18.971000     Nice song﻿      0       Nice song   \n",
       "1  2015-05-29T00:14:48.748000  I love song ﻿      0     I love song   \n",
       "2  2015-05-28T21:00:08.607000  I love song ﻿      0     I love song   \n",
       "\n",
       "            URLs  \n",
       "0     Nice song﻿  \n",
       "1  I love song ﻿  \n",
       "2  I love song ﻿  "
      ]
     },
     "execution_count": 10,
     "metadata": {},
     "output_type": "execute_result"
    }
   ],
   "source": [
    "shakira['URLs'] = shakira['CONTENT'].str.replace(r'(http[s]?\\S+)|(\\w+\\.[A-Za-z]{2,4}\\S*)','httpaddr')\n",
    "shakira.head(3)"
   ]
  },
  {
   "cell_type": "code",
   "execution_count": 11,
   "metadata": {},
   "outputs": [
    {
     "name": "stdout",
     "output_type": "stream",
     "text": [
      "Number of comments that contain URLs: 40\n",
      "Total number of comments: 369\n"
     ]
    }
   ],
   "source": [
    "url = shakira[shakira['URLs'].str.contains('httpaddr')]\n",
    "print('Number of comments that contain URLs:', url.shape[0]) #number of comments that contain urls\n",
    "print('Total number of comments:', shakira.shape[0]) #total number of comments"
   ]
  },
  {
   "cell_type": "code",
   "execution_count": 12,
   "metadata": {},
   "outputs": [],
   "source": [
    "nonspam_comments = shakira.loc[(shakira['CLASS'] == 0)]\n",
    "spam_comments = shakira.loc[(shakira['CLASS']==1)]"
   ]
  },
  {
   "cell_type": "code",
   "execution_count": 13,
   "metadata": {},
   "outputs": [
    {
     "name": "stdout",
     "output_type": "stream",
     "text": [
      "Number of spam comments that contain urls: 38\n",
      "Number of non-spam comments that contain urls: 2\n"
     ]
    }
   ],
   "source": [
    "spam_url = spam_comments[spam_comments['URLs'].str.contains('httpaddr')]\n",
    "print('Number of spam comments that contain urls:',spam_url.shape[0]) #number of spam comments that contain urls\n",
    "\n",
    "nonspam_url = nonspam_comments[nonspam_comments['URLs'].str.contains('httpaddr')]\n",
    "print('Number of non-spam comments that contain urls:', nonspam_url.shape[0]) # number of non-spam comments that contain urls"
   ]
  },
  {
   "cell_type": "markdown",
   "metadata": {},
   "source": [
    "There is a total of 40 comments that contain URLs, 38 of them are identified as spam comments were as only 2 are part of the non-spam class."
   ]
  },
  {
   "cell_type": "markdown",
   "metadata": {},
   "source": [
    "# Text Preprocessing"
   ]
  },
  {
   "cell_type": "code",
   "execution_count": 90,
   "metadata": {},
   "outputs": [
    {
     "data": {
      "text/html": [
       "<div>\n",
       "<style scoped>\n",
       "    .dataframe tbody tr th:only-of-type {\n",
       "        vertical-align: middle;\n",
       "    }\n",
       "\n",
       "    .dataframe tbody tr th {\n",
       "        vertical-align: top;\n",
       "    }\n",
       "\n",
       "    .dataframe thead th {\n",
       "        text-align: right;\n",
       "    }\n",
       "</style>\n",
       "<table border=\"1\" class=\"dataframe\">\n",
       "  <thead>\n",
       "    <tr style=\"text-align: right;\">\n",
       "      <th></th>\n",
       "      <th>COMMENT_ID</th>\n",
       "      <th>AUTHOR</th>\n",
       "      <th>DATE</th>\n",
       "      <th>CONTENT</th>\n",
       "      <th>CLASS</th>\n",
       "      <th>CLEANED_CONTENT</th>\n",
       "    </tr>\n",
       "  </thead>\n",
       "  <tbody>\n",
       "    <tr>\n",
       "      <th>0</th>\n",
       "      <td>z13lgffb5w3ddx1ul22qy1wxspy5cpkz504</td>\n",
       "      <td>dharma pal</td>\n",
       "      <td>2015-05-29T02:30:18.971000</td>\n",
       "      <td>Nice song﻿</td>\n",
       "      <td>0</td>\n",
       "      <td>nice song﻿</td>\n",
       "    </tr>\n",
       "    <tr>\n",
       "      <th>1</th>\n",
       "      <td>z123dbgb0mqjfxbtz22ucjc5jvzcv3ykj</td>\n",
       "      <td>Tiza Arellano</td>\n",
       "      <td>2015-05-29T00:14:48.748000</td>\n",
       "      <td>I love song ﻿</td>\n",
       "      <td>0</td>\n",
       "      <td>i love song ﻿</td>\n",
       "    </tr>\n",
       "    <tr>\n",
       "      <th>2</th>\n",
       "      <td>z12quxxp2vutflkxv04cihggzt2azl34pms0k</td>\n",
       "      <td>Prìñçeśś Âliś Łøvê Dømíñø Mâđiś™ ﻿</td>\n",
       "      <td>2015-05-28T21:00:08.607000</td>\n",
       "      <td>I love song ﻿</td>\n",
       "      <td>0</td>\n",
       "      <td>i love song ﻿</td>\n",
       "    </tr>\n",
       "  </tbody>\n",
       "</table>\n",
       "</div>"
      ],
      "text/plain": [
       "                              COMMENT_ID                              AUTHOR  \\\n",
       "0    z13lgffb5w3ddx1ul22qy1wxspy5cpkz504                          dharma pal   \n",
       "1      z123dbgb0mqjfxbtz22ucjc5jvzcv3ykj                       Tiza Arellano   \n",
       "2  z12quxxp2vutflkxv04cihggzt2azl34pms0k  Prìñçeśś Âliś Łøvê Dømíñø Mâđiś™ ﻿   \n",
       "\n",
       "                         DATE        CONTENT  CLASS CLEANED_CONTENT  \n",
       "0  2015-05-29T02:30:18.971000     Nice song﻿      0      nice song﻿  \n",
       "1  2015-05-29T00:14:48.748000  I love song ﻿      0   i love song ﻿  \n",
       "2  2015-05-28T21:00:08.607000  I love song ﻿      0   i love song ﻿  "
      ]
     },
     "execution_count": 90,
     "metadata": {},
     "output_type": "execute_result"
    }
   ],
   "source": [
    "#Convert into lowercase\n",
    "shakira.loc[:,\"CLEANED_CONTENT\"] = shakira.CONTENT.apply(lambda x : str.lower(x))\n",
    "shakira.head(3)"
   ]
  },
  {
   "cell_type": "code",
   "execution_count": 91,
   "metadata": {},
   "outputs": [
    {
     "data": {
      "text/html": [
       "<div>\n",
       "<style scoped>\n",
       "    .dataframe tbody tr th:only-of-type {\n",
       "        vertical-align: middle;\n",
       "    }\n",
       "\n",
       "    .dataframe tbody tr th {\n",
       "        vertical-align: top;\n",
       "    }\n",
       "\n",
       "    .dataframe thead th {\n",
       "        text-align: right;\n",
       "    }\n",
       "</style>\n",
       "<table border=\"1\" class=\"dataframe\">\n",
       "  <thead>\n",
       "    <tr style=\"text-align: right;\">\n",
       "      <th></th>\n",
       "      <th>CONTENT</th>\n",
       "      <th>CLEANED_CONTENT</th>\n",
       "    </tr>\n",
       "  </thead>\n",
       "  <tbody>\n",
       "    <tr>\n",
       "      <th>0</th>\n",
       "      <td>Nice song﻿</td>\n",
       "      <td>nice song</td>\n",
       "    </tr>\n",
       "    <tr>\n",
       "      <th>1</th>\n",
       "      <td>I love song ﻿</td>\n",
       "      <td>i love song</td>\n",
       "    </tr>\n",
       "    <tr>\n",
       "      <th>2</th>\n",
       "      <td>I love song ﻿</td>\n",
       "      <td>i love song</td>\n",
       "    </tr>\n",
       "    <tr>\n",
       "      <th>3</th>\n",
       "      <td>860,000,000 lets make it first female to reach...</td>\n",
       "      <td>860 000 000 lets make it first female to reach...</td>\n",
       "    </tr>\n",
       "    <tr>\n",
       "      <th>4</th>\n",
       "      <td>shakira is best for worldcup﻿</td>\n",
       "      <td>shakira is best for worldcup</td>\n",
       "    </tr>\n",
       "    <tr>\n",
       "      <th>5</th>\n",
       "      <td>The best world cup song ever!!!!﻿</td>\n",
       "      <td>the best world cup song ever</td>\n",
       "    </tr>\n",
       "  </tbody>\n",
       "</table>\n",
       "</div>"
      ],
      "text/plain": [
       "                                             CONTENT  \\\n",
       "0                                         Nice song﻿   \n",
       "1                                      I love song ﻿   \n",
       "2                                      I love song ﻿   \n",
       "3  860,000,000 lets make it first female to reach...   \n",
       "4                      shakira is best for worldcup﻿   \n",
       "5                  The best world cup song ever!!!!﻿   \n",
       "\n",
       "                                     CLEANED_CONTENT  \n",
       "0                                          nice song  \n",
       "1                                        i love song  \n",
       "2                                        i love song  \n",
       "3  860 000 000 lets make it first female to reach...  \n",
       "4                       shakira is best for worldcup  \n",
       "5                       the best world cup song ever  "
      ]
     },
     "execution_count": 91,
     "metadata": {},
     "output_type": "execute_result"
    }
   ],
   "source": [
    "#Remove punctuation and emojis\n",
    "shakira.loc[:,\"CLEANED_CONTENT\"] = shakira.CLEANED_CONTENT.apply(lambda x : \" \".join(re.findall('[\\w]+',x)))\n",
    "shakira.head(6)[['CONTENT' ,'CLEANED_CONTENT']]"
   ]
  },
  {
   "cell_type": "code",
   "execution_count": 71,
   "metadata": {},
   "outputs": [
    {
     "name": "stdout",
     "output_type": "stream",
     "text": [
      "List of Stop Words: ['i', 'me', 'my', 'myself', 'we', 'our', 'ours', 'ourselves', 'you', \"you're\", \"you've\", \"you'll\", \"you'd\", 'your', 'yours', 'yourself', 'yourselves', 'he', 'him', 'his', 'himself', 'she', \"she's\", 'her', 'hers', 'herself', 'it', \"it's\", 'its', 'itself', 'they', 'them', 'their', 'theirs', 'themselves', 'what', 'which', 'who', 'whom', 'this', 'that', \"that'll\", 'these', 'those', 'am', 'is', 'are', 'was', 'were', 'be', 'been', 'being', 'have', 'has', 'had', 'having', 'do', 'does', 'did', 'doing', 'a', 'an', 'the', 'and', 'but', 'if', 'or', 'because', 'as', 'until', 'while', 'of', 'at', 'by', 'for', 'with', 'about', 'against', 'between', 'into', 'through', 'during', 'before', 'after', 'above', 'below', 'to', 'from', 'up', 'down', 'in', 'out', 'on', 'off', 'over', 'under', 'again', 'further', 'then', 'once', 'here', 'there', 'when', 'where', 'why', 'how', 'all', 'any', 'both', 'each', 'few', 'more', 'most', 'other', 'some', 'such', 'no', 'nor', 'not', 'only', 'own', 'same', 'so', 'than', 'too', 'very', 's', 't', 'can', 'will', 'just', 'don', \"don't\", 'should', \"should've\", 'now', 'd', 'll', 'm', 'o', 're', 've', 'y', 'ain', 'aren', \"aren't\", 'couldn', \"couldn't\", 'didn', \"didn't\", 'doesn', \"doesn't\", 'hadn', \"hadn't\", 'hasn', \"hasn't\", 'haven', \"haven't\", 'isn', \"isn't\", 'ma', 'mightn', \"mightn't\", 'mustn', \"mustn't\", 'needn', \"needn't\", 'shan', \"shan't\", 'shouldn', \"shouldn't\", 'wasn', \"wasn't\", 'weren', \"weren't\", 'won', \"won't\", 'wouldn', \"wouldn't\"]\n"
     ]
    },
    {
     "data": {
      "text/html": [
       "<div>\n",
       "<style scoped>\n",
       "    .dataframe tbody tr th:only-of-type {\n",
       "        vertical-align: middle;\n",
       "    }\n",
       "\n",
       "    .dataframe tbody tr th {\n",
       "        vertical-align: top;\n",
       "    }\n",
       "\n",
       "    .dataframe thead th {\n",
       "        text-align: right;\n",
       "    }\n",
       "</style>\n",
       "<table border=\"1\" class=\"dataframe\">\n",
       "  <thead>\n",
       "    <tr style=\"text-align: right;\">\n",
       "      <th></th>\n",
       "      <th>COMMENT_ID</th>\n",
       "      <th>AUTHOR</th>\n",
       "      <th>DATE</th>\n",
       "      <th>CONTENT</th>\n",
       "      <th>CLASS</th>\n",
       "      <th>CLEANED_CONTENT</th>\n",
       "    </tr>\n",
       "  </thead>\n",
       "  <tbody>\n",
       "    <tr>\n",
       "      <th>0</th>\n",
       "      <td>z13lgffb5w3ddx1ul22qy1wxspy5cpkz504</td>\n",
       "      <td>dharma pal</td>\n",
       "      <td>2015-05-29T02:30:18.971000</td>\n",
       "      <td>Nice song﻿</td>\n",
       "      <td>0</td>\n",
       "      <td>nice song</td>\n",
       "    </tr>\n",
       "    <tr>\n",
       "      <th>1</th>\n",
       "      <td>z123dbgb0mqjfxbtz22ucjc5jvzcv3ykj</td>\n",
       "      <td>Tiza Arellano</td>\n",
       "      <td>2015-05-29T00:14:48.748000</td>\n",
       "      <td>I love song ﻿</td>\n",
       "      <td>0</td>\n",
       "      <td>love song</td>\n",
       "    </tr>\n",
       "    <tr>\n",
       "      <th>2</th>\n",
       "      <td>z12quxxp2vutflkxv04cihggzt2azl34pms0k</td>\n",
       "      <td>Prìñçeśś Âliś Łøvê Dømíñø Mâđiś™ ﻿</td>\n",
       "      <td>2015-05-28T21:00:08.607000</td>\n",
       "      <td>I love song ﻿</td>\n",
       "      <td>0</td>\n",
       "      <td>love song</td>\n",
       "    </tr>\n",
       "    <tr>\n",
       "      <th>3</th>\n",
       "      <td>z12icv3ysqvlwth2c23eddlykyqut5z1h</td>\n",
       "      <td>Eric Gonzalez</td>\n",
       "      <td>2015-05-28T20:47:12.193000</td>\n",
       "      <td>860,000,000 lets make it first female to reach...</td>\n",
       "      <td>0</td>\n",
       "      <td>numbr numbr numbr lets make first female reach...</td>\n",
       "    </tr>\n",
       "    <tr>\n",
       "      <th>4</th>\n",
       "      <td>z133stly3kete3tly22petvwdpmghrlli</td>\n",
       "      <td>Analena López</td>\n",
       "      <td>2015-05-28T17:08:29.827000</td>\n",
       "      <td>shakira is best for worldcup﻿</td>\n",
       "      <td>0</td>\n",
       "      <td>shakira best worldcup</td>\n",
       "    </tr>\n",
       "  </tbody>\n",
       "</table>\n",
       "</div>"
      ],
      "text/plain": [
       "                              COMMENT_ID                              AUTHOR  \\\n",
       "0    z13lgffb5w3ddx1ul22qy1wxspy5cpkz504                          dharma pal   \n",
       "1      z123dbgb0mqjfxbtz22ucjc5jvzcv3ykj                       Tiza Arellano   \n",
       "2  z12quxxp2vutflkxv04cihggzt2azl34pms0k  Prìñçeśś Âliś Łøvê Dømíñø Mâđiś™ ﻿   \n",
       "3      z12icv3ysqvlwth2c23eddlykyqut5z1h                       Eric Gonzalez   \n",
       "4      z133stly3kete3tly22petvwdpmghrlli                       Analena López   \n",
       "\n",
       "                         DATE  \\\n",
       "0  2015-05-29T02:30:18.971000   \n",
       "1  2015-05-29T00:14:48.748000   \n",
       "2  2015-05-28T21:00:08.607000   \n",
       "3  2015-05-28T20:47:12.193000   \n",
       "4  2015-05-28T17:08:29.827000   \n",
       "\n",
       "                                             CONTENT  CLASS  \\\n",
       "0                                         Nice song﻿      0   \n",
       "1                                      I love song ﻿      0   \n",
       "2                                      I love song ﻿      0   \n",
       "3  860,000,000 lets make it first female to reach...      0   \n",
       "4                      shakira is best for worldcup﻿      0   \n",
       "\n",
       "                                     CLEANED_CONTENT  \n",
       "0                                          nice song  \n",
       "1                                          love song  \n",
       "2                                          love song  \n",
       "3  numbr numbr numbr lets make first female reach...  \n",
       "4                              shakira best worldcup  "
      ]
     },
     "execution_count": 71,
     "metadata": {},
     "output_type": "execute_result"
    }
   ],
   "source": [
    "#remove stop words\n",
    "from nltk.corpus import stopwords\n",
    "stop_words = stopwords.words('english')\n",
    "print('List of Stop Words:', stop_words)\n",
    "\n",
    "shakira['CLEANED_CONTENT'] = shakira.CLEANED_CONTENT.apply(lambda x: ' '.join([word for word in x.split() if word not in (stop_words)]))\n",
    "shakira.head(5)"
   ]
  },
  {
   "cell_type": "code",
   "execution_count": 16,
   "metadata": {},
   "outputs": [
    {
     "data": {
      "text/html": [
       "<div>\n",
       "<style scoped>\n",
       "    .dataframe tbody tr th:only-of-type {\n",
       "        vertical-align: middle;\n",
       "    }\n",
       "\n",
       "    .dataframe tbody tr th {\n",
       "        vertical-align: top;\n",
       "    }\n",
       "\n",
       "    .dataframe thead th {\n",
       "        text-align: right;\n",
       "    }\n",
       "</style>\n",
       "<table border=\"1\" class=\"dataframe\">\n",
       "  <thead>\n",
       "    <tr style=\"text-align: right;\">\n",
       "      <th></th>\n",
       "      <th>COMMENT_ID</th>\n",
       "      <th>AUTHOR</th>\n",
       "      <th>DATE</th>\n",
       "      <th>CONTENT</th>\n",
       "      <th>CLASS</th>\n",
       "      <th>CLEANED_CONTENT</th>\n",
       "    </tr>\n",
       "  </thead>\n",
       "  <tbody>\n",
       "    <tr>\n",
       "      <th>0</th>\n",
       "      <td>z13lgffb5w3ddx1ul22qy1wxspy5cpkz504</td>\n",
       "      <td>dharma pal</td>\n",
       "      <td>2015-05-29T02:30:18.971000</td>\n",
       "      <td>Nice song﻿</td>\n",
       "      <td>0</td>\n",
       "      <td>nice song</td>\n",
       "    </tr>\n",
       "    <tr>\n",
       "      <th>1</th>\n",
       "      <td>z123dbgb0mqjfxbtz22ucjc5jvzcv3ykj</td>\n",
       "      <td>Tiza Arellano</td>\n",
       "      <td>2015-05-29T00:14:48.748000</td>\n",
       "      <td>I love song ﻿</td>\n",
       "      <td>0</td>\n",
       "      <td>love song</td>\n",
       "    </tr>\n",
       "    <tr>\n",
       "      <th>2</th>\n",
       "      <td>z12quxxp2vutflkxv04cihggzt2azl34pms0k</td>\n",
       "      <td>Prìñçeśś Âliś Łøvê Dømíñø Mâđiś™ ﻿</td>\n",
       "      <td>2015-05-28T21:00:08.607000</td>\n",
       "      <td>I love song ﻿</td>\n",
       "      <td>0</td>\n",
       "      <td>love song</td>\n",
       "    </tr>\n",
       "  </tbody>\n",
       "</table>\n",
       "</div>"
      ],
      "text/plain": [
       "                              COMMENT_ID                              AUTHOR  \\\n",
       "0    z13lgffb5w3ddx1ul22qy1wxspy5cpkz504                          dharma pal   \n",
       "1      z123dbgb0mqjfxbtz22ucjc5jvzcv3ykj                       Tiza Arellano   \n",
       "2  z12quxxp2vutflkxv04cihggzt2azl34pms0k  Prìñçeśś Âliś Łøvê Dømíñø Mâđiś™ ﻿   \n",
       "\n",
       "                         DATE        CONTENT  CLASS CLEANED_CONTENT  \n",
       "0  2015-05-29T02:30:18.971000     Nice song﻿      0       nice song  \n",
       "1  2015-05-29T00:14:48.748000  I love song ﻿      0       love song  \n",
       "2  2015-05-28T21:00:08.607000  I love song ﻿      0       love song  "
      ]
     },
     "execution_count": 16,
     "metadata": {},
     "output_type": "execute_result"
    }
   ],
   "source": [
    "#Stemming\n",
    "import nltk\n",
    "porter = nltk.PorterStemmer()\n",
    "shakira['CLEANED_CONTENT'] = shakira.CLEANED_CONTENT.apply(lambda x: ' '.join(porter.stem(word) for word in x.split()))\n",
    "shakira.head(3)\n",
    "#converts youtube to youtub"
   ]
  },
  {
   "cell_type": "code",
   "execution_count": 92,
   "metadata": {},
   "outputs": [
    {
     "data": {
      "text/html": [
       "<div>\n",
       "<style scoped>\n",
       "    .dataframe tbody tr th:only-of-type {\n",
       "        vertical-align: middle;\n",
       "    }\n",
       "\n",
       "    .dataframe tbody tr th {\n",
       "        vertical-align: top;\n",
       "    }\n",
       "\n",
       "    .dataframe thead th {\n",
       "        text-align: right;\n",
       "    }\n",
       "</style>\n",
       "<table border=\"1\" class=\"dataframe\">\n",
       "  <thead>\n",
       "    <tr style=\"text-align: right;\">\n",
       "      <th></th>\n",
       "      <th>COMMENT_ID</th>\n",
       "      <th>AUTHOR</th>\n",
       "      <th>DATE</th>\n",
       "      <th>CONTENT</th>\n",
       "      <th>CLASS</th>\n",
       "      <th>CLEANED_CONTENT</th>\n",
       "    </tr>\n",
       "  </thead>\n",
       "  <tbody>\n",
       "    <tr>\n",
       "      <th>0</th>\n",
       "      <td>z13lgffb5w3ddx1ul22qy1wxspy5cpkz504</td>\n",
       "      <td>dharma pal</td>\n",
       "      <td>2015-05-29T02:30:18.971000</td>\n",
       "      <td>Nice song﻿</td>\n",
       "      <td>0</td>\n",
       "      <td>nice song</td>\n",
       "    </tr>\n",
       "    <tr>\n",
       "      <th>1</th>\n",
       "      <td>z123dbgb0mqjfxbtz22ucjc5jvzcv3ykj</td>\n",
       "      <td>Tiza Arellano</td>\n",
       "      <td>2015-05-29T00:14:48.748000</td>\n",
       "      <td>I love song ﻿</td>\n",
       "      <td>0</td>\n",
       "      <td>i love song</td>\n",
       "    </tr>\n",
       "    <tr>\n",
       "      <th>2</th>\n",
       "      <td>z12quxxp2vutflkxv04cihggzt2azl34pms0k</td>\n",
       "      <td>Prìñçeśś Âliś Łøvê Dømíñø Mâđiś™ ﻿</td>\n",
       "      <td>2015-05-28T21:00:08.607000</td>\n",
       "      <td>I love song ﻿</td>\n",
       "      <td>0</td>\n",
       "      <td>i love song</td>\n",
       "    </tr>\n",
       "  </tbody>\n",
       "</table>\n",
       "</div>"
      ],
      "text/plain": [
       "                              COMMENT_ID                              AUTHOR  \\\n",
       "0    z13lgffb5w3ddx1ul22qy1wxspy5cpkz504                          dharma pal   \n",
       "1      z123dbgb0mqjfxbtz22ucjc5jvzcv3ykj                       Tiza Arellano   \n",
       "2  z12quxxp2vutflkxv04cihggzt2azl34pms0k  Prìñçeśś Âliś Łøvê Dømíñø Mâđiś™ ﻿   \n",
       "\n",
       "                         DATE        CONTENT  CLASS CLEANED_CONTENT  \n",
       "0  2015-05-29T02:30:18.971000     Nice song﻿      0       nice song  \n",
       "1  2015-05-29T00:14:48.748000  I love song ﻿      0     i love song  \n",
       "2  2015-05-28T21:00:08.607000  I love song ﻿      0     i love song  "
      ]
     },
     "execution_count": 92,
     "metadata": {},
     "output_type": "execute_result"
    }
   ],
   "source": [
    "# normalization simplify websites\n",
    "shakira['CLEANED_CONTENT'] = shakira['CLEANED_CONTENT'].str.replace(r'(http[s]?\\S+)|(\\w+\\.[A-Za-z]{2,4}\\S*)','httpaddr')\n",
    "shakira.head(3)"
   ]
  },
  {
   "cell_type": "code",
   "execution_count": 93,
   "metadata": {},
   "outputs": [
    {
     "data": {
      "text/html": [
       "<div>\n",
       "<style scoped>\n",
       "    .dataframe tbody tr th:only-of-type {\n",
       "        vertical-align: middle;\n",
       "    }\n",
       "\n",
       "    .dataframe tbody tr th {\n",
       "        vertical-align: top;\n",
       "    }\n",
       "\n",
       "    .dataframe thead th {\n",
       "        text-align: right;\n",
       "    }\n",
       "</style>\n",
       "<table border=\"1\" class=\"dataframe\">\n",
       "  <thead>\n",
       "    <tr style=\"text-align: right;\">\n",
       "      <th></th>\n",
       "      <th>COMMENT_ID</th>\n",
       "      <th>AUTHOR</th>\n",
       "      <th>DATE</th>\n",
       "      <th>CONTENT</th>\n",
       "      <th>CLASS</th>\n",
       "      <th>CLEANED_CONTENT</th>\n",
       "    </tr>\n",
       "  </thead>\n",
       "  <tbody>\n",
       "    <tr>\n",
       "      <th>0</th>\n",
       "      <td>z13lgffb5w3ddx1ul22qy1wxspy5cpkz504</td>\n",
       "      <td>dharma pal</td>\n",
       "      <td>2015-05-29T02:30:18.971000</td>\n",
       "      <td>Nice song﻿</td>\n",
       "      <td>0</td>\n",
       "      <td>nice song</td>\n",
       "    </tr>\n",
       "    <tr>\n",
       "      <th>1</th>\n",
       "      <td>z123dbgb0mqjfxbtz22ucjc5jvzcv3ykj</td>\n",
       "      <td>Tiza Arellano</td>\n",
       "      <td>2015-05-29T00:14:48.748000</td>\n",
       "      <td>I love song ﻿</td>\n",
       "      <td>0</td>\n",
       "      <td>i love song</td>\n",
       "    </tr>\n",
       "    <tr>\n",
       "      <th>2</th>\n",
       "      <td>z12quxxp2vutflkxv04cihggzt2azl34pms0k</td>\n",
       "      <td>Prìñçeśś Âliś Łøvê Dømíñø Mâđiś™ ﻿</td>\n",
       "      <td>2015-05-28T21:00:08.607000</td>\n",
       "      <td>I love song ﻿</td>\n",
       "      <td>0</td>\n",
       "      <td>i love song</td>\n",
       "    </tr>\n",
       "  </tbody>\n",
       "</table>\n",
       "</div>"
      ],
      "text/plain": [
       "                              COMMENT_ID                              AUTHOR  \\\n",
       "0    z13lgffb5w3ddx1ul22qy1wxspy5cpkz504                          dharma pal   \n",
       "1      z123dbgb0mqjfxbtz22ucjc5jvzcv3ykj                       Tiza Arellano   \n",
       "2  z12quxxp2vutflkxv04cihggzt2azl34pms0k  Prìñçeśś Âliś Łøvê Dømíñø Mâđiś™ ﻿   \n",
       "\n",
       "                         DATE        CONTENT  CLASS CLEANED_CONTENT  \n",
       "0  2015-05-29T02:30:18.971000     Nice song﻿      0       nice song  \n",
       "1  2015-05-29T00:14:48.748000  I love song ﻿      0     i love song  \n",
       "2  2015-05-28T21:00:08.607000  I love song ﻿      0     i love song  "
      ]
     },
     "execution_count": 93,
     "metadata": {},
     "output_type": "execute_result"
    }
   ],
   "source": [
    "# normalization simplify numbers\n",
    "shakira['CLEANED_CONTENT'] = shakira['CLEANED_CONTENT'].str.replace(r'\\d+(\\.\\d+)?', 'numbr')\n",
    "shakira.head(3)"
   ]
  },
  {
   "cell_type": "code",
   "execution_count": 94,
   "metadata": {},
   "outputs": [
    {
     "data": {
      "text/html": [
       "<div>\n",
       "<style scoped>\n",
       "    .dataframe tbody tr th:only-of-type {\n",
       "        vertical-align: middle;\n",
       "    }\n",
       "\n",
       "    .dataframe tbody tr th {\n",
       "        vertical-align: top;\n",
       "    }\n",
       "\n",
       "    .dataframe thead th {\n",
       "        text-align: right;\n",
       "    }\n",
       "</style>\n",
       "<table border=\"1\" class=\"dataframe\">\n",
       "  <thead>\n",
       "    <tr style=\"text-align: right;\">\n",
       "      <th></th>\n",
       "      <th>COMMENT_ID</th>\n",
       "      <th>AUTHOR</th>\n",
       "      <th>DATE</th>\n",
       "      <th>CONTENT</th>\n",
       "      <th>CLASS</th>\n",
       "      <th>CLEANED_CONTENT</th>\n",
       "    </tr>\n",
       "  </thead>\n",
       "  <tbody>\n",
       "    <tr>\n",
       "      <th>0</th>\n",
       "      <td>z13lgffb5w3ddx1ul22qy1wxspy5cpkz504</td>\n",
       "      <td>dharma pal</td>\n",
       "      <td>2015-05-29T02:30:18.971000</td>\n",
       "      <td>Nice song﻿</td>\n",
       "      <td>0</td>\n",
       "      <td>nice song</td>\n",
       "    </tr>\n",
       "    <tr>\n",
       "      <th>1</th>\n",
       "      <td>z123dbgb0mqjfxbtz22ucjc5jvzcv3ykj</td>\n",
       "      <td>Tiza Arellano</td>\n",
       "      <td>2015-05-29T00:14:48.748000</td>\n",
       "      <td>I love song ﻿</td>\n",
       "      <td>0</td>\n",
       "      <td>i love song</td>\n",
       "    </tr>\n",
       "    <tr>\n",
       "      <th>2</th>\n",
       "      <td>z12quxxp2vutflkxv04cihggzt2azl34pms0k</td>\n",
       "      <td>Prìñçeśś Âliś Łøvê Dømíñø Mâđiś™ ﻿</td>\n",
       "      <td>2015-05-28T21:00:08.607000</td>\n",
       "      <td>I love song ﻿</td>\n",
       "      <td>0</td>\n",
       "      <td>i love song</td>\n",
       "    </tr>\n",
       "  </tbody>\n",
       "</table>\n",
       "</div>"
      ],
      "text/plain": [
       "                              COMMENT_ID                              AUTHOR  \\\n",
       "0    z13lgffb5w3ddx1ul22qy1wxspy5cpkz504                          dharma pal   \n",
       "1      z123dbgb0mqjfxbtz22ucjc5jvzcv3ykj                       Tiza Arellano   \n",
       "2  z12quxxp2vutflkxv04cihggzt2azl34pms0k  Prìñçeśś Âliś Łøvê Dømíñø Mâđiś™ ﻿   \n",
       "\n",
       "                         DATE        CONTENT  CLASS CLEANED_CONTENT  \n",
       "0  2015-05-29T02:30:18.971000     Nice song﻿      0       nice song  \n",
       "1  2015-05-29T00:14:48.748000  I love song ﻿      0     i love song  \n",
       "2  2015-05-28T21:00:08.607000  I love song ﻿      0     i love song  "
      ]
     },
     "execution_count": 94,
     "metadata": {},
     "output_type": "execute_result"
    }
   ],
   "source": [
    "#Fix spelling/slang for some words\n",
    "shakira['CLEANED_CONTENT'] = shakira['CLEANED_CONTENT'].str.replace(r'gooo+', 'goo')\n",
    "#shakira['CLEANED_CONTENT'] = shakira['CLEANED_CONTENT'].str.replace(r'luv', 'love') no luv in text\n",
    "#can fix itttttttt \n",
    "shakira.head(3)"
   ]
  },
  {
   "cell_type": "code",
   "execution_count": 95,
   "metadata": {},
   "outputs": [
    {
     "data": {
      "text/html": [
       "<div>\n",
       "<style scoped>\n",
       "    .dataframe tbody tr th:only-of-type {\n",
       "        vertical-align: middle;\n",
       "    }\n",
       "\n",
       "    .dataframe tbody tr th {\n",
       "        vertical-align: top;\n",
       "    }\n",
       "\n",
       "    .dataframe thead th {\n",
       "        text-align: right;\n",
       "    }\n",
       "</style>\n",
       "<table border=\"1\" class=\"dataframe\">\n",
       "  <thead>\n",
       "    <tr style=\"text-align: right;\">\n",
       "      <th></th>\n",
       "      <th>COMMENT_ID</th>\n",
       "      <th>AUTHOR</th>\n",
       "      <th>DATE</th>\n",
       "      <th>CONTENT</th>\n",
       "      <th>CLASS</th>\n",
       "      <th>CLEANED_CONTENT</th>\n",
       "    </tr>\n",
       "  </thead>\n",
       "  <tbody>\n",
       "    <tr>\n",
       "      <th>0</th>\n",
       "      <td>z13lgffb5w3ddx1ul22qy1wxspy5cpkz504</td>\n",
       "      <td>dharma pal</td>\n",
       "      <td>2015-05-29T02:30:18.971000</td>\n",
       "      <td>Nice song﻿</td>\n",
       "      <td>0</td>\n",
       "      <td>nice song</td>\n",
       "    </tr>\n",
       "    <tr>\n",
       "      <th>1</th>\n",
       "      <td>z123dbgb0mqjfxbtz22ucjc5jvzcv3ykj</td>\n",
       "      <td>Tiza Arellano</td>\n",
       "      <td>2015-05-29T00:14:48.748000</td>\n",
       "      <td>I love song ﻿</td>\n",
       "      <td>0</td>\n",
       "      <td>i love song</td>\n",
       "    </tr>\n",
       "    <tr>\n",
       "      <th>2</th>\n",
       "      <td>z12quxxp2vutflkxv04cihggzt2azl34pms0k</td>\n",
       "      <td>Prìñçeśś Âliś Łøvê Dømíñø Mâđiś™ ﻿</td>\n",
       "      <td>2015-05-28T21:00:08.607000</td>\n",
       "      <td>I love song ﻿</td>\n",
       "      <td>0</td>\n",
       "      <td>i love song</td>\n",
       "    </tr>\n",
       "  </tbody>\n",
       "</table>\n",
       "</div>"
      ],
      "text/plain": [
       "                              COMMENT_ID                              AUTHOR  \\\n",
       "0    z13lgffb5w3ddx1ul22qy1wxspy5cpkz504                          dharma pal   \n",
       "1      z123dbgb0mqjfxbtz22ucjc5jvzcv3ykj                       Tiza Arellano   \n",
       "2  z12quxxp2vutflkxv04cihggzt2azl34pms0k  Prìñçeśś Âliś Łøvê Dømíñø Mâđiś™ ﻿   \n",
       "\n",
       "                         DATE        CONTENT  CLASS CLEANED_CONTENT  \n",
       "0  2015-05-29T02:30:18.971000     Nice song﻿      0       nice song  \n",
       "1  2015-05-29T00:14:48.748000  I love song ﻿      0     i love song  \n",
       "2  2015-05-28T21:00:08.607000  I love song ﻿      0     i love song  "
      ]
     },
     "execution_count": 95,
     "metadata": {},
     "output_type": "execute_result"
    }
   ],
   "source": [
    "#Remove whitespace at the beginning or end of a line\n",
    "shakira['CLEANED_CONTENT'] = shakira.CLEANED_CONTENT.str.replace(r'\\s+', ' ')\n",
    "processed = shakira.CLEANED_CONTENT.str.replace(r'^\\s+|\\s+?$', '')\n",
    "shakira.head(3)"
   ]
  },
  {
   "cell_type": "code",
   "execution_count": 73,
   "metadata": {},
   "outputs": [
    {
     "data": {
      "text/html": [
       "<div>\n",
       "<style scoped>\n",
       "    .dataframe tbody tr th:only-of-type {\n",
       "        vertical-align: middle;\n",
       "    }\n",
       "\n",
       "    .dataframe tbody tr th {\n",
       "        vertical-align: top;\n",
       "    }\n",
       "\n",
       "    .dataframe thead th {\n",
       "        text-align: right;\n",
       "    }\n",
       "</style>\n",
       "<table border=\"1\" class=\"dataframe\">\n",
       "  <thead>\n",
       "    <tr style=\"text-align: right;\">\n",
       "      <th></th>\n",
       "      <th>CONTENT</th>\n",
       "      <th>CLEANED_CONTENT</th>\n",
       "    </tr>\n",
       "  </thead>\n",
       "  <tbody>\n",
       "    <tr>\n",
       "      <th>0</th>\n",
       "      <td>Nice song﻿</td>\n",
       "      <td>nice song</td>\n",
       "    </tr>\n",
       "    <tr>\n",
       "      <th>1</th>\n",
       "      <td>I love song ﻿</td>\n",
       "      <td>love song</td>\n",
       "    </tr>\n",
       "    <tr>\n",
       "      <th>2</th>\n",
       "      <td>I love song ﻿</td>\n",
       "      <td>love song</td>\n",
       "    </tr>\n",
       "    <tr>\n",
       "      <th>3</th>\n",
       "      <td>860,000,000 lets make it first female to reach...</td>\n",
       "      <td>numbr numbr numbr let make first femal reach o...</td>\n",
       "    </tr>\n",
       "    <tr>\n",
       "      <th>4</th>\n",
       "      <td>shakira is best for worldcup﻿</td>\n",
       "      <td>shakira best worldcup</td>\n",
       "    </tr>\n",
       "    <tr>\n",
       "      <th>5</th>\n",
       "      <td>The best world cup song ever!!!!﻿</td>\n",
       "      <td>best world cup song ever</td>\n",
       "    </tr>\n",
       "    <tr>\n",
       "      <th>6</th>\n",
       "      <td>I love﻿</td>\n",
       "      <td>love</td>\n",
       "    </tr>\n",
       "    <tr>\n",
       "      <th>7</th>\n",
       "      <td>SEE SOME MORE SONG OPEN GOOGLE AND TYPE Shakir...</td>\n",
       "      <td>see song open googl type shakira guruofmovi</td>\n",
       "    </tr>\n",
       "    <tr>\n",
       "      <th>8</th>\n",
       "      <td>Awesome ﻿</td>\n",
       "      <td>awesom</td>\n",
       "    </tr>\n",
       "    <tr>\n",
       "      <th>9</th>\n",
       "      <td>I like shakira..﻿</td>\n",
       "      <td>like shakira</td>\n",
       "    </tr>\n",
       "    <tr>\n",
       "      <th>10</th>\n",
       "      <td>Shakira - Waka Waka &lt;br /&gt;LOVE THIS SONG!!!!!!...</td>\n",
       "      <td>shakira waka waka br love song</td>\n",
       "    </tr>\n",
       "    <tr>\n",
       "      <th>11</th>\n",
       "      <td>Why so many disliked??????!!!!!!😯﻿</td>\n",
       "      <td>mani dislik</td>\n",
       "    </tr>\n",
       "    <tr>\n",
       "      <th>12</th>\n",
       "      <td>I don&amp;#39;t think this song will ever get old ﻿</td>\n",
       "      <td>numbr think song ever get old</td>\n",
       "    </tr>\n",
       "    <tr>\n",
       "      <th>13</th>\n",
       "      <td>Love song﻿</td>\n",
       "      <td>love song</td>\n",
       "    </tr>\n",
       "    <tr>\n",
       "      <th>14</th>\n",
       "      <td>wery good﻿</td>\n",
       "      <td>weri good</td>\n",
       "    </tr>\n",
       "  </tbody>\n",
       "</table>\n",
       "</div>"
      ],
      "text/plain": [
       "                                              CONTENT  \\\n",
       "0                                          Nice song﻿   \n",
       "1                                       I love song ﻿   \n",
       "2                                       I love song ﻿   \n",
       "3   860,000,000 lets make it first female to reach...   \n",
       "4                       shakira is best for worldcup﻿   \n",
       "5                   The best world cup song ever!!!!﻿   \n",
       "6                                             I love﻿   \n",
       "7   SEE SOME MORE SONG OPEN GOOGLE AND TYPE Shakir...   \n",
       "8                                           Awesome ﻿   \n",
       "9                                   I like shakira..﻿   \n",
       "10  Shakira - Waka Waka <br />LOVE THIS SONG!!!!!!...   \n",
       "11                 Why so many disliked??????!!!!!!😯﻿   \n",
       "12    I don&#39;t think this song will ever get old ﻿   \n",
       "13                                         Love song﻿   \n",
       "14                                         wery good﻿   \n",
       "\n",
       "                                      CLEANED_CONTENT  \n",
       "0                                           nice song  \n",
       "1                                           love song  \n",
       "2                                           love song  \n",
       "3   numbr numbr numbr let make first femal reach o...  \n",
       "4                               shakira best worldcup  \n",
       "5                            best world cup song ever  \n",
       "6                                                love  \n",
       "7         see song open googl type shakira guruofmovi  \n",
       "8                                              awesom  \n",
       "9                                        like shakira  \n",
       "10                     shakira waka waka br love song  \n",
       "11                                        mani dislik  \n",
       "12                      numbr think song ever get old  \n",
       "13                                          love song  \n",
       "14                                          weri good  "
      ]
     },
     "execution_count": 73,
     "metadata": {},
     "output_type": "execute_result"
    }
   ],
   "source": [
    "shakira.head(15)[['CONTENT','CLEANED_CONTENT']]"
   ]
  },
  {
   "cell_type": "markdown",
   "metadata": {},
   "source": [
    "# Model - Prediction Results"
   ]
  },
  {
   "cell_type": "markdown",
   "metadata": {},
   "source": [
    "## Splitting Data"
   ]
  },
  {
   "cell_type": "code",
   "execution_count": 4,
   "metadata": {},
   "outputs": [],
   "source": [
    "from sklearn.model_selection import train_test_split\n",
    "X_train, X_test, y_train, y_test = train_test_split(shakira.CONTENT,shakira.CLASS, test_size=0.30, random_state =100)"
   ]
  },
  {
   "cell_type": "code",
   "execution_count": 77,
   "metadata": {},
   "outputs": [],
   "source": [
    "Xc_train, Xc_test, yc_train, yc_test = train_test_split(shakira.CLEANED_CONTENT,shakira.CLASS, test_size=0.30, random_state = 101)"
   ]
  },
  {
   "cell_type": "code",
   "execution_count": 126,
   "metadata": {},
   "outputs": [],
   "source": [
    "#no stemming or stop-word removal\n",
    "Xs_train, Xs_test, ys_train, ys_test = train_test_split(shakira.CLEANED_CONTENT,shakira.CLASS, test_size=0.30, random_state = 12)"
   ]
  },
  {
   "cell_type": "markdown",
   "metadata": {},
   "source": [
    "## TF-IDF vs Bag-of-Words"
   ]
  },
  {
   "cell_type": "markdown",
   "metadata": {},
   "source": [
    "Before beginning the models, I wanted to test whether TF-IDF or Bag-of-Words (BoW) would be more appropriate for representing the text data. BoW focused solely on term frequency while TF-IDF puts more weight on words that occur infrequently."
   ]
  },
  {
   "cell_type": "code",
   "execution_count": 21,
   "metadata": {},
   "outputs": [],
   "source": [
    "from sklearn.feature_extraction.text import CountVectorizer\n",
    "v = CountVectorizer()\n",
    "X_train_count = v.fit_transform(Xc_train.values)"
   ]
  },
  {
   "cell_type": "code",
   "execution_count": 22,
   "metadata": {},
   "outputs": [
    {
     "data": {
      "text/plain": [
       "TfidfTransformer()"
      ]
     },
     "execution_count": 22,
     "metadata": {},
     "output_type": "execute_result"
    }
   ],
   "source": [
    "from sklearn.feature_extraction.text import TfidfTransformer \n",
    "tfidf_transformer=TfidfTransformer(smooth_idf=True,use_idf=True) \n",
    "tfidf_transformer.fit(X_train_count)"
   ]
  },
  {
   "cell_type": "code",
   "execution_count": 23,
   "metadata": {
    "scrolled": true
   },
   "outputs": [
    {
     "data": {
      "text/html": [
       "<div>\n",
       "<style scoped>\n",
       "    .dataframe tbody tr th:only-of-type {\n",
       "        vertical-align: middle;\n",
       "    }\n",
       "\n",
       "    .dataframe tbody tr th {\n",
       "        vertical-align: top;\n",
       "    }\n",
       "\n",
       "    .dataframe thead th {\n",
       "        text-align: right;\n",
       "    }\n",
       "</style>\n",
       "<table border=\"1\" class=\"dataframe\">\n",
       "  <thead>\n",
       "    <tr style=\"text-align: right;\">\n",
       "      <th></th>\n",
       "      <th>idf_weights</th>\n",
       "    </tr>\n",
       "  </thead>\n",
       "  <tbody>\n",
       "    <tr>\n",
       "      <th>numbr</th>\n",
       "      <td>2.266369</td>\n",
       "    </tr>\n",
       "    <tr>\n",
       "      <th>song</th>\n",
       "      <td>2.531476</td>\n",
       "    </tr>\n",
       "    <tr>\n",
       "      <th>check</th>\n",
       "      <td>2.605584</td>\n",
       "    </tr>\n",
       "    <tr>\n",
       "      <th>love</th>\n",
       "      <td>2.893266</td>\n",
       "    </tr>\n",
       "    <tr>\n",
       "      <th>shakira</th>\n",
       "      <td>3.001480</td>\n",
       "    </tr>\n",
       "    <tr>\n",
       "      <th>subscrib</th>\n",
       "      <td>3.091092</td>\n",
       "    </tr>\n",
       "    <tr>\n",
       "      <th>money</th>\n",
       "      <td>3.155631</td>\n",
       "    </tr>\n",
       "    <tr>\n",
       "      <th>make</th>\n",
       "      <td>3.260991</td>\n",
       "    </tr>\n",
       "    <tr>\n",
       "      <th>pleas</th>\n",
       "      <td>3.298732</td>\n",
       "    </tr>\n",
       "    <tr>\n",
       "      <th>like</th>\n",
       "      <td>3.298732</td>\n",
       "    </tr>\n",
       "  </tbody>\n",
       "</table>\n",
       "</div>"
      ],
      "text/plain": [
       "          idf_weights\n",
       "numbr        2.266369\n",
       "song         2.531476\n",
       "check        2.605584\n",
       "love         2.893266\n",
       "shakira      3.001480\n",
       "subscrib     3.091092\n",
       "money        3.155631\n",
       "make         3.260991\n",
       "pleas        3.298732\n",
       "like         3.298732"
      ]
     },
     "execution_count": 23,
     "metadata": {},
     "output_type": "execute_result"
    }
   ],
   "source": [
    "# print idf values \n",
    "df_idf = pd.DataFrame(tfidf_transformer.idf_, index=v.get_feature_names(),columns=[\"idf_weights\"]) \n",
    " \n",
    "# sort ascending \n",
    "df_idf.sort_values(by=['idf_weights'], ascending = True).head(10)"
   ]
  },
  {
   "cell_type": "markdown",
   "metadata": {},
   "source": [
    "Based on testing with TF-IDF and exploratory analysis results from the word clouds, the words that were given lower IDF scores were words that occurred frequently in either the spam or ham class and although IDF did not see it as important, it was important to distinguishing between classes. For instance, the words “song”, “love” and “Shakira” were among the 10 most frequent words used in the Ham class, however they were also the top 10 lowest IDF scores. On the other hand, the words “check”, “subscribe”, “money” and “please” were among the 10 most frequent words used in the Spam comment but also received the top 10 lowest IDF scores. Therefore, these words are valuable to distinguish the classes but are suppressed by IDF, therefore I chose to use BoW for modelling. "
   ]
  },
  {
   "cell_type": "markdown",
   "metadata": {},
   "source": [
    "## Modelling - Uncleaned Data"
   ]
  },
  {
   "cell_type": "markdown",
   "metadata": {},
   "source": [
    "### Multinominal Naïve Bayes"
   ]
  },
  {
   "cell_type": "code",
   "execution_count": 7,
   "metadata": {},
   "outputs": [],
   "source": [
    "clf_umn = Pipeline([\n",
    "    ('vectorizer', CountVectorizer()), #convert text to countvectorizer\n",
    "    ('nb', MultinomialNB()) #then apply multinomal naive bayes\n",
    "])"
   ]
  },
  {
   "cell_type": "code",
   "execution_count": 8,
   "metadata": {},
   "outputs": [
    {
     "data": {
      "text/plain": [
       "{'fit_time': array([0.26566315, 0.0059855 , 0.00695634]),\n",
       " 'score_time': array([0.03974986, 0.00498629, 0.00503802]),\n",
       " 'test_accuracy': array([0.94186047, 0.88372093, 0.96511628]),\n",
       " 'test_recall': array([0.9       , 0.85      , 0.92682927]),\n",
       " 'test_precision': array([0.97297297, 0.89473684, 1.        ]),\n",
       " 'test_f1': array([0.93506494, 0.87179487, 0.96202532])}"
      ]
     },
     "execution_count": 8,
     "metadata": {},
     "output_type": "execute_result"
    }
   ],
   "source": [
    "scoring = {'accuracy': 'accuracy',\n",
    "           'recall': 'recall',\n",
    "           'precision': 'precision',\n",
    "           'f1': 'f1'}\n",
    "cross_val_scores_umn = cross_validate(clf_umn, X_train, y_train, cv=3, scoring=scoring)\n",
    "cross_val_scores_umn"
   ]
  },
  {
   "cell_type": "markdown",
   "metadata": {},
   "source": [
    "### Gaussian Naïve Bayes"
   ]
  },
  {
   "cell_type": "code",
   "execution_count": 9,
   "metadata": {},
   "outputs": [],
   "source": [
    "clf_ug = Pipeline([\n",
    "    ('vect', CountVectorizer()),\n",
    "    ('to_dense', DenseTransformer()),\n",
    "    ('clf', GaussianNB())   \n",
    "])"
   ]
  },
  {
   "cell_type": "code",
   "execution_count": 10,
   "metadata": {},
   "outputs": [
    {
     "data": {
      "text/plain": [
       "{'fit_time': array([0.0176363 , 0.01396465, 0.01296782]),\n",
       " 'score_time': array([0.01024985, 0.00798035, 0.01218009]),\n",
       " 'test_accuracy': array([0.95348837, 0.89534884, 0.89534884]),\n",
       " 'test_recall': array([0.975     , 0.975     , 0.92682927]),\n",
       " 'test_precision': array([0.92857143, 0.82978723, 0.86363636]),\n",
       " 'test_f1': array([0.95121951, 0.89655172, 0.89411765])}"
      ]
     },
     "execution_count": 10,
     "metadata": {},
     "output_type": "execute_result"
    }
   ],
   "source": [
    "cross_val_scores_ug = cross_validate(clf_ug, X_train, y_train, cv=3, scoring=scoring)\n",
    "cross_val_scores_ug"
   ]
  },
  {
   "cell_type": "markdown",
   "metadata": {},
   "source": [
    "##  Modelling - Cleaned Data"
   ]
  },
  {
   "cell_type": "markdown",
   "metadata": {},
   "source": [
    "### Multinominal Naïve Bayes"
   ]
  },
  {
   "cell_type": "code",
   "execution_count": 22,
   "metadata": {},
   "outputs": [],
   "source": [
    "clf_cmn = Pipeline([\n",
    "    ('vectorizer', CountVectorizer()), #convert text to countvectorizer\n",
    "    ('nb', MultinomialNB()) #then apply multinomal naive bayes\n",
    "])"
   ]
  },
  {
   "cell_type": "code",
   "execution_count": 23,
   "metadata": {},
   "outputs": [
    {
     "data": {
      "text/plain": [
       "{'fit_time': array([0.00900817, 0.0059824 , 0.00498414]),\n",
       " 'score_time': array([0.00598478, 0.00499105, 0.00498676]),\n",
       " 'test_accuracy': array([0.95348837, 0.94186047, 0.94186047]),\n",
       " 'test_recall': array([0.97435897, 0.875     , 0.925     ]),\n",
       " 'test_precision': array([0.92682927, 1.        , 0.94871795]),\n",
       " 'test_f1': array([0.95      , 0.93333333, 0.93670886])}"
      ]
     },
     "execution_count": 23,
     "metadata": {},
     "output_type": "execute_result"
    }
   ],
   "source": [
    "cross_val_scores_cmn = cross_validate(clf_cmn, Xc_train, yc_train, cv=3, scoring=scoring)\n",
    "cross_val_scores_cmn"
   ]
  },
  {
   "cell_type": "markdown",
   "metadata": {},
   "source": [
    "### Gaussian Naïve Bayes"
   ]
  },
  {
   "cell_type": "code",
   "execution_count": 25,
   "metadata": {},
   "outputs": [],
   "source": [
    "clf_cg = Pipeline([\n",
    "    ('vect', CountVectorizer()),\n",
    "    ('to_dense', DenseTransformer()),\n",
    "    ('clf', GaussianNB())   \n",
    "])"
   ]
  },
  {
   "cell_type": "code",
   "execution_count": 26,
   "metadata": {},
   "outputs": [
    {
     "data": {
      "text/plain": [
       "{'fit_time': array([0.01354432, 0.01097727, 0.00698757]),\n",
       " 'score_time': array([0.00852513, 0.00797462, 0.00797105]),\n",
       " 'test_accuracy': array([0.89534884, 0.91860465, 0.94186047]),\n",
       " 'test_recall': array([1.   , 0.925, 0.975]),\n",
       " 'test_precision': array([0.8125    , 0.90243902, 0.90697674]),\n",
       " 'test_f1': array([0.89655172, 0.91358025, 0.93975904])}"
      ]
     },
     "execution_count": 26,
     "metadata": {},
     "output_type": "execute_result"
    }
   ],
   "source": [
    "cross_val_scores_cg = cross_validate(clf_cg, Xc_train, yc_train, cv=3, scoring=scoring)\n",
    "cross_val_scores_cg"
   ]
  },
  {
   "cell_type": "markdown",
   "metadata": {},
   "source": [
    "## Improving the Model"
   ]
  },
  {
   "cell_type": "markdown",
   "metadata": {},
   "source": [
    "The main objective of cleaning the text data is to remove data which is redundant and which does not provide useful information regarding correctly classifying the comments. However when comparing the results with the clean and uncleaned text data above, the uncleaned text data tended to perform better. It can be said that completely cleaning the text data results in a loss in important information for classifying the comments. After not cleaning the data results in many features and the classifier could take too long to train especially if applied to filtering thousands of comments.\n",
    "\n",
    "As a way to improve the results with cleaned text data. I only applied punctuation/emoji removal, removed whitespaces, converted to lowercase and simplified websites and numbers. No stemming and stop-word removal were performed. The results are shown below."
   ]
  },
  {
   "cell_type": "code",
   "execution_count": 35,
   "metadata": {},
   "outputs": [],
   "source": [
    "clf_nb = Pipeline([\n",
    "    ('vectorizer', CountVectorizer()),\n",
    "    ('nb', MultinomialNB())\n",
    "])"
   ]
  },
  {
   "cell_type": "code",
   "execution_count": 36,
   "metadata": {},
   "outputs": [
    {
     "data": {
      "text/plain": [
       "{'fit_time': array([0.01209116, 0.00697994, 0.00797391]),\n",
       " 'score_time': array([0.00586104, 0.00598454, 0.00598621]),\n",
       " 'test_accuracy': array([0.94186047, 0.93023256, 0.94186047]),\n",
       " 'test_recall': array([0.95238095, 0.92857143, 0.97619048]),\n",
       " 'test_precision': array([0.93023256, 0.92857143, 0.91111111]),\n",
       " 'test_f1': array([0.94117647, 0.92857143, 0.94252874])}"
      ]
     },
     "execution_count": 36,
     "metadata": {},
     "output_type": "execute_result"
    }
   ],
   "source": [
    "cross_val_scores_nb = cross_validate(clf_nb, Xs_train, ys_train, cv=3, scoring=scoring)\n",
    "cross_val_scores_nb"
   ]
  },
  {
   "cell_type": "markdown",
   "metadata": {},
   "source": [
    "### Gaussian Naive Bayes"
   ]
  },
  {
   "cell_type": "code",
   "execution_count": 127,
   "metadata": {},
   "outputs": [],
   "source": [
    "clf_ng = Pipeline([\n",
    "    ('vectorizer', CountVectorizer()),\n",
    "    ('to_dense', DenseTransformer()),\n",
    "    ('nb', GaussianNB())\n",
    "])"
   ]
  },
  {
   "cell_type": "code",
   "execution_count": 38,
   "metadata": {},
   "outputs": [
    {
     "data": {
      "text/plain": [
       "{'fit_time': array([0.01495981, 0.00997305, 0.00997305]),\n",
       " 'score_time': array([0.00897622, 0.00700998, 0.00891924]),\n",
       " 'test_accuracy': array([0.88372093, 0.86046512, 0.86046512]),\n",
       " 'test_recall': array([1.        , 0.92857143, 1.        ]),\n",
       " 'test_precision': array([0.80769231, 0.8125    , 0.77777778]),\n",
       " 'test_f1': array([0.89361702, 0.86666667, 0.875     ])}"
      ]
     },
     "execution_count": 38,
     "metadata": {},
     "output_type": "execute_result"
    }
   ],
   "source": [
    "cross_val_scores_ng = cross_validate(clf_ng, Xs_train, ys_train, cv=3, scoring=scoring)\n",
    "cross_val_scores_ng"
   ]
  },
  {
   "cell_type": "markdown",
   "metadata": {},
   "source": [
    "## Final Model Test Set"
   ]
  },
  {
   "cell_type": "markdown",
   "metadata": {},
   "source": [
    "### Multinomial Fully Cleaned Model"
   ]
  },
  {
   "cell_type": "code",
   "execution_count": 77,
   "metadata": {},
   "outputs": [
    {
     "data": {
      "text/plain": [
       "Pipeline(steps=[('vectorizer', CountVectorizer()), ('nb', MultinomialNB())])"
      ]
     },
     "execution_count": 77,
     "metadata": {},
     "output_type": "execute_result"
    }
   ],
   "source": [
    "clf_cmn.fit(Xc_train, yc_train)"
   ]
  },
  {
   "cell_type": "code",
   "execution_count": 78,
   "metadata": {},
   "outputs": [
    {
     "data": {
      "text/plain": [
       "array([[53,  5],\n",
       "       [ 2, 51]], dtype=int64)"
      ]
     },
     "execution_count": 78,
     "metadata": {},
     "output_type": "execute_result"
    }
   ],
   "source": [
    "y_pred_cmn=clf_cmn.predict(Xc_test)\n",
    "confusion_matrix(yc_test, y_pred_cmn)"
   ]
  },
  {
   "cell_type": "code",
   "execution_count": 79,
   "metadata": {},
   "outputs": [
    {
     "name": "stdout",
     "output_type": "stream",
     "text": [
      "Accuracy: 0.9369369369369369\n",
      "F1-Score: 0.9369676569481716\n"
     ]
    }
   ],
   "source": [
    "print(\"Accuracy:\", clf_cmn.score(Xc_test, yc_test))\n",
    "print(\"F1-Score:\", f1_score(yc_test, y_pred_cmn, average='weighted'))"
   ]
  }
 ],
 "metadata": {
  "kernelspec": {
   "display_name": "Python 3",
   "language": "python",
   "name": "python3"
  },
  "language_info": {
   "codemirror_mode": {
    "name": "ipython",
    "version": 3
   },
   "file_extension": ".py",
   "mimetype": "text/x-python",
   "name": "python",
   "nbconvert_exporter": "python",
   "pygments_lexer": "ipython3",
   "version": "3.7.1"
  }
 },
 "nbformat": 4,
 "nbformat_minor": 4
}
